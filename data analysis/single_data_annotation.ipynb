{
  "nbformat": 4,
  "nbformat_minor": 0,
  "metadata": {
    "colab": {
      "provenance": []
    },
    "kernelspec": {
      "name": "python3",
      "display_name": "Python 3"
    },
    "language_info": {
      "name": "python"
    },
    "widgets": {
      "application/vnd.jupyter.widget-state+json": {
        "926186e645244e2f9dda40abc63f67a7": {
          "model_module": "@jupyter-widgets/controls",
          "model_name": "HBoxModel",
          "model_module_version": "1.5.0",
          "state": {
            "_dom_classes": [],
            "_model_module": "@jupyter-widgets/controls",
            "_model_module_version": "1.5.0",
            "_model_name": "HBoxModel",
            "_view_count": null,
            "_view_module": "@jupyter-widgets/controls",
            "_view_module_version": "1.5.0",
            "_view_name": "HBoxView",
            "box_style": "",
            "children": [
              "IPY_MODEL_45f61b58e6d941dd88b9c341e49c1cb3",
              "IPY_MODEL_9fc221502b164d8c9449421367be1443",
              "IPY_MODEL_98f257bb66c2429290d5e57025287af6"
            ],
            "layout": "IPY_MODEL_7905ab4e751149e5b0343407699242b1"
          }
        },
        "45f61b58e6d941dd88b9c341e49c1cb3": {
          "model_module": "@jupyter-widgets/controls",
          "model_name": "HTMLModel",
          "model_module_version": "1.5.0",
          "state": {
            "_dom_classes": [],
            "_model_module": "@jupyter-widgets/controls",
            "_model_module_version": "1.5.0",
            "_model_name": "HTMLModel",
            "_view_count": null,
            "_view_module": "@jupyter-widgets/controls",
            "_view_module_version": "1.5.0",
            "_view_name": "HTMLView",
            "description": "",
            "description_tooltip": null,
            "layout": "IPY_MODEL_49a660325f9f454db6c7283e790081a1",
            "placeholder": "​",
            "style": "IPY_MODEL_e2ff888943bc4400bdd9474ef82cc0a0",
            "value": ""
          }
        },
        "9fc221502b164d8c9449421367be1443": {
          "model_module": "@jupyter-widgets/controls",
          "model_name": "FloatProgressModel",
          "model_module_version": "1.5.0",
          "state": {
            "_dom_classes": [],
            "_model_module": "@jupyter-widgets/controls",
            "_model_module_version": "1.5.0",
            "_model_name": "FloatProgressModel",
            "_view_count": null,
            "_view_module": "@jupyter-widgets/controls",
            "_view_module_version": "1.5.0",
            "_view_name": "ProgressView",
            "bar_style": "success",
            "description": "",
            "description_tooltip": null,
            "layout": "IPY_MODEL_f2e27adb67a04d17a3ab33b1094f6425",
            "max": 1,
            "min": 0,
            "orientation": "horizontal",
            "style": "IPY_MODEL_e8d724b77637428a911af6bfadff864e",
            "value": 1
          }
        },
        "98f257bb66c2429290d5e57025287af6": {
          "model_module": "@jupyter-widgets/controls",
          "model_name": "HTMLModel",
          "model_module_version": "1.5.0",
          "state": {
            "_dom_classes": [],
            "_model_module": "@jupyter-widgets/controls",
            "_model_module_version": "1.5.0",
            "_model_name": "HTMLModel",
            "_view_count": null,
            "_view_module": "@jupyter-widgets/controls",
            "_view_module_version": "1.5.0",
            "_view_name": "HTMLView",
            "description": "",
            "description_tooltip": null,
            "layout": "IPY_MODEL_d6a0409dfb9b425aa135d99a613547f3",
            "placeholder": "​",
            "style": "IPY_MODEL_742604e9f81b4dff87def7c10d77f81c",
            "value": " 200/? [01:31&lt;00:00,  2.80it/s]"
          }
        },
        "7905ab4e751149e5b0343407699242b1": {
          "model_module": "@jupyter-widgets/base",
          "model_name": "LayoutModel",
          "model_module_version": "1.2.0",
          "state": {
            "_model_module": "@jupyter-widgets/base",
            "_model_module_version": "1.2.0",
            "_model_name": "LayoutModel",
            "_view_count": null,
            "_view_module": "@jupyter-widgets/base",
            "_view_module_version": "1.2.0",
            "_view_name": "LayoutView",
            "align_content": null,
            "align_items": null,
            "align_self": null,
            "border": null,
            "bottom": null,
            "display": null,
            "flex": null,
            "flex_flow": null,
            "grid_area": null,
            "grid_auto_columns": null,
            "grid_auto_flow": null,
            "grid_auto_rows": null,
            "grid_column": null,
            "grid_gap": null,
            "grid_row": null,
            "grid_template_areas": null,
            "grid_template_columns": null,
            "grid_template_rows": null,
            "height": null,
            "justify_content": null,
            "justify_items": null,
            "left": null,
            "margin": null,
            "max_height": null,
            "max_width": null,
            "min_height": null,
            "min_width": null,
            "object_fit": null,
            "object_position": null,
            "order": null,
            "overflow": null,
            "overflow_x": null,
            "overflow_y": null,
            "padding": null,
            "right": null,
            "top": null,
            "visibility": null,
            "width": null
          }
        },
        "49a660325f9f454db6c7283e790081a1": {
          "model_module": "@jupyter-widgets/base",
          "model_name": "LayoutModel",
          "model_module_version": "1.2.0",
          "state": {
            "_model_module": "@jupyter-widgets/base",
            "_model_module_version": "1.2.0",
            "_model_name": "LayoutModel",
            "_view_count": null,
            "_view_module": "@jupyter-widgets/base",
            "_view_module_version": "1.2.0",
            "_view_name": "LayoutView",
            "align_content": null,
            "align_items": null,
            "align_self": null,
            "border": null,
            "bottom": null,
            "display": null,
            "flex": null,
            "flex_flow": null,
            "grid_area": null,
            "grid_auto_columns": null,
            "grid_auto_flow": null,
            "grid_auto_rows": null,
            "grid_column": null,
            "grid_gap": null,
            "grid_row": null,
            "grid_template_areas": null,
            "grid_template_columns": null,
            "grid_template_rows": null,
            "height": null,
            "justify_content": null,
            "justify_items": null,
            "left": null,
            "margin": null,
            "max_height": null,
            "max_width": null,
            "min_height": null,
            "min_width": null,
            "object_fit": null,
            "object_position": null,
            "order": null,
            "overflow": null,
            "overflow_x": null,
            "overflow_y": null,
            "padding": null,
            "right": null,
            "top": null,
            "visibility": null,
            "width": null
          }
        },
        "e2ff888943bc4400bdd9474ef82cc0a0": {
          "model_module": "@jupyter-widgets/controls",
          "model_name": "DescriptionStyleModel",
          "model_module_version": "1.5.0",
          "state": {
            "_model_module": "@jupyter-widgets/controls",
            "_model_module_version": "1.5.0",
            "_model_name": "DescriptionStyleModel",
            "_view_count": null,
            "_view_module": "@jupyter-widgets/base",
            "_view_module_version": "1.2.0",
            "_view_name": "StyleView",
            "description_width": ""
          }
        },
        "f2e27adb67a04d17a3ab33b1094f6425": {
          "model_module": "@jupyter-widgets/base",
          "model_name": "LayoutModel",
          "model_module_version": "1.2.0",
          "state": {
            "_model_module": "@jupyter-widgets/base",
            "_model_module_version": "1.2.0",
            "_model_name": "LayoutModel",
            "_view_count": null,
            "_view_module": "@jupyter-widgets/base",
            "_view_module_version": "1.2.0",
            "_view_name": "LayoutView",
            "align_content": null,
            "align_items": null,
            "align_self": null,
            "border": null,
            "bottom": null,
            "display": null,
            "flex": null,
            "flex_flow": null,
            "grid_area": null,
            "grid_auto_columns": null,
            "grid_auto_flow": null,
            "grid_auto_rows": null,
            "grid_column": null,
            "grid_gap": null,
            "grid_row": null,
            "grid_template_areas": null,
            "grid_template_columns": null,
            "grid_template_rows": null,
            "height": null,
            "justify_content": null,
            "justify_items": null,
            "left": null,
            "margin": null,
            "max_height": null,
            "max_width": null,
            "min_height": null,
            "min_width": null,
            "object_fit": null,
            "object_position": null,
            "order": null,
            "overflow": null,
            "overflow_x": null,
            "overflow_y": null,
            "padding": null,
            "right": null,
            "top": null,
            "visibility": null,
            "width": "20px"
          }
        },
        "e8d724b77637428a911af6bfadff864e": {
          "model_module": "@jupyter-widgets/controls",
          "model_name": "ProgressStyleModel",
          "model_module_version": "1.5.0",
          "state": {
            "_model_module": "@jupyter-widgets/controls",
            "_model_module_version": "1.5.0",
            "_model_name": "ProgressStyleModel",
            "_view_count": null,
            "_view_module": "@jupyter-widgets/base",
            "_view_module_version": "1.2.0",
            "_view_name": "StyleView",
            "bar_color": null,
            "description_width": ""
          }
        },
        "d6a0409dfb9b425aa135d99a613547f3": {
          "model_module": "@jupyter-widgets/base",
          "model_name": "LayoutModel",
          "model_module_version": "1.2.0",
          "state": {
            "_model_module": "@jupyter-widgets/base",
            "_model_module_version": "1.2.0",
            "_model_name": "LayoutModel",
            "_view_count": null,
            "_view_module": "@jupyter-widgets/base",
            "_view_module_version": "1.2.0",
            "_view_name": "LayoutView",
            "align_content": null,
            "align_items": null,
            "align_self": null,
            "border": null,
            "bottom": null,
            "display": null,
            "flex": null,
            "flex_flow": null,
            "grid_area": null,
            "grid_auto_columns": null,
            "grid_auto_flow": null,
            "grid_auto_rows": null,
            "grid_column": null,
            "grid_gap": null,
            "grid_row": null,
            "grid_template_areas": null,
            "grid_template_columns": null,
            "grid_template_rows": null,
            "height": null,
            "justify_content": null,
            "justify_items": null,
            "left": null,
            "margin": null,
            "max_height": null,
            "max_width": null,
            "min_height": null,
            "min_width": null,
            "object_fit": null,
            "object_position": null,
            "order": null,
            "overflow": null,
            "overflow_x": null,
            "overflow_y": null,
            "padding": null,
            "right": null,
            "top": null,
            "visibility": null,
            "width": null
          }
        },
        "742604e9f81b4dff87def7c10d77f81c": {
          "model_module": "@jupyter-widgets/controls",
          "model_name": "DescriptionStyleModel",
          "model_module_version": "1.5.0",
          "state": {
            "_model_module": "@jupyter-widgets/controls",
            "_model_module_version": "1.5.0",
            "_model_name": "DescriptionStyleModel",
            "_view_count": null,
            "_view_module": "@jupyter-widgets/base",
            "_view_module_version": "1.2.0",
            "_view_name": "StyleView",
            "description_width": ""
          }
        }
      }
    }
  },
  "cells": [
    {
      "cell_type": "markdown",
      "source": [
        "# single item color classification"
      ],
      "metadata": {
        "id": "STseeyyPCCTw"
      }
    },
    {
      "cell_type": "code",
      "source": [
        "import numpy as np\n",
        "import os\n",
        "import pickle\n",
        "from tqdm.auto import tqdm\n",
        "import json\n",
        "\n",
        "from PIL import Image, ImageDraw"
      ],
      "metadata": {
        "id": "AdL345u2EEeP"
      },
      "execution_count": null,
      "outputs": []
    },
    {
      "cell_type": "code",
      "execution_count": null,
      "metadata": {
        "id": "aARVThPg8dOS"
      },
      "outputs": [],
      "source": [
        "encoding_label_color = {\n",
        "    \"블랙\":0,\n",
        "    \"화이트\":1,\n",
        "    \"그레이\":2,\n",
        "    \"레드\":3,\n",
        "    \"핑크\":4,\n",
        "    \"오렌지\":5,\n",
        "    \"베이지\":6,\n",
        "    \"브라운\":7,\n",
        "    \"옐로우\":8,\n",
        "    \"그린\":9,\n",
        "    \"카키\":10,\n",
        "    \"민트\":11,\n",
        "    \"블루\":12,\n",
        "    \"네이비\":13,\n",
        "    \"스카이블루\":14,\n",
        "    \"퍼플\":15,\n",
        "    \"라벤더\":16,\n",
        "    \"와인\":17,\n",
        "    \"네온\":18,\n",
        "    \"골드\":19\n",
        "}"
      ]
    },
    {
      "cell_type": "code",
      "source": [
        "encoding_label_category = {\n",
        "    \"상의\":0,\n",
        "    \"하의\":1,\n",
        "    \"아우터\":2,\n",
        "    \"원피스\":3\n",
        "}"
      ],
      "metadata": {
        "id": "ws0e2Pu9Or8Q"
      },
      "execution_count": null,
      "outputs": []
    },
    {
      "cell_type": "code",
      "source": [
        "## data\n",
        "with open(\"/content/drive/MyDrive/pickle/train/힙합/train_hiphop.pkl\",\"rb\") as fr:\n",
        "    data_list = pickle.load(fr)\n",
        "len(data_list)"
      ],
      "metadata": {
        "colab": {
          "base_uri": "https://localhost:8080/"
        },
        "id": "htQMCR1yCFiT",
        "outputId": "1d1ba905-8eff-4766-9d32-585893fb2407"
      },
      "execution_count": null,
      "outputs": [
        {
          "output_type": "execute_result",
          "data": {
            "text/plain": [
              "200"
            ]
          },
          "metadata": {},
          "execution_count": 55
        }
      ]
    },
    {
      "cell_type": "code",
      "source": [
        "## label\n",
        "with open(\"/content/drive/MyDrive/pickle/train/힙합/train_label_hiphop.pkl\",\"rb\") as fr:\n",
        "    label_list = pickle.load(fr)\n",
        "len(label_list)"
      ],
      "metadata": {
        "colab": {
          "base_uri": "https://localhost:8080/"
        },
        "id": "vBWGruGKEZsN",
        "outputId": "71ea0bd1-c7e7-43b5-8764-568d7a4be35c"
      },
      "execution_count": null,
      "outputs": [
        {
          "output_type": "execute_result",
          "data": {
            "text/plain": [
              "200"
            ]
          },
          "metadata": {},
          "execution_count": 54
        }
      ]
    },
    {
      "cell_type": "code",
      "source": [
        "label_list[0]"
      ],
      "metadata": {
        "colab": {
          "base_uri": "https://localhost:8080/",
          "height": 35
        },
        "id": "j5PTzmzNE_07",
        "outputId": "9a9f9f8c-438e-46c7-fd08-e2f665b757df"
      },
      "execution_count": null,
      "outputs": [
        {
          "output_type": "execute_result",
          "data": {
            "text/plain": [
              "'/content/drive/MyDrive/fashiondata/label/Training/레트로/1153830.json'"
            ],
            "application/vnd.google.colaboratory.intrinsic+json": {
              "type": "string"
            }
          },
          "metadata": {},
          "execution_count": 6
        }
      ]
    },
    {
      "cell_type": "code",
      "source": [
        "with open(f\"{label_list[0]}\",\"r\") as fr:\n",
        "    \n",
        "    data = json.load(fr)"
      ],
      "metadata": {
        "id": "BbcCF3WhIIzD"
      },
      "execution_count": null,
      "outputs": []
    },
    {
      "cell_type": "code",
      "source": [
        "data['데이터셋 정보']['데이터셋 상세설명']['라벨링']"
      ],
      "metadata": {
        "colab": {
          "base_uri": "https://localhost:8080/"
        },
        "id": "CSIqJ3MRQW9_",
        "outputId": "8e7038bf-968f-4c75-9cdb-a970ad658930"
      },
      "execution_count": null,
      "outputs": [
        {
          "output_type": "execute_result",
          "data": {
            "text/plain": [
              "{'스타일': [{'스타일': '레트로', '서브스타일': '스트리트'}],\n",
              " '아우터': [{}],\n",
              " '하의': [{'기장': '발목',\n",
              "   '색상': '블랙',\n",
              "   '카테고리': '팬츠',\n",
              "   '소재': ['우븐'],\n",
              "   '프린트': ['무지'],\n",
              "   '핏': '노멀'}],\n",
              " '원피스': [{}],\n",
              " '상의': [{'기장': '노멀',\n",
              "   '색상': '그린',\n",
              "   '서브색상': '오렌지',\n",
              "   '카테고리': '블라우스',\n",
              "   '옷깃': '보우칼라',\n",
              "   '디테일': ['리본', '스트링'],\n",
              "   '소매기장': '긴팔',\n",
              "   '소재': ['우븐'],\n",
              "   '프린트': ['무지', '도트'],\n",
              "   '핏': '루즈'}]}"
            ]
          },
          "metadata": {},
          "execution_count": 27
        }
      ]
    },
    {
      "cell_type": "code",
      "source": [
        "rect = data['데이터셋 정보']['데이터셋 상세설명']['렉트좌표']\n",
        "\n",
        "points = data['데이터셋 정보']['데이터셋 상세설명']['폴리곤좌표']\n",
        "\n",
        "rect"
      ],
      "metadata": {
        "colab": {
          "base_uri": "https://localhost:8080/"
        },
        "id": "GoBuVaYRINYQ",
        "outputId": "0aefc90f-dec8-44a3-a03f-786f8abce65d"
      },
      "execution_count": null,
      "outputs": [
        {
          "output_type": "execute_result",
          "data": {
            "text/plain": [
              "{'아우터': [{}],\n",
              " '하의': [{'X좌표': 323.5, 'Y좌표': 403.705, '가로': 218, '세로': 500}],\n",
              " '원피스': [{}],\n",
              " '상의': [{'X좌표': 221.5, 'Y좌표': 1.49936, '가로': 363, '세로': 443}]}"
            ]
          },
          "metadata": {},
          "execution_count": 13
        }
      ]
    },
    {
      "cell_type": "code",
      "source": [
        "#obj_data_list = []\n",
        "\n",
        "#single_category_list = []\n",
        "\n",
        "single_color_list = []"
      ],
      "metadata": {
        "id": "2TjK6tDRMm1b"
      },
      "execution_count": null,
      "outputs": []
    },
    {
      "cell_type": "code",
      "source": [
        "## label\n",
        "with open(\"/content/drive/MyDrive/pickle/train_obj_data_annotation.pkl\",\"rb\") as fr:\n",
        "    obj_data_list = pickle.load(fr)\n",
        "len(obj_data_list)"
      ],
      "metadata": {
        "colab": {
          "base_uri": "https://localhost:8080/"
        },
        "id": "fAUNKt85WuEZ",
        "outputId": "baa567cf-fb56-4acd-d280-ccc8a774fa59"
      },
      "execution_count": null,
      "outputs": [
        {
          "output_type": "execute_result",
          "data": {
            "text/plain": [
              "56555"
            ]
          },
          "metadata": {},
          "execution_count": 2
        }
      ]
    },
    {
      "cell_type": "code",
      "source": [
        "obj_data_list[0]"
      ],
      "metadata": {
        "id": "k3tG8UnglCGr",
        "outputId": "344b3ab7-3986-4cc4-ce73-3bd368116981",
        "colab": {
          "base_uri": "https://localhost:8080/"
        }
      },
      "execution_count": null,
      "outputs": [
        {
          "output_type": "execute_result",
          "data": {
            "text/plain": [
              "{'file_name': '/content/drive/MyDrive/fashiondata/data/train1/레트로/1153829.jpg',\n",
              " 'rect': {'아우터': [{}],\n",
              "  '하의': [{'X좌표': 323.5, 'Y좌표': 403.705, '가로': 218, '세로': 500}],\n",
              "  '원피스': [{}],\n",
              "  '상의': [{'X좌표': 221.5, 'Y좌표': 1.49936, '가로': 363, '세로': 443}]}}"
            ]
          },
          "metadata": {},
          "execution_count": 3
        }
      ]
    },
    {
      "cell_type": "code",
      "source": [
        "## label\n",
        "with open(\"/content/drive/MyDrive/pickle/train_category_data_annotation.pkl\",\"rb\") as fr:\n",
        "    single_category_list = pickle.load(fr)\n",
        "len(single_category_list)"
      ],
      "metadata": {
        "colab": {
          "base_uri": "https://localhost:8080/"
        },
        "id": "x_UvJuWSW1t9",
        "outputId": "73384a97-b60a-4c65-b24b-c7e20cc95765"
      },
      "execution_count": null,
      "outputs": [
        {
          "output_type": "execute_result",
          "data": {
            "text/plain": [
              "34728"
            ]
          },
          "metadata": {},
          "execution_count": 10
        }
      ]
    },
    {
      "cell_type": "code",
      "source": [
        "## label\n",
        "with open(\"/content/drive/MyDrive/pickle/train_color_data_annotation_v2.pkl\",\"rb\") as fr:\n",
        "    single_color_list = pickle.load(fr)\n",
        "len(single_color_list)"
      ],
      "metadata": {
        "colab": {
          "base_uri": "https://localhost:8080/"
        },
        "id": "ArT23n_3W2Dq",
        "outputId": "3eb27164-1e0a-4e1a-b18c-466740f2c3f4"
      },
      "execution_count": null,
      "outputs": [
        {
          "output_type": "execute_result",
          "data": {
            "text/plain": [
              "15072"
            ]
          },
          "metadata": {},
          "execution_count": 6
        }
      ]
    },
    {
      "cell_type": "code",
      "source": [
        "#create train_data for one\n",
        "\n",
        "for filename,labelname in tqdm(zip(data_list, label_list)):\n",
        "    \n",
        "    obj_data = {}\n",
        "    \n",
        "    category_data = {}\n",
        "\n",
        "    color_data = {}\n",
        "\n",
        "    color_labels = {}\n",
        "\n",
        "    with open(f\"{labelname}\",\"r\") as fr:\n",
        "        \n",
        "        data = json.load(fr)\n",
        "\n",
        "        rect = data['데이터셋 정보']['데이터셋 상세설명']['렉트좌표']\n",
        "        points = data['데이터셋 정보']['데이터셋 상세설명']['폴리곤좌표']\n",
        "\n",
        "        obj_data[\"file_name\"] = filename\n",
        "        obj_data[\"rect\"] = rect\n",
        "\n",
        "        category_data[\"file_name\"] = filename\n",
        "        category_data[\"points\"] = points\n",
        "        \n",
        "        attribute = data['데이터셋 정보']['데이터셋 상세설명']['라벨링']\n",
        "\n",
        "        for i in [\"아우터\",\"상의\",\"하의\",\"원피스\"]:\n",
        "            \n",
        "            if attribute[i][0] != {}:\n",
        "                \n",
        "                try:\n",
        "\n",
        "                    color_labels[i] = attribute[i][0][\"색상\"]\n",
        "                \n",
        "                except:\n",
        "                    \n",
        "                    continue\n",
        "        \n",
        "        if color_labels != {}:\n",
        "            \n",
        "            color_data[\"file_name\"] = filename\n",
        "            color_data[\"rect\"] = rect\n",
        "            color_data[\"labels\"] = color_labels\n",
        "            single_color_list.append(color_data)\n",
        "    \n",
        "\n",
        "    #obj_data_list.append(obj_data)\n",
        "    #single_category_list.append(category_data)"
      ],
      "metadata": {
        "colab": {
          "base_uri": "https://localhost:8080/",
          "height": 49,
          "referenced_widgets": [
            "926186e645244e2f9dda40abc63f67a7",
            "45f61b58e6d941dd88b9c341e49c1cb3",
            "9fc221502b164d8c9449421367be1443",
            "98f257bb66c2429290d5e57025287af6",
            "7905ab4e751149e5b0343407699242b1",
            "49a660325f9f454db6c7283e790081a1",
            "e2ff888943bc4400bdd9474ef82cc0a0",
            "f2e27adb67a04d17a3ab33b1094f6425",
            "e8d724b77637428a911af6bfadff864e",
            "d6a0409dfb9b425aa135d99a613547f3",
            "742604e9f81b4dff87def7c10d77f81c"
          ]
        },
        "id": "TP5ShifUOQsx",
        "outputId": "a3f5c048-e04e-4361-dfa8-c97360dac768"
      },
      "execution_count": null,
      "outputs": [
        {
          "output_type": "display_data",
          "data": {
            "text/plain": [
              "0it [00:00, ?it/s]"
            ],
            "application/vnd.jupyter.widget-view+json": {
              "version_major": 2,
              "version_minor": 0,
              "model_id": "926186e645244e2f9dda40abc63f67a7"
            }
          },
          "metadata": {}
        }
      ]
    },
    {
      "cell_type": "code",
      "source": [
        "len(obj_data_list)"
      ],
      "metadata": {
        "id": "NBqvLSmaZfxr"
      },
      "execution_count": null,
      "outputs": []
    },
    {
      "cell_type": "code",
      "source": [
        "len(single_category_list)"
      ],
      "metadata": {
        "colab": {
          "base_uri": "https://localhost:8080/"
        },
        "id": "_69mtCvZZhS5",
        "outputId": "a3cfbc6a-2a9e-4287-d665-6ff6746c03e3"
      },
      "execution_count": null,
      "outputs": [
        {
          "output_type": "execute_result",
          "data": {
            "text/plain": [
              "56555"
            ]
          },
          "metadata": {},
          "execution_count": 59
        }
      ]
    },
    {
      "cell_type": "code",
      "source": [
        "len(single_color_list)"
      ],
      "metadata": {
        "colab": {
          "base_uri": "https://localhost:8080/"
        },
        "id": "t8GXNzIrZjBT",
        "outputId": "08c50185-50d4-4a35-af2a-14aa12f07599"
      },
      "execution_count": null,
      "outputs": [
        {
          "output_type": "execute_result",
          "data": {
            "text/plain": [
              "56144"
            ]
          },
          "metadata": {},
          "execution_count": 57
        }
      ]
    },
    {
      "cell_type": "code",
      "source": [
        "with open(\"/content/drive/MyDrive/pickle/train_obj_data_annotation.pkl\",\"wb\") as fw:\n",
        "    pickle.dump(obj_data_list, fw)"
      ],
      "metadata": {
        "id": "E9a5rlqPTxoQ"
      },
      "execution_count": null,
      "outputs": []
    },
    {
      "cell_type": "code",
      "source": [
        "with open(\"/content/drive/MyDrive/pickle/train_category_data_annotation.pkl\",\"wb\") as fw:\n",
        "    pickle.dump(single_category_list, fw)"
      ],
      "metadata": {
        "id": "dUBmFmtfVhFM"
      },
      "execution_count": null,
      "outputs": []
    },
    {
      "cell_type": "code",
      "source": [
        "with open(\"/content/drive/MyDrive/pickle/train_color_data_annotation_v2.pkl\",\"wb\") as fw:\n",
        "    pickle.dump(single_color_list, fw)"
      ],
      "metadata": {
        "id": "IYNiaWKMVhkR"
      },
      "execution_count": null,
      "outputs": []
    },
    {
      "cell_type": "code",
      "source": [],
      "metadata": {
        "id": "uAhDs4G1ZmkU"
      },
      "execution_count": null,
      "outputs": []
    }
  ]
}