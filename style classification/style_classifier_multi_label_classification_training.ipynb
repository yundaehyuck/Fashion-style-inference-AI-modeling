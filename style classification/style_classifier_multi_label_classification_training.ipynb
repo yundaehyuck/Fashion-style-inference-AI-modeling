{
  "cells": [
    {
      "cell_type": "markdown",
      "metadata": {
        "id": "ef3_lZ48kzN3"
      },
      "source": [
        "# load library"
      ]
    },
    {
      "cell_type": "code",
      "execution_count": null,
      "metadata": {
        "colab": {
          "base_uri": "https://localhost:8080/"
        },
        "id": "1FTHmUST20Nf",
        "outputId": "a00558ff-8eef-4caf-c6a0-6254d2cb955f"
      },
      "outputs": [
        {
          "output_type": "stream",
          "name": "stdout",
          "text": [
            "Sun Mar 26 03:42:07 2023       \n",
            "+-----------------------------------------------------------------------------+\n",
            "| NVIDIA-SMI 525.85.12    Driver Version: 525.85.12    CUDA Version: 12.0     |\n",
            "|-------------------------------+----------------------+----------------------+\n",
            "| GPU  Name        Persistence-M| Bus-Id        Disp.A | Volatile Uncorr. ECC |\n",
            "| Fan  Temp  Perf  Pwr:Usage/Cap|         Memory-Usage | GPU-Util  Compute M. |\n",
            "|                               |                      |               MIG M. |\n",
            "|===============================+======================+======================|\n",
            "|   0  NVIDIA A100-SXM...  Off  | 00000000:00:04.0 Off |                    0 |\n",
            "| N/A   30C    P0    43W / 400W |      0MiB / 40960MiB |      0%      Default |\n",
            "|                               |                      |             Disabled |\n",
            "+-------------------------------+----------------------+----------------------+\n",
            "                                                                               \n",
            "+-----------------------------------------------------------------------------+\n",
            "| Processes:                                                                  |\n",
            "|  GPU   GI   CI        PID   Type   Process name                  GPU Memory |\n",
            "|        ID   ID                                                   Usage      |\n",
            "|=============================================================================|\n",
            "|  No running processes found                                                 |\n",
            "+-----------------------------------------------------------------------------+\n"
          ]
        }
      ],
      "source": [
        "gpu_info = !nvidia-smi\n",
        "gpu_info = '\\n'.join(gpu_info)\n",
        "if gpu_info.find('failed') >= 0:\n",
        "  print('Not connected to a GPU')\n",
        "else:\n",
        "  print(gpu_info)"
      ]
    },
    {
      "cell_type": "code",
      "execution_count": null,
      "metadata": {
        "colab": {
          "base_uri": "https://localhost:8080/"
        },
        "id": "qSR4zD80nGOk",
        "outputId": "37335013-4e51-4a5b-97e7-00509b139814"
      },
      "outputs": [
        {
          "output_type": "stream",
          "name": "stdout",
          "text": [
            "Mounted at /content/drive\n"
          ]
        }
      ],
      "source": [
        "from google.colab import drive\n",
        "drive.mount('/content/drive', force_remount = True)"
      ]
    },
    {
      "cell_type": "code",
      "execution_count": null,
      "metadata": {
        "id": "3vp6-whyaZU-"
      },
      "outputs": [],
      "source": [
        "!pip install torchnet"
      ]
    },
    {
      "cell_type": "code",
      "execution_count": null,
      "metadata": {
        "id": "W6gzAwgakrpT"
      },
      "outputs": [],
      "source": [
        "#torch\n",
        "\n",
        "from torch.nn import Parameter\n",
        "import torch\n",
        "import torch.optim\n",
        "import torch.optim as optim\n",
        "import torch.nn as nn\n",
        "import torch.nn.parallel\n",
        "import torch.nn.functional as F\n",
        "\n",
        "import torchvision.models as models\n",
        "import torchvision.transforms as transforms\n",
        "\n",
        "import torch.utils.data as Data\n",
        "import torch.backends.cudnn as cudnn\n",
        "\n",
        "\n",
        "#torchnet???\n",
        "#import torchnet as tnt\n",
        "\n",
        "\n",
        "#numpy\n",
        "import numpy as np\n",
        "\n",
        "#pandas\n",
        "import pandas as pd\n",
        "\n",
        "#utility\n",
        "\n",
        "import math\n",
        "from urllib.request import urlretrieve\n",
        "\n",
        "from PIL import Image\n",
        "#from tqdm import tqdm\n",
        "from tqdm.auto import tqdm\n",
        "import random\n",
        "\n",
        "import json\n",
        "import os\n",
        "import pickle\n",
        "import shutil\n",
        "import time\n"
      ]
    },
    {
      "cell_type": "markdown",
      "metadata": {
        "id": "iiGzZOz2zpkZ"
      },
      "source": [
        "#initialize hyperparameter"
      ]
    },
    {
      "cell_type": "code",
      "execution_count": null,
      "metadata": {
        "id": "GhOJ5w2hzrko"
      },
      "outputs": [],
      "source": [
        "use_gpu = torch.cuda.is_available()\n",
        "\n",
        "image_size = 224\n",
        "\n",
        "batch_size = 64\n",
        "\n",
        "num_classes = 23\n",
        "\n",
        "#workers = 25\n",
        "workers = 4\n",
        "\n",
        "#device_ids = None\n",
        "\n",
        "#evaluate = False\n",
        "\n",
        "#start_epoch = 0\n",
        "\n",
        "max_epochs = 1\n",
        "\n",
        "#epoch_step = []\n",
        "\n",
        "#use_pb = True"
      ]
    },
    {
      "cell_type": "markdown",
      "metadata": {
        "id": "xp21-n1IlzMb"
      },
      "source": [
        "# define utility class & function"
      ]
    },
    {
      "cell_type": "code",
      "execution_count": null,
      "metadata": {
        "id": "Yka9rkTYl1wj"
      },
      "outputs": [],
      "source": [
        "class Warp(object):\n",
        "    def __init__(self, size, interpolation=Image.BILINEAR):\n",
        "        self.size = int(size)\n",
        "        self.interpolation = interpolation\n",
        "\n",
        "    def __call__(self, img):\n",
        "        return img.resize((self.size, self.size), self.interpolation)\n",
        "\n",
        "    def __str__(self):\n",
        "        return self.__class__.__name__ + ' (size={size}, interpolation={interpolation})'.format(size=self.size,\n",
        "                                                                                                interpolation=self.interpolation)\n",
        "class MultiScaleCrop(object):\n",
        "\n",
        "    def __init__(self, input_size, scales=None, max_distort=1, fix_crop=True, more_fix_crop=True):\n",
        "        self.scales = scales if scales is not None else [1, 875, .75, .66]\n",
        "        self.max_distort = max_distort\n",
        "        self.fix_crop = fix_crop\n",
        "        self.more_fix_crop = more_fix_crop\n",
        "        self.input_size = input_size if not isinstance(input_size, int) else [input_size, input_size]\n",
        "        self.interpolation = Image.BILINEAR\n",
        "\n",
        "    def __call__(self, img):\n",
        "        im_size = img.size\n",
        "        crop_w, crop_h, offset_w, offset_h = self._sample_crop_size(im_size)\n",
        "        crop_img_group = img.crop((offset_w, offset_h, offset_w + crop_w, offset_h + crop_h))\n",
        "        ret_img_group = crop_img_group.resize((self.input_size[0], self.input_size[1]), self.interpolation)\n",
        "        return ret_img_group\n",
        "\n",
        "    def _sample_crop_size(self, im_size):\n",
        "        image_w, image_h = im_size[0], im_size[1]\n",
        "\n",
        "        # find a crop size\n",
        "        base_size = min(image_w, image_h)\n",
        "        crop_sizes = [int(base_size * x) for x in self.scales]\n",
        "        crop_h = [self.input_size[1] if abs(x - self.input_size[1]) < 3 else x for x in crop_sizes]\n",
        "        crop_w = [self.input_size[0] if abs(x - self.input_size[0]) < 3 else x for x in crop_sizes]\n",
        "\n",
        "        pairs = []\n",
        "        for i, h in enumerate(crop_h):\n",
        "            for j, w in enumerate(crop_w):\n",
        "                if abs(i - j) <= self.max_distort:\n",
        "                    pairs.append((w, h))\n",
        "\n",
        "        crop_pair = random.choice(pairs)\n",
        "        if not self.fix_crop:\n",
        "            w_offset = random.randint(0, image_w - crop_pair[0])\n",
        "            h_offset = random.randint(0, image_h - crop_pair[1])\n",
        "        else:\n",
        "            w_offset, h_offset = self._sample_fix_offset(image_w, image_h, crop_pair[0], crop_pair[1])\n",
        "\n",
        "        return crop_pair[0], crop_pair[1], w_offset, h_offset\n",
        "\n",
        "    def _sample_fix_offset(self, image_w, image_h, crop_w, crop_h):\n",
        "        offsets = self.fill_fix_offset(self.more_fix_crop, image_w, image_h, crop_w, crop_h)\n",
        "        return random.choice(offsets)\n",
        "\n",
        "    @staticmethod\n",
        "    def fill_fix_offset(more_fix_crop, image_w, image_h, crop_w, crop_h):\n",
        "        w_step = (image_w - crop_w) // 4\n",
        "        h_step = (image_h - crop_h) // 4\n",
        "\n",
        "        ret = list()\n",
        "        ret.append((0, 0))  # upper left\n",
        "        ret.append((4 * w_step, 0))  # upper right\n",
        "        ret.append((0, 4 * h_step))  # lower left\n",
        "        ret.append((4 * w_step, 4 * h_step))  # lower right\n",
        "        ret.append((2 * w_step, 2 * h_step))  # center\n",
        "\n",
        "        if more_fix_crop:\n",
        "            ret.append((0, 2 * h_step))  # center left\n",
        "            ret.append((4 * w_step, 2 * h_step))  # center right\n",
        "            ret.append((2 * w_step, 4 * h_step))  # lower center\n",
        "            ret.append((2 * w_step, 0 * h_step))  # upper center\n",
        "\n",
        "            ret.append((1 * w_step, 1 * h_step))  # upper left quarter\n",
        "            ret.append((3 * w_step, 1 * h_step))  # upper right quarter\n",
        "            ret.append((1 * w_step, 3 * h_step))  # lower left quarter\n",
        "            ret.append((3 * w_step, 3 * h_step))  # lower righ quarter\n",
        "\n",
        "        return ret\n",
        "\n",
        "\n",
        "    def __str__(self):\n",
        "        return self.__class__.__name__\n",
        "\n",
        "\n",
        "def download_url(url, destination=None, progress_bar=True):\n",
        "    \"\"\"Download a URL to a local file.\n",
        "\n",
        "    Parameters\n",
        "    ----------\n",
        "    url : str\n",
        "        The URL to download.\n",
        "    destination : str, None\n",
        "        The destination of the file. If None is given the file is saved to a temporary directory.\n",
        "    progress_bar : bool\n",
        "        Whether to show a command-line progress bar while downloading.\n",
        "\n",
        "    Returns\n",
        "    -------\n",
        "    filename : str\n",
        "        The location of the downloaded file.\n",
        "\n",
        "    Notes\n",
        "    -----\n",
        "    Progress bar use/example adapted from tqdm documentation: https://github.com/tqdm/tqdm\n",
        "    \"\"\"\n",
        "\n",
        "    def my_hook(t):\n",
        "        last_b = [0]\n",
        "\n",
        "        def inner(b=1, bsize=1, tsize=None):\n",
        "            if tsize is not None:\n",
        "                t.total = tsize\n",
        "            if b > 0:\n",
        "                t.update((b - last_b[0]) * bsize)\n",
        "            last_b[0] = b\n",
        "\n",
        "        return inner\n",
        "\n",
        "    if progress_bar:\n",
        "        with tqdm(unit='B', unit_scale=True, miniters=1, desc=url.split('/')[-1]) as t:\n",
        "            filename, _ = urlretrieve(url, filename=destination, reporthook=my_hook(t))\n",
        "    else:\n",
        "        filename, _ = urlretrieve(url, filename=destination)\n",
        "\n",
        "\n",
        "class AveragePrecisionMeter(object):\n",
        "    \"\"\"\n",
        "    The APMeter measures the average precision per class.\n",
        "    The APMeter is designed to operate on `NxK` Tensors `output` and\n",
        "    `target`, and optionally a `Nx1` Tensor weight where (1) the `output`\n",
        "    contains model output scores for `N` examples and `K` classes that ought to\n",
        "    be higher when the model is more convinced that the example should be\n",
        "    positively labeled, and smaller when the model believes the example should\n",
        "    be negatively labeled (for instance, the output of a sigmoid function); (2)\n",
        "    the `target` contains only values 0 (for negative examples) and 1\n",
        "    (for positive examples); and (3) the `weight` ( > 0) represents weight for\n",
        "    each sample.\n",
        "    \"\"\"\n",
        "\n",
        "    def __init__(self, difficult_examples=False):\n",
        "        super(AveragePrecisionMeter, self).__init__()\n",
        "        self.reset()\n",
        "        self.difficult_examples = difficult_examples\n",
        "\n",
        "    def reset(self):\n",
        "        \"\"\"Resets the meter with empty member variables\"\"\"\n",
        "        self.scores = torch.FloatTensor(torch.FloatStorage())\n",
        "        self.targets = torch.LongTensor(torch.LongStorage())\n",
        "\n",
        "    def add(self, output, target):\n",
        "        \"\"\"\n",
        "        Args:\n",
        "            output (Tensor): NxK tensor that for each of the N examples\n",
        "                indicates the probability of the example belonging to each of\n",
        "                the K classes, according to the model. The probabilities should\n",
        "                sum to one over all classes\n",
        "            target (Tensor): binary NxK tensort that encodes which of the K\n",
        "                classes are associated with the N-th input\n",
        "                    (eg: a row [0, 1, 0, 1] indicates that the example is\n",
        "                         associated with classes 2 and 4)\n",
        "            weight (optional, Tensor): Nx1 tensor representing the weight for\n",
        "                each example (each weight > 0)\n",
        "        \"\"\"\n",
        "        if not torch.is_tensor(output):\n",
        "            output = torch.from_numpy(output)\n",
        "        if not torch.is_tensor(target):\n",
        "            target = torch.from_numpy(target)\n",
        "\n",
        "        if output.dim() == 1:\n",
        "            output = output.view(-1, 1)\n",
        "        else:\n",
        "            assert output.dim() == 2, \\\n",
        "                'wrong output size (should be 1D or 2D with one column \\\n",
        "                per class)'\n",
        "        if target.dim() == 1:\n",
        "            target = target.view(-1, 1)\n",
        "        else:\n",
        "            assert target.dim() == 2, \\\n",
        "                'wrong target size (should be 1D or 2D with one column \\\n",
        "                per class)'\n",
        "        if self.scores.numel() > 0:\n",
        "            assert target.size(1) == self.targets.size(1), \\\n",
        "                'dimensions for output should match previously added examples.'\n",
        "\n",
        "        # make sure storage is of sufficient size\n",
        "        if self.scores.storage().size() < self.scores.numel() + output.numel():\n",
        "            new_size = math.ceil(self.scores.storage().size() * 1.5)\n",
        "            self.scores.storage().resize_(int(new_size + output.numel()))\n",
        "            self.targets.storage().resize_(int(new_size + output.numel()))\n",
        "\n",
        "        # store scores and targets\n",
        "        offset = self.scores.size(0) if self.scores.dim() > 0 else 0\n",
        "        self.scores.resize_(offset + output.size(0), output.size(1))\n",
        "        self.targets.resize_(offset + target.size(0), target.size(1))\n",
        "        self.scores.narrow(0, offset, output.size(0)).copy_(output)\n",
        "        self.targets.narrow(0, offset, target.size(0)).copy_(target)\n",
        "\n",
        "    def value(self):\n",
        "        \"\"\"Returns the model's average precision for each class\n",
        "        Return:\n",
        "            ap (FloatTensor): 1xK tensor, with avg precision for each class k\n",
        "        \"\"\"\n",
        "\n",
        "        if self.scores.numel() == 0:\n",
        "            return 0\n",
        "        ap = torch.zeros(self.scores.size(1))\n",
        "        rg = torch.arange(1, self.scores.size(0)).float()\n",
        "        # compute average precision for each class\n",
        "        for k in range(self.scores.size(1)):\n",
        "            # sort scores\n",
        "            scores = self.scores[:, k]\n",
        "            targets = self.targets[:, k]\n",
        "            # compute average precision\n",
        "            ap[k] = AveragePrecisionMeter.average_precision(scores, targets, self.difficult_examples)\n",
        "        return ap\n",
        "\n",
        "    @staticmethod\n",
        "    def average_precision(output, target, difficult_examples=True):\n",
        "\n",
        "        # sort examples\n",
        "        sorted, indices = torch.sort(output, dim=0, descending=True)\n",
        "\n",
        "        # Computes prec@i\n",
        "        pos_count = 0.\n",
        "        total_count = 0.\n",
        "        precision_at_i = 0.\n",
        "        for i in indices:\n",
        "            label = target[i]\n",
        "            if difficult_examples and label == 0:\n",
        "                continue\n",
        "            if label == 1:\n",
        "                pos_count += 1\n",
        "            total_count += 1\n",
        "            if label == 1:\n",
        "                precision_at_i += pos_count / total_count\n",
        "        precision_at_i /= pos_count\n",
        "        return precision_at_i\n",
        "\n",
        "    def overall(self):\n",
        "        if self.scores.numel() == 0:\n",
        "            return 0\n",
        "        scores = self.scores.cpu().numpy()\n",
        "        targets = self.targets.cpu().numpy()\n",
        "        targets[targets == -1] = 0\n",
        "        return self.evaluation(scores, targets)\n",
        "\n",
        "    def overall_topk(self, k):\n",
        "        targets = self.targets.cpu().numpy()\n",
        "        targets[targets == -1] = 0\n",
        "        n, c = self.scores.size()\n",
        "        scores = np.zeros((n, c)) - 1\n",
        "        index = self.scores.topk(k, 1, True, True)[1].cpu().numpy()\n",
        "        tmp = self.scores.cpu().numpy()\n",
        "        for i in range(n):\n",
        "            for ind in index[i]:\n",
        "                scores[i, ind] = 1 if tmp[i, ind] >= 0 else -1\n",
        "        return self.evaluation(scores, targets)\n",
        "\n",
        "\n",
        "    def evaluation(self, scores_, targets_):\n",
        "        n, n_class = scores_.shape\n",
        "        Nc, Np, Ng = np.zeros(n_class), np.zeros(n_class), np.zeros(n_class)\n",
        "        for k in range(n_class):\n",
        "            scores = scores_[:, k]\n",
        "            targets = targets_[:, k]\n",
        "            targets[targets == -1] = 0\n",
        "            Ng[k] = np.sum(targets == 1)\n",
        "            Np[k] = np.sum(scores >= 0)\n",
        "            Nc[k] = np.sum(targets * (scores >= 0))\n",
        "        Np[Np == 0] = 1\n",
        "        OP = np.sum(Nc) / np.sum(Np)\n",
        "        OR = np.sum(Nc) / np.sum(Ng)\n",
        "        OF1 = (2 * OP * OR) / (OP + OR)\n",
        "\n",
        "        CP = np.sum(Nc / Np) / n_class\n",
        "        CR = np.sum(Nc / Ng) / n_class\n",
        "        CF1 = (2 * CP * CR) / (CP + CR)\n",
        "        return OP, OR, OF1, CP, CR, CF1\n",
        "\n",
        "def top_n_recall(preds, truths, n=1):\n",
        "    best_n = np.argsort(preds, axis=1)[:,-n:]\n",
        "    ts = np.argmax(truths, axis=1)\n",
        "    successes = 0\n",
        "    s_img_id = []\n",
        "    w_img_id = []\n",
        "    for i in range(ts.shape[0]):\n",
        "        if ts[i] in best_n[i,:]:\n",
        "            successes += 1\n",
        "            s_img_id.append(i)\n",
        "        else:\n",
        "            w_img_id.append(i)\n",
        "\n",
        "    return float(successes)/ts.shape[0], s_img_id, w_img_id, best_n\n",
        "\n",
        "def gen_A(num_classes, t, adj_file):\n",
        "    import pickle\n",
        "    result = pickle.load(open(adj_file, 'rb'))\n",
        "    _adj = result['adj']\n",
        "    _nums = result['nums']\n",
        "    _nums = _nums[:, np.newaxis]\n",
        "    _adj = _adj / _nums\n",
        "    _adj[_adj < t] = 0\n",
        "    _adj[_adj >= t] = 1\n",
        "    _adj = _adj * 0.25 / (_adj.sum(0, keepdims=True) + 1e-6)\n",
        "    _adj = _adj + np.identity(num_classes, np.int)\n",
        "    return _adj\n",
        "\n",
        "def gen_adj(A):\n",
        "    D = torch.pow(A.sum(1).float(), -0.5)\n",
        "    D = torch.diag(D)\n",
        "    adj = torch.matmul(torch.matmul(A, D).t(), D)\n",
        "    return adj"
      ]
    },
    {
      "cell_type": "markdown",
      "metadata": {
        "id": "bnnyC49vnliP"
      },
      "source": [
        "# load train & val data"
      ]
    },
    {
      "cell_type": "code",
      "execution_count": null,
      "metadata": {
        "id": "X6J_AHoVnn8q"
      },
      "outputs": [],
      "source": [
        "#define label\n",
        "\n",
        "# label = {\"classic\": 0,\n",
        "#          \"preppy\":1, \n",
        "#          \"manish\": 2,\n",
        "#          \"tomboy\":3, \n",
        "#          \"feminine\": 4,\n",
        "#          \"romantic\": 5,\n",
        "#          \"sexy\": 6,\n",
        "#          \"hippie\": 7,\n",
        "#          \"western\": 8,\n",
        "#          \"oriental\": 9,\n",
        "#          \"modern\": 10,\n",
        "#          \"sophisticated\": 11,\n",
        "#          \"avantgarde\": 12,\n",
        "#          \"country\": 13,\n",
        "#          \"resort\": 14,\n",
        "#          \"genderless\": 15,\n",
        "#          \"sporty\": 16,\n",
        "#          \"retro\": 17,\n",
        "#          \"hiphop\": 18,\n",
        "#          \"kitsch\": 19,\n",
        "#          \"punk\": 20,\n",
        "#          \"street\": 21,\n",
        "#          \"military\":22\n",
        "#          }\n",
        "\n",
        "label = {\"클래식\": 0,\n",
        "         \"프레피\":1, \n",
        "         \"매니시\": 2,\n",
        "         \"톰보이\":3, \n",
        "         \"페미닌\": 4,\n",
        "         \"로맨틱\": 5,\n",
        "         \"섹시\": 6,\n",
        "         \"히피\": 7,\n",
        "         \"웨스턴\": 8,\n",
        "         \"오리엔탈\": 9,\n",
        "         \"모던\": 10,\n",
        "         \"소피스트케이티드\": 11,\n",
        "         \"아방가르드\": 12,\n",
        "         \"컨트리\": 13,\n",
        "         \"리조트\": 14,\n",
        "         \"젠더리스\": 15,\n",
        "         \"스포티\": 16,\n",
        "         \"레트로\": 17,\n",
        "         \"힙합\": 18,\n",
        "         \"키치\": 19,\n",
        "         \"펑크\": 20,\n",
        "         \"스트리트\": 21,\n",
        "         \"밀리터리\":22\n",
        "         }"
      ]
    },
    {
      "cell_type": "code",
      "execution_count": null,
      "metadata": {
        "colab": {
          "base_uri": "https://localhost:8080/"
        },
        "id": "o3xyvrXzyz48",
        "outputId": "1ff24e0b-95dc-41a5-b6f6-572543b604f5"
      },
      "outputs": [
        {
          "name": "stdout",
          "output_type": "stream",
          "text": [
            "{'nums': array([14380,  3008,  4785,  8770, 19124, 19016,  6655,  7080,  2011,\n",
            "        4481, 19262, 12916,  4109, 12896, 12184, 13870, 11070,  7941,\n",
            "         575,  5276,   619, 44458,  3841]), 'adj': array([[   0,  410,  514,  250, 2131,  356,   27,    0,   68,   15, 1542,\n",
            "         693,   61,  235,  252,  999,    9,  161,    0,   60,    0, 1950,\n",
            "          68],\n",
            "       [ 410,    0,   20,  116,  225,  199,    0,    0,   11,    0,  136,\n",
            "           5,    0,   49,    0,   27,    0,   29,    0,   34,    0,  434,\n",
            "           0],\n",
            "       [ 514,   20,    0,  780,   41,   74,   35,    0,    0,    3,  412,\n",
            "         389,   13,   54,   44,  521,    8,   14,    0,    1,    0,  746,\n",
            "          32],\n",
            "       [ 250,  116,  780,    0,   58,   53,    0,   12,    5,    0,  325,\n",
            "         178,   28,  188,  221,  725,   55,   51,   15,   98,    8, 2703,\n",
            "          38],\n",
            "       [2131,  225,   41,   58,    0, 3255,  896,  254,  152,  298, 1720,\n",
            "        1484,  153,  929,  893,   70,  137,  829,    0,   94,   38, 1619,\n",
            "          67],\n",
            "       [ 356,  199,   74,   53, 3255,    0,  476,  434,   46,  225,  618,\n",
            "         812,  135,  860, 1030,   20,   36,  798,    0,  236,   48, 2837,\n",
            "          26],\n",
            "       [  27,    0,   35,    0,  896,  476,    0,  141,   46,   10,  348,\n",
            "         203,   28,   27,  346,    0,  198,   57,   43,   41,   47, 1665,\n",
            "           3],\n",
            "       [   0,    0,    0,   12,  254,  434,  141,    0,   61,  306,  162,\n",
            "          71,   45,  308,  937,   17,   15,  169,    0,   23,   18, 1623,\n",
            "           0],\n",
            "       [  68,   11,    0,    5,  152,   46,   46,   61,    0,   28,   87,\n",
            "          32,   65,  135,   48,   51,   20,   23,    0,    3,   19,  354,\n",
            "          17],\n",
            "       [  15,    0,    3,    0,  298,  225,   10,  306,   28,    0,  411,\n",
            "         105,   69,  237,  500,   20,   17,   74,    0,   12,    0,  659,\n",
            "          23],\n",
            "       [1542,  136,  412,  325, 1720,  618,  348,  162,   87,  411,    0,\n",
            "        2167,  860,  343,  713, 1095,  343,  178,    5,  143,   18, 2326,\n",
            "         144],\n",
            "       [ 693,    5,  389,  178, 1484,  812,  203,   71,   32,  105, 2167,\n",
            "           0,   71,  197,  258,  113,   13,  186,    0,    0,    0,  534,\n",
            "           0],\n",
            "       [  61,    0,   13,   28,  153,  135,   28,   45,   65,   69,  860,\n",
            "          71,    0,   63,   84,   45,   35,   17,    0,   49,   13,  531,\n",
            "          12],\n",
            "       [ 235,   49,   54,  188,  929,  860,   27,  308,  135,  237,  343,\n",
            "         197,   63,    0, 1288,  373,   53,  378,    0,   98,    0, 2457,\n",
            "          21],\n",
            "       [ 252,    0,   44,  221,  893, 1030,  346,  937,   48,  500,  713,\n",
            "         258,   84, 1288,    0,  348,  496,  301,    0,  224,    0, 1311,\n",
            "          39],\n",
            "       [ 999,   27,  521,  725,   70,   20,    0,   17,   51,   20, 1095,\n",
            "         113,   45,  373,  348,    0,  492,   22,   18,   42,   23, 3708,\n",
            "         218],\n",
            "       [   9,    0,    8,   55,  137,   36,  198,   15,   20,   17,  343,\n",
            "          13,   35,   53,  496,  492,    0,   61,   58,  224,    0, 4543,\n",
            "          45],\n",
            "       [ 161,   29,   14,   51,  829,  798,   57,  169,   23,   74,  178,\n",
            "         186,   17,  378,  301,   22,   61,    0,   19,  308,   46, 2241,\n",
            "           0],\n",
            "       [   0,    0,    0,   15,    0,    0,   43,    0,    0,    0,    5,\n",
            "           0,    0,    0,    0,   18,   58,   19,    0,  111,    9,  179,\n",
            "           8],\n",
            "       [  60,   34,    1,   98,   94,  236,   41,   23,    3,   12,  143,\n",
            "           0,   49,   98,  224,   42,  224,  308,  111,    0,   20, 2258,\n",
            "           2],\n",
            "       [   0,    0,    0,    8,   38,   48,   47,   18,   19,    0,   18,\n",
            "           0,   13,    0,    0,   23,    0,   46,    9,   20,    0,  242,\n",
            "          29],\n",
            "       [1950,  434,  746, 2703, 1619, 2837, 1665, 1623,  354,  659, 2326,\n",
            "         534,  531, 2457, 1311, 3708, 4543, 2241,  179, 2258,  242,    0,\n",
            "        2194],\n",
            "       [  68,    0,   32,   38,   67,   26,    3,    0,   17,   23,  144,\n",
            "           0,   12,   21,   39,  218,   45,    0,    8,    2,   29, 2194,\n",
            "           0]])}\n"
          ]
        }
      ],
      "source": [
        "#load adj\n",
        "\n",
        "## Load pickle\n",
        "with open(\"/content/drive/MyDrive/pickle/adj_file.pkl\",\"rb\") as fr:\n",
        "    adj = pickle.load(fr)\n",
        "\n",
        "print(adj)"
      ]
    },
    {
      "cell_type": "code",
      "execution_count": null,
      "metadata": {
        "colab": {
          "base_uri": "https://localhost:8080/"
        },
        "id": "NOQbWURGA4lx",
        "outputId": "08fd25f8-9f80-4f49-fa6f-397e85843a7e"
      },
      "outputs": [
        {
          "output_type": "stream",
          "name": "stdout",
          "text": [
            "[[ 0.2890625   0.06982422  0.16210938 ... -0.12451172  0.02148438\n",
            "  -0.04370117]\n",
            " [ 0.03930664  0.10595703 -0.18359375 ... -0.21484375  0.16113281\n",
            "   0.36132812]\n",
            " [-0.14550781  0.03637695  0.05175781 ... -0.0625     -0.07910156\n",
            "   0.02819824]\n",
            " ...\n",
            " [ 0.05224609 -0.03808594  0.20410156 ... -0.265625    0.09570312\n",
            "   0.14355469]\n",
            " [ 0.09814453  0.07568359  0.03088379 ... -0.04833984  0.21289062\n",
            "  -0.13867188]\n",
            " [-0.03442383  0.21679688 -0.09472656 ... -0.04003906  0.15527344\n",
            "   0.10009766]]\n"
          ]
        }
      ],
      "source": [
        "## Load word2vec\n",
        "with open(\"/content/drive/MyDrive/pickle/custom_word2vec.pkl\",\"rb\") as fr:\n",
        "    word2vec = pickle.load(fr)\n",
        "print(word2vec)"
      ]
    },
    {
      "cell_type": "code",
      "execution_count": null,
      "metadata": {
        "colab": {
          "base_uri": "https://localhost:8080/"
        },
        "id": "KVvKhyl9CVji",
        "outputId": "07c38854-5345-493c-c505-5b143f2ed5e2"
      },
      "outputs": [
        {
          "output_type": "stream",
          "name": "stdout",
          "text": [
            "152757\n"
          ]
        }
      ],
      "source": [
        "## Load train_data_list\n",
        "with open(\"/content/drive/MyDrive/pickle/train_data_annotation.pkl\",\"rb\") as fr:\n",
        "    train_data_list = pickle.load(fr)\n",
        "print(len(train_data_list))"
      ]
    },
    {
      "cell_type": "code",
      "execution_count": null,
      "metadata": {
        "colab": {
          "base_uri": "https://localhost:8080/"
        },
        "id": "VmpqLUJ8CfhV",
        "outputId": "b46432a1-d5db-4e78-9b58-72131fdb73ab"
      },
      "outputs": [
        {
          "output_type": "stream",
          "name": "stdout",
          "text": [
            "34867\n"
          ]
        }
      ],
      "source": [
        "## Load val_data_list\n",
        "with open(\"/content/drive/MyDrive/pickle/val_data_annotation.pkl\",\"rb\") as fr:\n",
        "    val_data_list = pickle.load(fr)\n",
        "print(len(val_data_list))"
      ]
    },
    {
      "cell_type": "markdown",
      "metadata": {
        "id": "KmFCRVSx-iKJ"
      },
      "source": [
        "# load data_path"
      ]
    },
    {
      "cell_type": "code",
      "execution_count": null,
      "metadata": {
        "id": "CgGgz5-J9NHM"
      },
      "outputs": [],
      "source": [
        "train_data_filename_list = {}"
      ]
    },
    {
      "cell_type": "code",
      "execution_count": null,
      "metadata": {
        "id": "g7UuiJLY4b0j"
      },
      "outputs": [],
      "source": [
        "from google.colab import drive\n",
        "drive.mount('/content/drive',force_remount = True)"
      ]
    },
    {
      "cell_type": "code",
      "execution_count": null,
      "metadata": {
        "id": "PujOYAss4n3g"
      },
      "outputs": [],
      "source": [
        "import os"
      ]
    },
    {
      "cell_type": "code",
      "execution_count": null,
      "metadata": {
        "id": "AA3f3qtP9HCh"
      },
      "outputs": [],
      "source": [
        "#random moving data >= 10000\n",
        "\n",
        "data_list = os.listdir(f\"/content/drive/MyDrive/fashiondata/Valdata/val/스트리트\")    \n",
        "\n",
        "train_data_filename_list[(2,\"스트리트\")] = data_list"
      ]
    },
    {
      "cell_type": "code",
      "execution_count": null,
      "metadata": {
        "colab": {
          "base_uri": "https://localhost:8080/"
        },
        "id": "5iY7D2Sqihgf",
        "outputId": "3fd747d2-e586-4f25-a552-88bb906f457d"
      },
      "outputs": [
        {
          "data": {
            "text/plain": [
              "55879"
            ]
          },
          "execution_count": 71,
          "metadata": {},
          "output_type": "execute_result"
        }
      ],
      "source": [
        "len(data_list)"
      ]
    },
    {
      "cell_type": "code",
      "execution_count": null,
      "metadata": {
        "colab": {
          "base_uri": "https://localhost:8080/"
        },
        "id": "9ne6QinWPphL",
        "outputId": "832ba109-8ffe-478a-e9c4-a9fe05265fc9"
      },
      "outputs": [
        {
          "data": {
            "text/plain": [
              "23"
            ]
          },
          "execution_count": 36,
          "metadata": {},
          "output_type": "execute_result"
        }
      ],
      "source": [
        "len(train_data_filename_list.keys())"
      ]
    },
    {
      "cell_type": "code",
      "execution_count": null,
      "metadata": {
        "id": "Lgu3EZuL9LIn"
      },
      "outputs": [],
      "source": [
        "with open(\"/content/drive/MyDrive/pickle/train_street.pkl\",\"wb\") as fw:\n",
        "    pickle.dump(data_list, fw)"
      ]
    },
    {
      "cell_type": "code",
      "execution_count": null,
      "metadata": {
        "id": "ATRuVUzO-gH5"
      },
      "outputs": [],
      "source": [
        "## check\n",
        "with open(\"/content/drive/MyDrive/pickle/train_filename_v1.pkl\",\"rb\") as fr:\n",
        "    data_list = pickle.load(fr)"
      ]
    },
    {
      "cell_type": "code",
      "execution_count": null,
      "metadata": {
        "colab": {
          "base_uri": "https://localhost:8080/"
        },
        "id": "7lpgK5GnP16L",
        "outputId": "e1f03aa1-a6d1-4ffc-be36-5f6c0bea9626"
      },
      "outputs": [
        {
          "data": {
            "text/plain": [
              "23"
            ]
          },
          "execution_count": 39,
          "metadata": {},
          "output_type": "execute_result"
        }
      ],
      "source": [
        "len(data_list.keys())"
      ]
    },
    {
      "cell_type": "code",
      "execution_count": null,
      "metadata": {
        "id": "TZScGUEbIxbM"
      },
      "outputs": [],
      "source": [
        "train_data_filename_list[(3,\"톰보이\")] = data_list"
      ]
    },
    {
      "cell_type": "code",
      "execution_count": null,
      "metadata": {
        "colab": {
          "base_uri": "https://localhost:8080/"
        },
        "id": "zispNgL_-oLr",
        "outputId": "55757562-8900-4321-af20-d870db87c70b"
      },
      "outputs": [
        {
          "data": {
            "text/plain": [
              "11179"
            ]
          },
          "execution_count": 76,
          "metadata": {},
          "output_type": "execute_result"
        }
      ],
      "source": [
        "len(data_list)"
      ]
    },
    {
      "cell_type": "code",
      "execution_count": null,
      "metadata": {
        "id": "R53ZzRdK9U2U"
      },
      "outputs": [],
      "source": [
        "random_data = np.random.choice(data_list,44700,replace=False)"
      ]
    },
    {
      "cell_type": "code",
      "execution_count": null,
      "metadata": {
        "colab": {
          "base_uri": "https://localhost:8080/"
        },
        "id": "cWHX5gw0_Mlm",
        "outputId": "8378b5db-a23a-4518-d8f9-a477fd50cc03"
      },
      "outputs": [
        {
          "data": {
            "text/plain": [
              "44700"
            ]
          },
          "execution_count": 65,
          "metadata": {},
          "output_type": "execute_result"
        }
      ],
      "source": [
        "len(set(random_data))"
      ]
    },
    {
      "cell_type": "code",
      "execution_count": null,
      "metadata": {
        "id": "hoTJgyEXoRVU"
      },
      "outputs": [],
      "source": [
        "data_list = os.listdir(\"/content/drive/MyDrive/fashiondata/data/train1/리조트\")\n"
      ]
    },
    {
      "cell_type": "code",
      "execution_count": null,
      "metadata": {
        "id": "wBshHqGloSE_"
      },
      "outputs": [],
      "source": [
        "label_list = os.listdir(\"/content/drive/MyDrive/fashiondata/label/Training/리조트\")\n"
      ]
    },
    {
      "cell_type": "code",
      "execution_count": null,
      "metadata": {
        "colab": {
          "base_uri": "https://localhost:8080/"
        },
        "id": "lrlVsIndqUam",
        "outputId": "0be37196-b6ad-473c-b0a0-9a86f19f9a0a"
      },
      "outputs": [
        {
          "data": {
            "text/plain": [
              "73181"
            ]
          },
          "execution_count": 46,
          "metadata": {},
          "output_type": "execute_result"
        }
      ],
      "source": [
        "len(data_list)"
      ]
    },
    {
      "cell_type": "code",
      "execution_count": null,
      "metadata": {
        "colab": {
          "base_uri": "https://localhost:8080/"
        },
        "id": "_ygCj2MftIDU",
        "outputId": "a3029133-133e-4fb8-9463-5aa1d7b085ed"
      },
      "outputs": [
        {
          "data": {
            "text/plain": [
              "83181"
            ]
          },
          "execution_count": 47,
          "metadata": {},
          "output_type": "execute_result"
        }
      ],
      "source": [
        "len(label_list)"
      ]
    },
    {
      "cell_type": "code",
      "execution_count": null,
      "metadata": {
        "colab": {
          "base_uri": "https://localhost:8080/"
        },
        "id": "qj_9zdCiqjl4",
        "outputId": "51580741-5d26-4908-ba85-800073fecd99"
      },
      "outputs": [
        {
          "data": {
            "text/plain": [
              "44700"
            ]
          },
          "execution_count": 72,
          "metadata": {},
          "output_type": "execute_result"
        }
      ],
      "source": [
        "len(random_data)"
      ]
    },
    {
      "cell_type": "markdown",
      "metadata": {
        "id": "cBZ1tju2n8Dj"
      },
      "source": [
        "#data moving"
      ]
    },
    {
      "cell_type": "code",
      "execution_count": null,
      "metadata": {
        "colab": {
          "base_uri": "https://localhost:8080/",
          "height": 35
        },
        "id": "2BTUw_PwuNIx",
        "outputId": "7ed1184e-89ec-4a2c-d2b0-33758718f46a"
      },
      "outputs": [
        {
          "data": {
            "application/vnd.google.colaboratory.intrinsic+json": {
              "type": "string"
            },
            "text/plain": [
              "'1144172.json'"
            ]
          },
          "execution_count": 80,
          "metadata": {},
          "output_type": "execute_result"
        }
      ],
      "source": [
        "label_list[2165]"
      ]
    },
    {
      "cell_type": "code",
      "execution_count": null,
      "metadata": {
        "colab": {
          "base_uri": "https://localhost:8080/"
        },
        "id": "1pELeosmMkjp",
        "outputId": "b3c66376-ebc7-446a-ecaf-7a56366872b4"
      },
      "outputs": [
        {
          "data": {
            "text/plain": [
              "10000"
            ]
          },
          "execution_count": 31,
          "metadata": {},
          "output_type": "execute_result"
        }
      ],
      "source": [
        "len(data_list)"
      ]
    },
    {
      "cell_type": "code",
      "execution_count": null,
      "metadata": {
        "colab": {
          "base_uri": "https://localhost:8080/",
          "height": 49
        },
        "id": "nzY-2ZZ99ZHa",
        "outputId": "9a4f7532-829a-4372-e166-7fca6c5684af"
      },
      "outputs": [
        {
          "data": {
            "application/vnd.jupyter.widget-view+json": {
              "model_id": "161dd1cfa25446f496bc240421475251",
              "version_major": 2,
              "version_minor": 0
            },
            "text/plain": [
              "  0%|          | 0/83181 [00:00<?, ?it/s]"
            ]
          },
          "metadata": {},
          "output_type": "display_data"
        }
      ],
      "source": [
        "path = \"/content/drive/MyDrive/fashiondata/data/train1/리조트/\"\n",
        "\n",
        "filename_list = []\n",
        "\n",
        "for labelname in tqdm(label_list):\n",
        "    \n",
        "    filename = labelname[:-5] + \".jpg\"\n",
        "\n",
        "    try:\n",
        "\n",
        "        shutil.move(path+filename, \"/content/drive/MyDrive/fashiondata/style/data/train/리조트\")\n",
        "    \n",
        "    except:\n",
        "\n",
        "        filename_list.append(labelname)"
      ]
    },
    {
      "cell_type": "code",
      "execution_count": null,
      "metadata": {
        "colab": {
          "base_uri": "https://localhost:8080/"
        },
        "id": "qOgxePw20aG5",
        "outputId": "be26bcbc-ee90-44b8-9f81-d501532e2946"
      },
      "outputs": [
        {
          "data": {
            "text/plain": [
              "10000"
            ]
          },
          "execution_count": 50,
          "metadata": {},
          "output_type": "execute_result"
        }
      ],
      "source": [
        "len(filename_list)"
      ]
    },
    {
      "cell_type": "code",
      "execution_count": null,
      "metadata": {
        "colab": {
          "base_uri": "https://localhost:8080/",
          "height": 404
        },
        "id": "2vgbrBK3t7NH",
        "outputId": "5bf94b22-4b77-4b9a-af80-96e9d81e49a6"
      },
      "outputs": [
        {
          "data": {
            "application/vnd.jupyter.widget-view+json": {
              "model_id": "0e64f548a8e04ee0a3f771aee4dd681b",
              "version_major": 2,
              "version_minor": 0
            },
            "text/plain": [
              "  0%|          | 0/83181 [00:00<?, ?it/s]"
            ]
          },
          "metadata": {},
          "output_type": "display_data"
        },
        {
          "ename": "KeyboardInterrupt",
          "evalue": "ignored",
          "output_type": "error",
          "traceback": [
            "\u001b[0;31m---------------------------------------------------------------------------\u001b[0m",
            "\u001b[0;31mKeyboardInterrupt\u001b[0m                         Traceback (most recent call last)",
            "\u001b[0;32m<ipython-input-51-e5c855628abc>\u001b[0m in \u001b[0;36m<module>\u001b[0;34m\u001b[0m\n\u001b[1;32m     12\u001b[0m     \u001b[0;32melse\u001b[0m\u001b[0;34m:\u001b[0m\u001b[0;34m\u001b[0m\u001b[0;34m\u001b[0m\u001b[0m\n\u001b[1;32m     13\u001b[0m \u001b[0;34m\u001b[0m\u001b[0m\n\u001b[0;32m---> 14\u001b[0;31m         \u001b[0mshutil\u001b[0m\u001b[0;34m.\u001b[0m\u001b[0mmove\u001b[0m\u001b[0;34m(\u001b[0m\u001b[0mpath\u001b[0m\u001b[0;34m+\u001b[0m\u001b[0mlabelname\u001b[0m\u001b[0;34m,\u001b[0m \u001b[0;34m\"/content/drive/MyDrive/fashiondata/style/label/train/리조트\"\u001b[0m\u001b[0;34m)\u001b[0m\u001b[0;34m\u001b[0m\u001b[0;34m\u001b[0m\u001b[0m\n\u001b[0m\u001b[1;32m     15\u001b[0m \u001b[0;34m\u001b[0m\u001b[0m\n\u001b[1;32m     16\u001b[0m \u001b[0mprint\u001b[0m\u001b[0;34m(\u001b[0m\u001b[0mcount\u001b[0m\u001b[0;34m)\u001b[0m\u001b[0;34m\u001b[0m\u001b[0;34m\u001b[0m\u001b[0m\n",
            "\u001b[0;32m/usr/lib/python3.9/shutil.py\u001b[0m in \u001b[0;36mmove\u001b[0;34m(src, dst, copy_function)\u001b[0m\n\u001b[1;32m    823\u001b[0m             \u001b[0;32mraise\u001b[0m \u001b[0mError\u001b[0m\u001b[0;34m(\u001b[0m\u001b[0;34m\"Destination path '%s' already exists\"\u001b[0m \u001b[0;34m%\u001b[0m \u001b[0mreal_dst\u001b[0m\u001b[0;34m)\u001b[0m\u001b[0;34m\u001b[0m\u001b[0;34m\u001b[0m\u001b[0m\n\u001b[1;32m    824\u001b[0m     \u001b[0;32mtry\u001b[0m\u001b[0;34m:\u001b[0m\u001b[0;34m\u001b[0m\u001b[0;34m\u001b[0m\u001b[0m\n\u001b[0;32m--> 825\u001b[0;31m         \u001b[0mos\u001b[0m\u001b[0;34m.\u001b[0m\u001b[0mrename\u001b[0m\u001b[0;34m(\u001b[0m\u001b[0msrc\u001b[0m\u001b[0;34m,\u001b[0m \u001b[0mreal_dst\u001b[0m\u001b[0;34m)\u001b[0m\u001b[0;34m\u001b[0m\u001b[0;34m\u001b[0m\u001b[0m\n\u001b[0m\u001b[1;32m    826\u001b[0m     \u001b[0;32mexcept\u001b[0m \u001b[0mOSError\u001b[0m\u001b[0;34m:\u001b[0m\u001b[0;34m\u001b[0m\u001b[0;34m\u001b[0m\u001b[0m\n\u001b[1;32m    827\u001b[0m         \u001b[0;32mif\u001b[0m \u001b[0mos\u001b[0m\u001b[0;34m.\u001b[0m\u001b[0mpath\u001b[0m\u001b[0;34m.\u001b[0m\u001b[0mislink\u001b[0m\u001b[0;34m(\u001b[0m\u001b[0msrc\u001b[0m\u001b[0;34m)\u001b[0m\u001b[0;34m:\u001b[0m\u001b[0;34m\u001b[0m\u001b[0;34m\u001b[0m\u001b[0m\n",
            "\u001b[0;31mKeyboardInterrupt\u001b[0m: "
          ]
        }
      ],
      "source": [
        "path = \"/content/drive/MyDrive/fashiondata/label/Training/리조트/\"\n",
        "\n",
        "count = 0\n",
        "\n",
        "for labelname in tqdm(label_list):\n",
        "    \n",
        "    if labelname in filename_list:\n",
        "        \n",
        "        count += 1\n",
        "        continue\n",
        "    \n",
        "    else:\n",
        "\n",
        "        shutil.move(path+labelname, \"/content/drive/MyDrive/fashiondata/style/label/train/리조트\")\n",
        "\n",
        "print(count)"
      ]
    },
    {
      "cell_type": "code",
      "execution_count": null,
      "metadata": {
        "id": "CMEDKo16J_F-"
      },
      "outputs": [],
      "source": []
    },
    {
      "cell_type": "code",
      "execution_count": null,
      "metadata": {
        "colab": {
          "base_uri": "https://localhost:8080/",
          "height": 67
        },
        "id": "qPPFhpS7_RnM",
        "outputId": "32ea68ef-ada3-4eb0-c064-19125fc6e6bc"
      },
      "outputs": [
        {
          "data": {
            "application/vnd.jupyter.widget-view+json": {
              "model_id": "f0039cf6e151489da6a6779a8c46bf85",
              "version_major": 2,
              "version_minor": 0
            },
            "text/plain": [
              "  0%|          | 0/44700 [00:00<?, ?it/s]"
            ]
          },
          "metadata": {},
          "output_type": "display_data"
        },
        {
          "name": "stdout",
          "output_type": "stream",
          "text": [
            "0\n"
          ]
        }
      ],
      "source": [
        "path = \"/content/drive/MyDrive/fashiondata/label/Validation/스트리트/\"\n",
        "\n",
        "count = 0\n",
        "\n",
        "for filename in tqdm(random_data):\n",
        "    \n",
        "    labelname = filename[:-4] + \".json\"\n",
        "\n",
        "    try:\n",
        "\n",
        "        shutil.move(path+labelname, \"/content/drive/MyDrive/fashiondata/style/label/train/스트리트\")\n",
        "    \n",
        "    except:\n",
        "\n",
        "        os.remove(\"/content/drive/MyDrive/fashiondata/style/label/train/스트리트\" + filename)      \n",
        "        count += 1\n",
        "\n",
        "print(count)"
      ]
    },
    {
      "cell_type": "code",
      "execution_count": null,
      "metadata": {
        "id": "2Rwq3WAeAxyd"
      },
      "outputs": [],
      "source": [
        "#initialization class array & adj array\n",
        "\n",
        "nums = [0]*23\n",
        "adj = [[0]*23 for _ in range(23)]"
      ]
    },
    {
      "cell_type": "code",
      "execution_count": null,
      "metadata": {
        "id": "4WUnZ1DMFE8N"
      },
      "outputs": [],
      "source": [
        "train1 = [\"레트로\",\"로맨틱\",\"리조트\",\"매니시\",\"모던\",\"밀리터리\",\"섹시\",\"소피스트케이티드\"]\n",
        "train2 = [\"스트리트\"]\n",
        "train3 = [\"스포티\",\"아방가르드\",\"오리엔탈\",\"웨스턴\",\"젠더리스\",\"컨트리\",\"클래식\",\"키치\",\"톰보이\",\"펑크\",\"페미닌\",\"프레피\",\"히피\",\"힙합\"]\n",
        "\n",
        "class_name = [train1,train2,train3]\n",
        "\n",
        "train_data_list = []"
      ]
    },
    {
      "cell_type": "code",
      "execution_count": null,
      "metadata": {
        "colab": {
          "base_uri": "https://localhost:8080/",
          "height": 295
        },
        "id": "3eH1KxXFLdQ6",
        "outputId": "b9f690c1-dc2d-4b1d-a20e-b5057ba76111"
      },
      "outputs": [
        {
          "data": {
            "application/vnd.jupyter.widget-view+json": {
              "model_id": "f98e41a5c3074d82a9d18d833aae1ca4",
              "version_major": 2,
              "version_minor": 0
            },
            "text/plain": [
              "  0%|          | 0/3 [00:00<?, ?it/s]"
            ]
          },
          "metadata": {},
          "output_type": "display_data"
        },
        {
          "name": "stdout",
          "output_type": "stream",
          "text": [
            "레트로 : 6833\n"
          ]
        },
        {
          "ename": "OSError",
          "evalue": "ignored",
          "output_type": "error",
          "traceback": [
            "\u001b[0;31m---------------------------------------------------------------------------\u001b[0m",
            "\u001b[0;31mOSError\u001b[0m                                   Traceback (most recent call last)",
            "\u001b[0;32m<ipython-input-9-62bb2d1d802b>\u001b[0m in \u001b[0;36m<module>\u001b[0;34m\u001b[0m\n\u001b[1;32m      9\u001b[0m         \u001b[0;31m#random sample 200\u001b[0m\u001b[0;34m\u001b[0m\u001b[0;34m\u001b[0m\u001b[0m\n\u001b[1;32m     10\u001b[0m \u001b[0;34m\u001b[0m\u001b[0m\n\u001b[0;32m---> 11\u001b[0;31m         \u001b[0mdata_list\u001b[0m \u001b[0;34m=\u001b[0m \u001b[0mos\u001b[0m\u001b[0;34m.\u001b[0m\u001b[0mlistdir\u001b[0m\u001b[0;34m(\u001b[0m\u001b[0;34mf\"/content/drive/MyDrive/fashiondata/data/train{i+1}/{c}\"\u001b[0m\u001b[0;34m)\u001b[0m\u001b[0;34m\u001b[0m\u001b[0;34m\u001b[0m\u001b[0m\n\u001b[0m\u001b[1;32m     12\u001b[0m \u001b[0;34m\u001b[0m\u001b[0m\n\u001b[1;32m     13\u001b[0m         \u001b[0mtrain_data_filename_list\u001b[0m\u001b[0;34m[\u001b[0m\u001b[0;34m(\u001b[0m\u001b[0mi\u001b[0m\u001b[0;34m+\u001b[0m\u001b[0;36m1\u001b[0m\u001b[0;34m,\u001b[0m\u001b[0mc\u001b[0m\u001b[0;34m)\u001b[0m\u001b[0;34m]\u001b[0m \u001b[0;34m=\u001b[0m \u001b[0mdata_list\u001b[0m\u001b[0;34m\u001b[0m\u001b[0;34m\u001b[0m\u001b[0m\n",
            "\u001b[0;31mOSError\u001b[0m: [Errno 5] Input/output error: '/content/drive/MyDrive/fashiondata/data/train1/로맨틱'"
          ]
        }
      ],
      "source": [
        "#preprocessing\n",
        "\n",
        "train_data_filename_list = {}\n",
        "\n",
        "for i in tqdm(range(3)):\n",
        "    \n",
        "    for c in class_name[i]:\n",
        "        \n",
        "        #random sample 200\n",
        "\n",
        "        data_list = os.listdir(f\"/content/drive/MyDrive/fashiondata/data/train{i+1}/{c}\")\n",
        "\n",
        "        train_data_filename_list[(i+1,c)] = data_list\n",
        "\n",
        "        print(c,\":\",len(data_list))"
      ]
    },
    {
      "cell_type": "code",
      "execution_count": null,
      "metadata": {
        "colab": {
          "base_uri": "https://localhost:8080/"
        },
        "id": "SFtUihMpeW2q",
        "outputId": "c25c00d6-dc22-4d7d-8e3a-37ab5c17029d"
      },
      "outputs": [
        {
          "data": {
            "text/plain": [
              "511111"
            ]
          },
          "execution_count": 15,
          "metadata": {},
          "output_type": "execute_result"
        }
      ],
      "source": [
        "sum([6833,73173,83181,8488,79555,3633,6322,32598,14701,3671,4069,1712,11980,32114,39383,4680,7578,382,87871,2471,6516,200])"
      ]
    },
    {
      "cell_type": "code",
      "execution_count": null,
      "metadata": {
        "colab": {
          "base_uri": "https://localhost:8080/",
          "height": 309
        },
        "id": "U_iXSWqWFxYu",
        "outputId": "3d733566-6b79-4ee8-8758-ac96b187d95a"
      },
      "outputs": [
        {
          "data": {
            "application/vnd.jupyter.widget-view+json": {
              "model_id": "05795ce6a9e84edfaa080bb4df96b82a",
              "version_major": 2,
              "version_minor": 0
            },
            "text/plain": [
              "  0%|          | 0/6833 [00:00<?, ?it/s]"
            ]
          },
          "metadata": {},
          "output_type": "display_data"
        },
        {
          "data": {
            "application/vnd.jupyter.widget-view+json": {
              "model_id": "220c5383f7cf40859c49eba867962e19",
              "version_major": 2,
              "version_minor": 0
            },
            "text/plain": [
              "  0%|          | 0/10000 [00:00<?, ?it/s]"
            ]
          },
          "metadata": {},
          "output_type": "display_data"
        },
        {
          "ename": "OSError",
          "evalue": "ignored",
          "output_type": "error",
          "traceback": [
            "\u001b[0;31m---------------------------------------------------------------------------\u001b[0m",
            "\u001b[0;31mOSError\u001b[0m                                   Traceback (most recent call last)",
            "\u001b[0;32m<ipython-input-47-b7788eaa948a>\u001b[0m in \u001b[0;36m<module>\u001b[0;34m\u001b[0m\n\u001b[1;32m     27\u001b[0m         \u001b[0;32mtry\u001b[0m\u001b[0;34m:\u001b[0m\u001b[0;34m\u001b[0m\u001b[0;34m\u001b[0m\u001b[0m\n\u001b[1;32m     28\u001b[0m \u001b[0;34m\u001b[0m\u001b[0m\n\u001b[0;32m---> 29\u001b[0;31m             \u001b[0;32mwith\u001b[0m \u001b[0mopen\u001b[0m\u001b[0;34m(\u001b[0m\u001b[0;34mf\"{label_path}{json_name}\"\u001b[0m\u001b[0;34m,\u001b[0m\u001b[0;34m\"r\"\u001b[0m\u001b[0;34m)\u001b[0m \u001b[0;32mas\u001b[0m \u001b[0mfr\u001b[0m\u001b[0;34m:\u001b[0m\u001b[0;34m\u001b[0m\u001b[0;34m\u001b[0m\u001b[0m\n\u001b[0m\u001b[1;32m     30\u001b[0m \u001b[0;34m\u001b[0m\u001b[0m\n\u001b[1;32m     31\u001b[0m                 \u001b[0mdata\u001b[0m \u001b[0;34m=\u001b[0m \u001b[0mjson\u001b[0m\u001b[0;34m.\u001b[0m\u001b[0mload\u001b[0m\u001b[0;34m(\u001b[0m\u001b[0mfr\u001b[0m\u001b[0;34m)\u001b[0m\u001b[0;34m\u001b[0m\u001b[0;34m\u001b[0m\u001b[0m\n",
            "\u001b[0;31mOSError\u001b[0m: [Errno 5] Input/output error: '/content/drive/MyDrive/fashiondata/label/Training/로맨틱/1203226.json'"
          ]
        }
      ],
      "source": [
        "#create total train_data\n",
        "\n",
        "special = [\"로맨틱\",\"리조트\",\"모던\",\"소피스트케이티드\",\"스포티\",\"젠더리스\",\"컨트리\",\"페미닌\"]\n",
        "\n",
        "train_data_list = []\n",
        "\n",
        "for (i,c),value in train_data_filename_list.items():\n",
        "    \n",
        "    if c in special:\n",
        "        \n",
        "        root_path = f\"/content/drive/MyDrive/fashiondata/data/train{i}/{c}1/\"\n",
        "    \n",
        "    else:\n",
        "        \n",
        "        root_path = f\"/content/drive/MyDrive/fashiondata/data/train{i}/{c}/\"\n",
        "    \n",
        "    label_path = f\"/content/drive/MyDrive/fashiondata/label/Training/{c}/\"\n",
        "\n",
        "    for file_name in tqdm(value):\n",
        "        \n",
        "        json_name = file_name[:-4] + \".json\"\n",
        "        \n",
        "        labels = []\n",
        "\n",
        "        train_data = {}\n",
        "\n",
        "        try:\n",
        "\n",
        "            with open(f\"{label_path}{json_name}\",\"r\") as fr:\n",
        "                \n",
        "                data = json.load(fr)\n",
        "\n",
        "                label_dict = data['데이터셋 정보']['데이터셋 상세설명']['라벨링']['스타일'][0]\n",
        "\n",
        "                for key in label_dict:\n",
        "\n",
        "                    labels.append(label[label_dict[key]])\n",
        "\n",
        "                    nums[label[label_dict[key]]] += 1\n",
        "                \n",
        "                if len(labels) == 2:\n",
        "                    \n",
        "                    A = labels[0]\n",
        "                    B = labels[1]\n",
        "\n",
        "                    adj[A][B] += 1\n",
        "                    adj[B][A] += 1\n",
        "\n",
        "                file_name = root_path + file_name \n",
        "\n",
        "                train_data[\"file_name\"] = file_name\n",
        "                train_data[\"labels\"] = labels\n",
        "            \n",
        "            train_data_list.append(train_data)\n",
        "        \n",
        "        except FileNotFoundError:\n",
        "            \n",
        "            continue\n",
        "\n",
        "print(len(train_data_list))\n",
        "print(np.array(nums))\n",
        "print(np.array(adj))"
      ]
    },
    {
      "cell_type": "code",
      "execution_count": null,
      "metadata": {
        "id": "zcUaVw5reRO_"
      },
      "outputs": [],
      "source": [
        "with open(\"/content/drive/MyDrive/pickle/train_data.pkl\",\"wb\") as fw:\n",
        "    pickle.dump(train_data_list, fw)"
      ]
    },
    {
      "cell_type": "code",
      "execution_count": null,
      "metadata": {
        "colab": {
          "base_uri": "https://localhost:8080/"
        },
        "id": "nMpHf6awrDXY",
        "outputId": "6ec802fb-4ad3-4305-e849-1c880e84b554"
      },
      "outputs": [
        {
          "name": "stdout",
          "output_type": "stream",
          "text": [
            "{'nums': array([ 305,  207,  234,  252,  456,  364,  235,  217,  225,  215,  460,\n",
            "        280,  222,  285,  390,  256,  244,  234,  212,  212,  209, 1170,\n",
            "        207]), 'adj': array([[  0,   8,  21,  14,  42,   6,   1,   0,   6,   1,  40,  15,   1,\n",
            "         10,   7,  15,   0,   4,   0,   1,   0,  31,   3],\n",
            "       [  8,   0,   1,   5,  22,  11,   0,   0,   2,   0,   8,   1,   0,\n",
            "          6,   0,   2,   0,   1,   0,   3,   0,  42,   0],\n",
            "       [ 21,   1,   0,  34,   2,   6,   0,   0,   2,   0,  19,  11,   0,\n",
            "          0,   7,  10,   0,   1,   0,   0,   0,  45,   4],\n",
            "       [ 14,   5,  34,   0,   1,   4,   0,   0,   0,   0,  12,   5,   1,\n",
            "          5,   5,  20,   0,   1,   1,   3,   5,  76,   6],\n",
            "       [ 42,  22,   2,   1,   0,  58,  29,   6,  15,  13,  37,  43,   9,\n",
            "          9,  13,   2,   4,  16,   0,   3,  13,  16,   7],\n",
            "       [  6,  11,   6,   4,  58,   0,  11,  11,   4,  11,  10,  20,   2,\n",
            "         17,  22,   0,   4,  23,   0,   7,  21,  39,   0],\n",
            "       [  1,   0,   0,   0,  29,  11,   0,   8,   4,   1,   8,  12,   1,\n",
            "          0,   4,   0,   9,   2,  10,   3,   3,  62,   1],\n",
            "       [  0,   0,   0,   0,   6,  11,   8,   0,   6,   7,   7,   3,   1,\n",
            "         11,  33,   1,   0,   5,   0,   1,   0,  47,   0],\n",
            "       [  6,   2,   2,   0,  15,   4,   4,   6,   0,   2,   5,   2,   6,\n",
            "          7,   7,   4,   1,   3,   0,   1,  10,  41,   3],\n",
            "       [  1,   0,   0,   0,  13,  11,   1,   7,   2,   0,  22,   7,   5,\n",
            "          8,  23,   2,   2,   2,   0,   0,   0,  28,   0],\n",
            "       [ 40,   8,  19,  12,  37,  10,   8,   7,   5,  22,   0,  36,  43,\n",
            "          8,  24,  17,   5,   9,   0,   4,   5,  26,   5],\n",
            "       [ 15,   1,  11,   5,  43,  20,  12,   3,   2,   7,  36,   0,   2,\n",
            "          0,   3,   4,   0,   3,   0,   1,   0,  12,   0],\n",
            "       [  1,   0,   0,   1,   9,   2,   1,   1,   6,   5,  43,   2,   0,\n",
            "          5,   3,   1,   0,   0,   0,   3,   8,  34,   0],\n",
            "       [ 10,   6,   0,   5,   9,  17,   0,  11,   7,   8,   8,   0,   5,\n",
            "          0,  49,   4,   0,  18,   0,   3,   0,  44,   2],\n",
            "       [  7,   0,   7,   5,  13,  22,   4,  33,   7,  23,  24,   3,   3,\n",
            "         49,   0,  10,  12,   9,   0,   9,   0,  39,   3],\n",
            "       [ 15,   2,  10,  20,   2,   0,   0,   1,   4,   2,  17,   4,   1,\n",
            "          4,  10,   0,  10,   0,   0,   2,   2,  51,  10],\n",
            "       [  0,   0,   0,   0,   4,   4,   9,   0,   1,   2,   5,   0,   0,\n",
            "          0,  12,  10,   0,   1,  20,   9,   0,  96,   5],\n",
            "       [  4,   1,   1,   1,  16,  23,   2,   5,   3,   2,   9,   3,   0,\n",
            "         18,   9,   0,   1,   0,   0,  13,   6,  62,   0],\n",
            "       [  0,   0,   0,   1,   0,   0,  10,   0,   0,   0,   0,   0,   0,\n",
            "          0,   0,   0,  20,   0,   0,   3,   2,  58,   1],\n",
            "       [  1,   3,   0,   3,   3,   7,   3,   1,   1,   0,   4,   1,   3,\n",
            "          3,   9,   2,   9,  13,   3,   0,   0, 100,   0],\n",
            "       [  0,   0,   0,   5,  13,  21,   3,   0,  10,   0,   5,   0,   8,\n",
            "          0,   0,   2,   0,   6,   2,   0,   0, 110,   5],\n",
            "       [ 31,  42,  45,  76,  16,  39,  62,  47,  41,  28,  26,  12,  34,\n",
            "         44,  39,  51,  96,  62,  58, 100, 110,   0, 111],\n",
            "       [  3,   0,   4,   6,   7,   0,   1,   0,   3,   0,   5,   0,   0,\n",
            "          2,   3,  10,   5,   0,   1,   0,   5, 111,   0]])}\n"
          ]
        }
      ],
      "source": [
        "#custom adj\n",
        "\n",
        "custom_adj = {'nums':np.array(nums), 'adj':np.array(adj)}\n",
        "\n",
        "print(custom_adj)"
      ]
    },
    {
      "cell_type": "code",
      "execution_count": null,
      "metadata": {
        "id": "Rp7jKxbNrdAT"
      },
      "outputs": [],
      "source": [
        "## Save pickle\n",
        "with open(\"custom_adj.pkl\",\"wb\") as fw:\n",
        "    pickle.dump(custom_adj, fw)"
      ]
    },
    {
      "cell_type": "code",
      "execution_count": null,
      "metadata": {
        "id": "TjrgSxb5r3te"
      },
      "outputs": [],
      "source": [
        "## check\n",
        "with open(\"/content/custom_adj.pkl\",\"rb\") as fr:\n",
        "    data1 = pickle.load(fr)\n",
        "print(data1)"
      ]
    },
    {
      "cell_type": "code",
      "execution_count": null,
      "metadata": {
        "id": "b8Vme3LGsFg2"
      },
      "outputs": [],
      "source": [
        "#create word2vec\n",
        "\n",
        "import gensim\n",
        "model = gensim.models.KeyedVectors.load_word2vec_format('/content/drive/MyDrive/dataset/GoogleNews-vectors-negative300.bin', binary=True)"
      ]
    },
    {
      "cell_type": "code",
      "execution_count": null,
      "metadata": {
        "colab": {
          "base_uri": "https://localhost:8080/"
        },
        "id": "Qd2NqjD1sxWN",
        "outputId": "a76b2661-c51b-430f-91b9-a15850263222"
      },
      "outputs": [
        {
          "data": {
            "text/plain": [
              "(3000000, 300)"
            ]
          },
          "execution_count": 66,
          "metadata": {},
          "output_type": "execute_result"
        }
      ],
      "source": [
        "model.vectors.shape"
      ]
    },
    {
      "cell_type": "code",
      "execution_count": null,
      "metadata": {
        "id": "rk4F6yRWtBDQ"
      },
      "outputs": [],
      "source": [
        "label = {\"classic\": 0,\n",
        "         \"preppy\":1, \n",
        "         \"manish\": 2,\n",
        "         \"tomboy\":3, \n",
        "         \"feminine\": 4,\n",
        "         \"romantic\": 5,\n",
        "         \"sexy\": 6,\n",
        "         \"hippie\": 7,\n",
        "         \"western\": 8,\n",
        "         \"oriental\": 9,\n",
        "         \"modern\": 10,\n",
        "         \"sophisticated\": 11,\n",
        "         \"avantgarde\": 12,\n",
        "         \"country\": 13,\n",
        "         \"resort\": 14,\n",
        "         \"genderless\": 15,\n",
        "         \"sporty\": 16,\n",
        "         \"retro\": 17,\n",
        "         \"hiphop\": 18,\n",
        "         \"kitsch\": 19,\n",
        "         \"punk\": 20,\n",
        "         \"street\": 21,\n",
        "         \"military\":22\n",
        "         }"
      ]
    },
    {
      "cell_type": "code",
      "execution_count": null,
      "metadata": {
        "colab": {
          "base_uri": "https://localhost:8080/"
        },
        "id": "9Ct5QY3FusSP",
        "outputId": "c9ae98e7-07e0-45a9-8f32-d5902da1d9b2"
      },
      "outputs": [
        {
          "name": "stdout",
          "output_type": "stream",
          "text": [
            "[]\n"
          ]
        }
      ],
      "source": [
        "data = np.array([])\n",
        "\n",
        "print(data)"
      ]
    },
    {
      "cell_type": "code",
      "execution_count": null,
      "metadata": {
        "colab": {
          "base_uri": "https://localhost:8080/"
        },
        "id": "ebcPbU2-u0lB",
        "outputId": "a3cf3669-217c-4a4e-afc3-977b3de6a1a4"
      },
      "outputs": [
        {
          "name": "stdout",
          "output_type": "stream",
          "text": [
            "[[ 0.2890625   0.06982422  0.16210938 ... -0.12451172  0.02148438\n",
            "  -0.04370117]\n",
            " [ 0.03930664  0.10595703 -0.18359375 ... -0.21484375  0.16113281\n",
            "   0.36132812]\n",
            " [-0.14550781  0.03637695  0.05175781 ... -0.0625     -0.07910156\n",
            "   0.02819824]\n",
            " ...\n",
            " [ 0.05224609 -0.03808594  0.20410156 ... -0.265625    0.09570312\n",
            "   0.14355469]\n",
            " [ 0.09814453  0.07568359  0.03088379 ... -0.04833984  0.21289062\n",
            "  -0.13867188]\n",
            " [-0.03442383  0.21679688 -0.09472656 ... -0.04003906  0.15527344\n",
            "   0.10009766]]\n"
          ]
        }
      ],
      "source": [
        "data = []\n",
        "\n",
        "for key in label:\n",
        "    \n",
        "    data.append(model[key])\n",
        "\n",
        "data = np.array(data)\n",
        "\n",
        "print(data)"
      ]
    },
    {
      "cell_type": "code",
      "execution_count": null,
      "metadata": {
        "id": "m0DmDPv3vB6F"
      },
      "outputs": [],
      "source": [
        "## Save pickle\n",
        "with open(\"custom_word2vec.pkl\",\"wb\") as fw:\n",
        "    pickle.dump(data, fw)"
      ]
    },
    {
      "cell_type": "code",
      "execution_count": null,
      "metadata": {
        "colab": {
          "base_uri": "https://localhost:8080/"
        },
        "id": "dMjYA827vL85",
        "outputId": "4c15be77-2d1d-4f9a-c894-c5da54d9e836"
      },
      "outputs": [
        {
          "data": {
            "text/plain": [
              "(300,)"
            ]
          },
          "execution_count": 78,
          "metadata": {},
          "output_type": "execute_result"
        }
      ],
      "source": [
        "## check\n",
        "with open(\"/content/custom_word2vec.pkl\",\"rb\") as fr:\n",
        "    data1 = pickle.load(fr)\n",
        "print(data1)"
      ]
    },
    {
      "cell_type": "code",
      "execution_count": null,
      "metadata": {
        "id": "TErAGz-1y1Eo"
      },
      "outputs": [],
      "source": []
    },
    {
      "cell_type": "markdown",
      "metadata": {
        "id": "sovdP_5Wy1uL"
      },
      "source": [
        "# define model"
      ]
    },
    {
      "cell_type": "code",
      "execution_count": null,
      "metadata": {
        "id": "E-oJDrxvy5Hv"
      },
      "outputs": [],
      "source": [
        "class GraphConvolution(nn.Module):\n",
        "\n",
        "    def __init__(self, in_features, out_features, bias=False):\n",
        "        super(GraphConvolution, self).__init__()\n",
        "        self.in_features = in_features\n",
        "        self.out_features = out_features\n",
        "        self.weight = Parameter(torch.Tensor(in_features, out_features))\n",
        "        if bias:\n",
        "            self.bias = Parameter(torch.Tensor(1, 1, out_features))\n",
        "        else:\n",
        "            self.register_parameter('bias', None)\n",
        "        self.reset_parameters()\n",
        "\n",
        "    def reset_parameters(self):\n",
        "        stdv = 1. / math.sqrt(self.weight.size(1))\n",
        "        self.weight.data.uniform_(-stdv, stdv)\n",
        "        if self.bias is not None:\n",
        "            self.bias.data.uniform_(-stdv, stdv)\n",
        "\n",
        "    def forward(self, input, adj):\n",
        "        support = torch.matmul(input, self.weight)\n",
        "        output = torch.matmul(adj, support)\n",
        "        if self.bias is not None:\n",
        "            return output + self.bias\n",
        "        else:\n",
        "            return output\n",
        "\n",
        "    def __repr__(self):\n",
        "        return self.__class__.__name__ + ' (' \\\n",
        "               + str(self.in_features) + ' -> ' \\\n",
        "               + str(self.out_features) + ')'\n",
        "\n",
        "\n",
        "class GCNResnet(nn.Module):\n",
        "    def __init__(self, model, num_classes, in_channel=300, t=0, adj_file=None):\n",
        "        super(GCNResnet, self).__init__()\n",
        "        self.features = nn.Sequential(\n",
        "            model.conv1,\n",
        "            model.bn1,\n",
        "            model.relu,\n",
        "            model.maxpool,\n",
        "            model.layer1,\n",
        "            model.layer2,\n",
        "            model.layer3,\n",
        "            model.layer4,\n",
        "        )\n",
        "        self.num_classes = num_classes\n",
        "        # self.pooling = nn.MaxPool2d(14, 14)\n",
        "        self.pooling = nn.MaxPool2d(7, 7)\n",
        "\n",
        "        self.gc1 = GraphConvolution(in_channel, 1024)\n",
        "        self.gc2 = GraphConvolution(1024, 2048)\n",
        "        self.relu = nn.LeakyReLU(0.2)\n",
        "\n",
        "        _adj = gen_A(num_classes, t, adj_file)\n",
        "        self.A = Parameter(torch.from_numpy(_adj).float())\n",
        "        #         # image normalization\n",
        "        self.image_normalization_mean = [0.485, 0.456, 0.406]\n",
        "        self.image_normalization_std = [0.229, 0.224, 0.225]\n",
        "\n",
        "    def forward(self, feature, inp):\n",
        "        feature = self.features(feature)\n",
        "        feature = self.pooling(feature)\n",
        "        feature = feature.view(feature.size(0), -1)\n",
        "        inp = inp[0]\n",
        "        adj = gen_adj(self.A).detach()\n",
        "        x = self.gc1(inp, adj)\n",
        "        x = self.relu(x)\n",
        "        x = self.gc2(x, adj)\n",
        "        x = x.transpose(0, 1)\n",
        "        x = torch.matmul(feature, x)\n",
        "        return x\n",
        "\n",
        "    def get_config_optim(self, lr, lrp):\n",
        "        return [\n",
        "                {'params': self.features.parameters(), 'lr': lr * lrp},\n",
        "                {'params': self.gc1.parameters(), 'lr': lr},\n",
        "                {'params': self.gc2.parameters(), 'lr': lr},\n",
        "                ]\n",
        "\n",
        "\n",
        "def gcn_resnet101(num_classes, t, pretrained=True, adj_file=None, in_channel=300):\n",
        "    model = models.resnet101(pretrained=pretrained)\n",
        "    return GCNResnet(model, num_classes, t=t, adj_file=adj_file, in_channel=in_channel)"
      ]
    },
    {
      "cell_type": "code",
      "execution_count": null,
      "metadata": {
        "colab": {
          "base_uri": "https://localhost:8080/",
          "height": 214,
          "referenced_widgets": [
            "a7e387fbc4c54512b663a4a1578d5d8c",
            "0f8b4653ece94999902399f85b00301d",
            "e77169756a1142c5aa3420a3dd85c0b3",
            "cf22ff59f3cd4d189ab042baa55061ab",
            "570c4ab0fb7a42d8847a207a881bdb8e",
            "41ec65d63b634d7785c92a818b65a740",
            "1a9831626efb4596906a7585873fc609",
            "f09562950bea4fd7963541ae44d428ab",
            "d9e4ed851dd44a2783f254c6beaac27b",
            "8cc4203a6b034b4fb14625ed24926b38",
            "971125066d484374928baa344f89e318"
          ]
        },
        "id": "mm15xcXVzEQD",
        "outputId": "cfd0a14e-7421-4137-d092-65226003ac50"
      },
      "outputs": [
        {
          "output_type": "stream",
          "name": "stderr",
          "text": [
            "/usr/local/lib/python3.9/dist-packages/torchvision/models/_utils.py:208: UserWarning: The parameter 'pretrained' is deprecated since 0.13 and may be removed in the future, please use 'weights' instead.\n",
            "  warnings.warn(\n",
            "/usr/local/lib/python3.9/dist-packages/torchvision/models/_utils.py:223: UserWarning: Arguments other than a weight enum or `None` for 'weights' are deprecated since 0.13 and may be removed in the future. The current behavior is equivalent to passing `weights=ResNet101_Weights.IMAGENET1K_V1`. You can also use `weights=ResNet101_Weights.DEFAULT` to get the most up-to-date weights.\n",
            "  warnings.warn(msg)\n",
            "Downloading: \"https://download.pytorch.org/models/resnet101-63fe2227.pth\" to /root/.cache/torch/hub/checkpoints/resnet101-63fe2227.pth\n"
          ]
        },
        {
          "output_type": "display_data",
          "data": {
            "text/plain": [
              "  0%|          | 0.00/171M [00:00<?, ?B/s]"
            ],
            "application/vnd.jupyter.widget-view+json": {
              "version_major": 2,
              "version_minor": 0,
              "model_id": "a7e387fbc4c54512b663a4a1578d5d8c"
            }
          },
          "metadata": {}
        },
        {
          "output_type": "stream",
          "name": "stderr",
          "text": [
            "<ipython-input-4-ac00a1f67dd8>:307: DeprecationWarning: `np.int` is a deprecated alias for the builtin `int`. To silence this warning, use `int` by itself. Doing this will not modify any behavior and is safe. When replacing `np.int`, you may wish to use e.g. `np.int64` or `np.int32` to specify the precision. If you wish to review your current use, check the release note link for additional information.\n",
            "Deprecated in NumPy 1.20; for more details and guidance: https://numpy.org/devdocs/release/1.20.0-notes.html#deprecations\n",
            "  _adj = _adj + np.identity(num_classes, np.int)\n"
          ]
        }
      ],
      "source": [
        "#load ImageNet pretrained model\n",
        "\n",
        "adj = \"/content/drive/MyDrive/pickle/adj_file.pkl\"\n",
        "\n",
        "model = gcn_resnet101(num_classes=num_classes, t=0.03, pretrained = True, adj_file=adj, in_channel = 300)"
      ]
    },
    {
      "cell_type": "code",
      "execution_count": null,
      "metadata": {
        "id": "S1kCh6kUzbdr"
      },
      "outputs": [],
      "source": []
    },
    {
      "cell_type": "markdown",
      "metadata": {
        "id": "NB9xfme8ply_"
      },
      "source": [
        "# define StyleDataset"
      ]
    },
    {
      "cell_type": "code",
      "execution_count": null,
      "metadata": {
        "id": "ECMKQ4Pqy3zl"
      },
      "outputs": [],
      "source": [
        "#transform\n",
        "\n",
        "normalize = transforms.Normalize(mean = model.image_normalization_mean, std = model.image_normalization_std)\n",
        "\n",
        "train_transform = transforms.Compose([\n",
        "    MultiScaleCrop(image_size, scales = (1.0,0.875,0.75, 0.66,0.5), max_distort = 2),\n",
        "    #transforms.RandomHorizontalFlip(),\n",
        "    transforms.ToTensor(),\n",
        "    normalize,\n",
        "])\n",
        "\n",
        "val_transform = transforms.Compose([\n",
        "    Warp(image_size),\n",
        "    transforms.ToTensor(),\n",
        "    normalize,\n",
        "])"
      ]
    },
    {
      "cell_type": "code",
      "execution_count": null,
      "metadata": {
        "colab": {
          "base_uri": "https://localhost:8080/"
        },
        "id": "Vba7hcZxwEcY",
        "outputId": "b3d78a58-6790-4e0f-8abb-1bec37947bee"
      },
      "outputs": [
        {
          "output_type": "execute_result",
          "data": {
            "text/plain": [
              "152757"
            ]
          },
          "metadata": {},
          "execution_count": 13
        }
      ],
      "source": [
        "len(train_data_list) #train_data_file, label"
      ]
    },
    {
      "cell_type": "code",
      "execution_count": null,
      "metadata": {
        "colab": {
          "base_uri": "https://localhost:8080/",
          "height": 35
        },
        "id": "tDnLiCjMwGcz",
        "outputId": "ec045f60-026e-40a5-bff2-af7a12f22547"
      },
      "outputs": [
        {
          "output_type": "execute_result",
          "data": {
            "text/plain": [
              "'/content/drive/MyDrive/pickle/adj_file.pkl'"
            ],
            "application/vnd.google.colaboratory.intrinsic+json": {
              "type": "string"
            }
          },
          "metadata": {},
          "execution_count": 10
        }
      ],
      "source": [
        "adj #adj"
      ]
    },
    {
      "cell_type": "code",
      "execution_count": null,
      "metadata": {
        "colab": {
          "base_uri": "https://localhost:8080/"
        },
        "id": "yM3CT5HawLDx",
        "outputId": "f4c3d9b9-0859-414e-d4fb-2d97a9aff29f"
      },
      "outputs": [
        {
          "output_type": "stream",
          "name": "stdout",
          "text": [
            "[[ 0.2890625   0.06982422  0.16210938 ... -0.12451172  0.02148438\n",
            "  -0.04370117]\n",
            " [ 0.03930664  0.10595703 -0.18359375 ... -0.21484375  0.16113281\n",
            "   0.36132812]\n",
            " [-0.14550781  0.03637695  0.05175781 ... -0.0625     -0.07910156\n",
            "   0.02819824]\n",
            " ...\n",
            " [ 0.05224609 -0.03808594  0.20410156 ... -0.265625    0.09570312\n",
            "   0.14355469]\n",
            " [ 0.09814453  0.07568359  0.03088379 ... -0.04833984  0.21289062\n",
            "  -0.13867188]\n",
            " [-0.03442383  0.21679688 -0.09472656 ... -0.04003906  0.15527344\n",
            "   0.10009766]]\n"
          ]
        }
      ],
      "source": [
        "print(word2vec) #word2vec"
      ]
    },
    {
      "cell_type": "code",
      "execution_count": null,
      "metadata": {
        "id": "0or8r1ddvnLl"
      },
      "outputs": [],
      "source": [
        "class StyleDataset(Data.Dataset):\n",
        "    def __init__(self, data_list, word2vec, transform, num_classes=23):\n",
        "        self.img_list = data_list\n",
        "        self.transform = transform\n",
        "        self.num_classes = num_classes\n",
        "        self.inp = torch.tensor(word2vec)\n",
        "\n",
        "    def __len__(self):\n",
        "        return len(self.img_list)\n",
        "\n",
        "    def __getitem__(self, index):\n",
        "        item = self.img_list[index]\n",
        "        return self.get(item)\n",
        "\n",
        "    def get(self, item):\n",
        "        filename = item['file_name']\n",
        "        labels = sorted(item['labels'])\n",
        "\n",
        "        img = Image.open(filename).convert('RGB')\n",
        "        if self.transform is not None:\n",
        "            img = self.transform(img)\n",
        "        target = np.zeros(self.num_classes, np.float32) - 1\n",
        "        target[labels] = 1\n",
        "        return (img, filename, self.inp), torch.tensor(target)"
      ]
    },
    {
      "cell_type": "code",
      "execution_count": null,
      "metadata": {
        "id": "D6Y_MtDxydue"
      },
      "outputs": [],
      "source": [
        "#dataset\n",
        "\n",
        "train_dataset = StyleDataset(train_data_list, word2vec, train_transform, 23)\n",
        "val_dataset = StyleDataset(val_data_list, word2vec, val_transform, 23)"
      ]
    },
    {
      "cell_type": "code",
      "execution_count": null,
      "metadata": {
        "id": "AVEzLXTaplKf"
      },
      "outputs": [],
      "source": [
        "#data loader\n",
        "\n",
        "train_loader = torch.utils.data.DataLoader(train_dataset,\n",
        "                                            batch_size=batch_size, shuffle=True,\n",
        "                                            num_workers=workers)\n",
        "\n",
        "val_loader = torch.utils.data.DataLoader(val_dataset,\n",
        "                                            batch_size=batch_size, shuffle=False,\n",
        "                                           num_workers=workers)"
      ]
    },
    {
      "cell_type": "code",
      "execution_count": null,
      "metadata": {
        "id": "iAo2GaTP2SOZ"
      },
      "outputs": [],
      "source": []
    },
    {
      "cell_type": "markdown",
      "metadata": {
        "id": "-hj4Lfst2SlT"
      },
      "source": [
        "# load best model"
      ]
    },
    {
      "cell_type": "code",
      "execution_count": null,
      "metadata": {
        "colab": {
          "base_uri": "https://localhost:8080/"
        },
        "id": "dmiaeOjH2UUW",
        "outputId": "641268d5-5412-4ae6-9825-0c6e10372ac4"
      },
      "outputs": [
        {
          "output_type": "execute_result",
          "data": {
            "text/plain": [
              "<All keys matched successfully>"
            ]
          },
          "metadata": {},
          "execution_count": 15
        }
      ],
      "source": [
        "resume = \"/content/drive/MyDrive/stylemodel_save/style_best_model4.pth\"\n",
        "\n",
        "checkpoint = torch.load(resume, map_location=torch.device('cpu'))\n",
        "\n",
        "model.load_state_dict(checkpoint)"
      ]
    },
    {
      "cell_type": "markdown",
      "metadata": {
        "id": "gGIu5cfx2yAc"
      },
      "source": [
        "# criterion & optimizer"
      ]
    },
    {
      "cell_type": "code",
      "execution_count": null,
      "metadata": {
        "id": "uqz4qopuVDOF"
      },
      "outputs": [],
      "source": [
        "class BCEWithLogitsLossWeighted(torch.nn.Module):\n",
        "    def __init__(self, weight, *args, **kwargs):\n",
        "        super().__init__()\n",
        "        # Notice none reduction\n",
        "        self.bce = torch.nn.BCEWithLogitsLoss(*args, **kwargs, reduction=\"none\")\n",
        "        self.weight = weight\n",
        "\n",
        "    def forward(self, logits, labels):\n",
        "        loss = self.bce(logits, labels)\n",
        "        binary_labels = labels.bool()\n",
        "        loss[binary_labels] *= labels[binary_labels] * self.weight\n",
        "        # Or any other reduction\n",
        "        return torch.mean(loss)"
      ]
    },
    {
      "cell_type": "code",
      "execution_count": null,
      "metadata": {
        "id": "YgvAajUA2v9t"
      },
      "outputs": [],
      "source": [
        "#criterion = nn.MultiLabelSoftMarginLoss()\n",
        "\n",
        "criterion = BCEWithLogitsLossWeighted(23)\n",
        "\n",
        "optimizer = torch.optim.Adam(model.parameters() , lr=0.0005)\n",
        "\n",
        "scheduler = optim.lr_scheduler.CosineAnnealingLR(optimizer, T_max=50, eta_min=0)"
      ]
    },
    {
      "cell_type": "markdown",
      "metadata": {
        "id": "vOxjTxkV3JSt"
      },
      "source": [
        "# training"
      ]
    },
    {
      "cell_type": "code",
      "execution_count": null,
      "metadata": {
        "colab": {
          "base_uri": "https://localhost:8080/"
        },
        "id": "mWKbTkoM4heb",
        "outputId": "9d7dc971-9c5b-459f-e422-77de46ee19e2"
      },
      "outputs": [
        {
          "data": {
            "text/plain": [
              "((tensor([[[1.1358, 1.0331, 0.4508,  ..., 1.8379, 1.8379, 1.8037],\n",
              "           [1.1358, 1.0159, 0.4508,  ..., 1.8379, 1.8379, 1.8037],\n",
              "           [1.1529, 1.0331, 0.4508,  ..., 1.8379, 1.8208, 1.8208],\n",
              "           ...,\n",
              "           [0.6221, 0.7077, 0.7933,  ..., 1.5125, 1.5125, 1.4954],\n",
              "           [0.5878, 0.6734, 0.7762,  ..., 1.5297, 1.5297, 1.5125],\n",
              "           [0.5707, 0.6563, 0.7762,  ..., 1.5297, 1.5297, 1.5297]],\n",
              "  \n",
              "          [[1.1681, 1.0280, 0.3627,  ..., 2.0084, 2.0084, 1.9734],\n",
              "           [1.1681, 1.0105, 0.3627,  ..., 2.0084, 2.0084, 1.9734],\n",
              "           [1.1856, 1.0280, 0.3627,  ..., 2.0084, 1.9909, 1.9909],\n",
              "           ...,\n",
              "           [0.4678, 0.5728, 0.6779,  ..., 1.6758, 1.6758, 1.6583],\n",
              "           [0.4853, 0.5728, 0.6954,  ..., 1.6933, 1.6933, 1.6758],\n",
              "           [0.4853, 0.5728, 0.6954,  ..., 1.6933, 1.6933, 1.6933]],\n",
              "  \n",
              "          [[1.1585, 0.9668, 0.2696,  ..., 2.2566, 2.2566, 2.2217],\n",
              "           [1.1411, 0.9494, 0.2696,  ..., 2.2566, 2.2566, 2.2217],\n",
              "           [1.1585, 0.9668, 0.2696,  ..., 2.2566, 2.2391, 2.2391],\n",
              "           ...,\n",
              "           [0.3568, 0.4962, 0.6182,  ..., 1.8905, 1.8905, 1.8731],\n",
              "           [0.3742, 0.4788, 0.6182,  ..., 1.9080, 1.9080, 1.8905],\n",
              "           [0.3568, 0.4788, 0.6182,  ..., 1.9080, 1.9080, 1.9080]]]),\n",
              "  '/content/drive/MyDrive/fashiondata/data/train1/레트로/1153829.jpg',\n",
              "  tensor([[ 0.2891,  0.0698,  0.1621,  ..., -0.1245,  0.0215, -0.0437],\n",
              "          [ 0.0393,  0.1060, -0.1836,  ..., -0.2148,  0.1611,  0.3613],\n",
              "          [-0.1455,  0.0364,  0.0518,  ..., -0.0625, -0.0791,  0.0282],\n",
              "          ...,\n",
              "          [ 0.0522, -0.0381,  0.2041,  ..., -0.2656,  0.0957,  0.1436],\n",
              "          [ 0.0981,  0.0757,  0.0309,  ..., -0.0483,  0.2129, -0.1387],\n",
              "          [-0.0344,  0.2168, -0.0947,  ..., -0.0400,  0.1553,  0.1001]])),\n",
              " tensor([-1., -1., -1., -1., -1., -1., -1., -1., -1., -1., -1., -1., -1., -1.,\n",
              "         -1., -1., -1.,  1., -1., -1., -1.,  1., -1.]))"
            ]
          },
          "execution_count": 30,
          "metadata": {},
          "output_type": "execute_result"
        }
      ],
      "source": [
        "train_dataset[0] #feature, filename, inp, target"
      ]
    },
    {
      "cell_type": "code",
      "execution_count": null,
      "metadata": {
        "id": "KvcZwgqtSqpA"
      },
      "outputs": [],
      "source": [
        "#metric\n",
        "def top_n_recall(preds, truths, n=1):\n",
        "    best_n = np.argsort(preds, axis=1)[:,-n:]\n",
        "\n",
        "    ts = []\n",
        "\n",
        "    for i in range(len(truths[0])):\n",
        "        \n",
        "        if truths[0][i] == 1.0:\n",
        "            \n",
        "            ts.append(i)\n",
        "\n",
        "    successes = 0\n",
        "    s_img_id = []\n",
        "    w_img_id = []\n",
        "\n",
        "    for c in ts:\n",
        "        if c in best_n:\n",
        "            successes += 1\n",
        "            s_img_id.append(c)\n",
        "        else:\n",
        "            w_img_id.append(c)\n",
        "\n",
        "    return float(successes)/len(ts), s_img_id, w_img_id, best_n"
      ]
    },
    {
      "cell_type": "code",
      "execution_count": null,
      "metadata": {
        "id": "PqgTM3qMYN44"
      },
      "outputs": [],
      "source": [
        "#caching data\n",
        "\n",
        "for i,(input,target) in enumerate(tqdm(train_loader),start = 1):\n",
        "    \n",
        "    print(i)"
      ]
    },
    {
      "cell_type": "code",
      "execution_count": null,
      "metadata": {
        "id": "S8UAoFG-WNL9"
      },
      "outputs": [],
      "source": [
        "save_path = '/content/drive/MyDrive/stylemodel_save/style_best_model4.pth'"
      ]
    },
    {
      "cell_type": "code",
      "execution_count": null,
      "metadata": {
        "colab": {
          "base_uri": "https://localhost:8080/",
          "height": 1000,
          "referenced_widgets": [
            "d1515d4b3e2047ce890d49cf11ac7232",
            "d872ed2681cd4b47b5a4f6a581008954",
            "179fa7816c2f4fef86f713e68253e7be",
            "596982ebec2a4c3ea2383a600b75397a",
            "3418fb0428ee4765b5537e4ed5ed021a",
            "a75e2516b8f540d49cc4aa76b31012d5",
            "11c8386f201a455296c65ba15563b4c4",
            "5b35d4fa9d3c43a4b0f90592fdc56b35",
            "b0ccaa81f5b34a7aaab2181be80828a0",
            "2508e27e059547bbbefe39a1efb8817c",
            "52ad2af8b4604fcaaa03eb74080d8aa6"
          ]
        },
        "id": "u39j640x3KUi",
        "outputId": "68887339-d0ee-4e20-b7e9-165fc54cff8f"
      },
      "outputs": [
        {
          "output_type": "stream",
          "name": "stdout",
          "text": [
            "epoch: 0\n",
            "-------------------------------------------------------------\n"
          ]
        },
        {
          "output_type": "display_data",
          "data": {
            "text/plain": [
              "  0%|          | 0/2387 [00:00<?, ?it/s]"
            ],
            "application/vnd.jupyter.widget-view+json": {
              "version_major": 2,
              "version_minor": 0,
              "model_id": "d1515d4b3e2047ce890d49cf11ac7232"
            }
          },
          "metadata": {}
        },
        {
          "output_type": "stream",
          "name": "stdout",
          "text": [
            "loss : 1.2042\n",
            "recall : 0.9700\n",
            "-------------------------------------------------------------\n",
            "\n",
            "loss : 1.2079\n",
            "recall : 0.9600\n",
            "-------------------------------------------------------------\n",
            "\n",
            "loss : 1.2099\n",
            "recall : 0.9433\n",
            "-------------------------------------------------------------\n",
            "\n",
            "loss : 1.2129\n",
            "recall : 0.9550\n",
            "-------------------------------------------------------------\n",
            "\n",
            "loss : 1.2153\n",
            "recall : 0.9460\n",
            "-------------------------------------------------------------\n",
            "\n",
            "loss : 1.2162\n",
            "recall : 0.9533\n",
            "-------------------------------------------------------------\n",
            "\n",
            "loss : 1.2153\n",
            "recall : 0.9571\n",
            "-------------------------------------------------------------\n",
            "\n",
            "loss : 1.2163\n",
            "recall : 0.9525\n",
            "-------------------------------------------------------------\n",
            "\n",
            "loss : 1.2176\n",
            "recall : 0.9533\n",
            "-------------------------------------------------------------\n",
            "\n",
            "loss : 1.2235\n",
            "recall : 0.9500\n",
            "-------------------------------------------------------------\n",
            "\n",
            "loss : 1.2242\n",
            "recall : 0.9509\n",
            "-------------------------------------------------------------\n",
            "\n",
            "loss : 1.2250\n",
            "recall : 0.9542\n",
            "-------------------------------------------------------------\n",
            "\n",
            "loss : 1.2259\n",
            "recall : 0.9538\n",
            "-------------------------------------------------------------\n",
            "\n",
            "loss : 1.2239\n",
            "recall : 0.9529\n",
            "-------------------------------------------------------------\n",
            "\n",
            "loss : 1.2247\n",
            "recall : 0.9520\n",
            "-------------------------------------------------------------\n",
            "\n",
            "loss : 1.2250\n",
            "recall : 0.9519\n",
            "-------------------------------------------------------------\n",
            "\n",
            "loss : 1.2240\n",
            "recall : 0.9518\n",
            "-------------------------------------------------------------\n",
            "\n",
            "loss : 1.2230\n",
            "recall : 0.9522\n",
            "-------------------------------------------------------------\n",
            "\n",
            "loss : 1.2227\n",
            "recall : 0.9542\n",
            "-------------------------------------------------------------\n",
            "\n",
            "loss : 1.2222\n",
            "recall : 0.9520\n",
            "-------------------------------------------------------------\n",
            "\n",
            "loss : 1.2225\n",
            "recall : 0.9514\n",
            "-------------------------------------------------------------\n",
            "\n",
            "loss : 1.2220\n",
            "recall : 0.9495\n",
            "-------------------------------------------------------------\n",
            "\n",
            "loss : 1.2209\n",
            "recall : 0.9500\n",
            "-------------------------------------------------------------\n",
            "\n",
            "loss : 1.2206\n",
            "recall : 0.9479\n",
            "-------------------------------------------------------------\n",
            "\n",
            "loss : 1.2210\n",
            "recall : 0.9460\n",
            "-------------------------------------------------------------\n",
            "\n",
            "loss : 1.2220\n",
            "recall : 0.9454\n",
            "-------------------------------------------------------------\n",
            "\n",
            "loss : 1.2226\n",
            "recall : 0.9422\n",
            "-------------------------------------------------------------\n",
            "\n",
            "loss : 1.2247\n",
            "recall : 0.9421\n",
            "-------------------------------------------------------------\n",
            "\n",
            "loss : 1.2253\n",
            "recall : 0.9421\n",
            "-------------------------------------------------------------\n",
            "\n",
            "loss : 1.2255\n",
            "recall : 0.9417\n",
            "-------------------------------------------------------------\n",
            "\n",
            "loss : 1.2260\n",
            "recall : 0.9413\n",
            "-------------------------------------------------------------\n",
            "\n",
            "loss : 1.2259\n",
            "recall : 0.9413\n",
            "-------------------------------------------------------------\n",
            "\n",
            "loss : 1.2254\n",
            "recall : 0.9406\n",
            "-------------------------------------------------------------\n",
            "\n",
            "loss : 1.2248\n",
            "recall : 0.9415\n",
            "-------------------------------------------------------------\n",
            "\n",
            "loss : 1.2244\n",
            "recall : 0.9403\n",
            "-------------------------------------------------------------\n",
            "\n",
            "loss : 1.2236\n",
            "recall : 0.9397\n",
            "-------------------------------------------------------------\n",
            "\n",
            "loss : 1.2231\n",
            "recall : 0.9378\n",
            "-------------------------------------------------------------\n",
            "\n",
            "loss : 1.2230\n",
            "recall : 0.9387\n",
            "-------------------------------------------------------------\n",
            "\n",
            "loss : 1.2223\n",
            "recall : 0.9374\n",
            "-------------------------------------------------------------\n",
            "\n",
            "loss : 1.2216\n",
            "recall : 0.9383\n",
            "-------------------------------------------------------------\n",
            "\n",
            "loss : 1.2213\n",
            "recall : 0.9388\n",
            "-------------------------------------------------------------\n",
            "\n",
            "loss : 1.2210\n",
            "recall : 0.9393\n",
            "-------------------------------------------------------------\n",
            "\n",
            "loss : 1.2207\n",
            "recall : 0.9398\n",
            "-------------------------------------------------------------\n",
            "\n",
            "loss : 1.2207\n",
            "recall : 0.9389\n",
            "-------------------------------------------------------------\n",
            "\n",
            "loss : 1.2206\n",
            "recall : 0.9382\n",
            "-------------------------------------------------------------\n",
            "\n",
            "loss : 1.2205\n",
            "recall : 0.9378\n",
            "-------------------------------------------------------------\n",
            "\n",
            "loss : 1.2198\n",
            "recall : 0.9377\n",
            "-------------------------------------------------------------\n",
            "\n",
            "epoch loss : 1.2193\n",
            "recall : 0.9378\n"
          ]
        }
      ],
      "source": [
        "#acclerating gpu\n",
        "torch.backends.cudnn.benchmark = True\n",
        "\n",
        "model = model.cuda()\n",
        "\n",
        "# switch to train mode\n",
        "model.train()\n",
        "\n",
        "max_epochs = 1\n",
        "\n",
        "for epoch in range(max_epochs):\n",
        "    \n",
        "    epoch_loss = 0.0\n",
        "    epoch_recall = 0.0\n",
        "\n",
        "    print(f\"epoch: {epoch}\")\n",
        "    print(\"-------------------------------------------------------------\")\n",
        "\n",
        "    for i,(input,target) in enumerate(tqdm(train_loader),start = 1):\n",
        "\n",
        "        target_gt = target.clone()\n",
        "\n",
        "        target[target == 0] = 1\n",
        "        target[target == -1] = 0\n",
        "\n",
        "        feature,_,input = input\n",
        "\n",
        "        feature_var = torch.autograd.Variable(feature).float()\n",
        "        target_var = torch.autograd.Variable(target).float()\n",
        "        inp_var = torch.autograd.Variable(input).float().detach()\n",
        "\n",
        "        feature_var = feature_var.cuda()\n",
        "        inp_var = inp_var.cuda()\n",
        "        target_var = target_var.cuda()\n",
        "\n",
        "        output = model(feature_var,inp_var)\n",
        "\n",
        "        loss = criterion(output,target_var)\n",
        "        \n",
        "        optimizer.zero_grad()\n",
        "        loss.backward()\n",
        "        optimizer.step()\n",
        "\n",
        "        epoch_loss += loss.item()\n",
        "\n",
        "        pred = output.cpu().detach().numpy()\n",
        "        real = target.cpu().detach().numpy()\n",
        "        \n",
        "        epoch_recall += top_n_recall(pred,real,3)[0]\n",
        "\n",
        "        if i % 50 == 0:\n",
        "            \n",
        "            print(f\"loss : {epoch_loss/i:.4f}\")\n",
        "            print(f\"recall : {epoch_recall/i:.4f}\")\n",
        "\n",
        "            torch.save(model.state_dict(), save_path)\n",
        "\n",
        "            print(\"-------------------------------------------------------------\")\n",
        "            print()\n",
        "\n",
        "            #scheduler.step()\n",
        "\n",
        "    epoch_loss = epoch_loss/len(train_loader)\n",
        "    epoch_recall = epoch_recall/len(train_loader)\n",
        "\n",
        "    print(f\"epoch loss : {epoch_loss:.4f}\")\n",
        "    print(f\"recall : {epoch_recall:.4f}\")\n",
        "\n",
        "    torch.save(model.state_dict(), save_path)"
      ]
    },
    {
      "cell_type": "code",
      "execution_count": null,
      "metadata": {
        "id": "645U2gkGTCV9"
      },
      "outputs": [],
      "source": [
        "#save model\n",
        "\n",
        "save_path = '/content/drive/MyDrive/stylemodel_save/style_best_model.pth'\n",
        "torch.save(model.state_dict(), save_path)"
      ]
    },
    {
      "cell_type": "markdown",
      "source": [
        "# validation"
      ],
      "metadata": {
        "id": "yCqoSn8IllHW"
      }
    },
    {
      "cell_type": "code",
      "source": [
        "# switch to eval mode\n",
        "\n",
        "model = model.cuda()\n",
        "\n",
        "model.eval()\n",
        "\n",
        "val_loss = 0.0\n",
        "val_recall = 0.0\n",
        "\n",
        "#print(f\"epoch: {epoch}\")\n",
        "print(\"-------------------------------------------------------------\")\n",
        "\n",
        "with torch.no_grad():\n",
        "\n",
        "    for i,(input,target) in enumerate(tqdm(val_loader),start = 1):\n",
        "\n",
        "        target_gt = target.clone()\n",
        "\n",
        "        target[target == 0] = 1\n",
        "        target[target == -1] = 0\n",
        "\n",
        "        feature,_,input = input\n",
        "\n",
        "        feature_var = torch.autograd.Variable(feature).float()\n",
        "        target_var = torch.autograd.Variable(target).float()\n",
        "        inp_var = torch.autograd.Variable(input).float().detach()\n",
        "\n",
        "        feature_var = feature_var.cuda()\n",
        "        inp_var = inp_var.cuda()\n",
        "        target_var = target_var.cuda()\n",
        "\n",
        "        output = model(feature_var,inp_var)\n",
        "\n",
        "        loss = criterion(output,target_var)\n",
        "\n",
        "        val_loss += loss.item()\n",
        "\n",
        "        pred = output.cpu().detach().numpy()\n",
        "        real = target.cpu().detach().numpy()\n",
        "        \n",
        "        val_recall += top_n_recall(pred,real,3)[0]\n",
        "\n",
        "        if i % 50 == 0:\n",
        "            \n",
        "            print(f\"loss : {val_loss/i:.4f}\")\n",
        "            print(f\"recall : {val_recall/i:.4f}\")\n",
        "\n",
        "            print(\"-------------------------------------------------------------\")\n",
        "            print()\n",
        "\n",
        "    val_loss = val_loss/len(val_loader)\n",
        "    val_recall = val_recall/len(val_loader)\n",
        "\n",
        "    print(f\"val loss : {val_loss:.4f}\")\n",
        "    print(f\"recall : {val_recall:.4f}\")\n",
        "\n",
        "    torch.save(model.state_dict(), save_path)"
      ],
      "metadata": {
        "id": "a8ksBNr3lgjL",
        "colab": {
          "base_uri": "https://localhost:8080/",
          "height": 1000,
          "referenced_widgets": [
            "89c0f4cb450a403fa9e0d4aa3b86bdaf",
            "dfa1b00016d84de08831e6340b8e28a6",
            "8eb2ce74f3164b51956777d0c6055e0a",
            "914a8fb857e24424a7150cc7dcd2ab58",
            "8303ee120ed2457b80a74aaa2c544d53",
            "19a6ab9aad634cffa43a4f29bdf206a4",
            "2469d6d45fee4a7e8fee7d3d52c9a273",
            "6d46409e23c843ddb6b082f1c61c5732",
            "975b509935074e0b8c1b207cd0df1997",
            "a43d511492f7455095429104c86cf22b",
            "a0ab8c34997948709016ccc80caddb4b"
          ]
        },
        "outputId": "97e10fca-af45-472a-9081-e767c1b11156"
      },
      "execution_count": null,
      "outputs": [
        {
          "output_type": "stream",
          "name": "stdout",
          "text": [
            "-------------------------------------------------------------\n"
          ]
        },
        {
          "output_type": "display_data",
          "data": {
            "text/plain": [
              "  0%|          | 0/545 [00:00<?, ?it/s]"
            ],
            "application/vnd.jupyter.widget-view+json": {
              "version_major": 2,
              "version_minor": 0,
              "model_id": "89c0f4cb450a403fa9e0d4aa3b86bdaf"
            }
          },
          "metadata": {}
        },
        {
          "output_type": "stream",
          "name": "stderr",
          "text": [
            "Exception ignored in: <function _MultiProcessingDataLoaderIter.__del__ at 0x7fa0e240f160>\n",
            "Exception ignored in: <function _MultiProcessingDataLoaderIter.__del__ at 0x7fa0e240f160>Traceback (most recent call last):\n",
            "\n",
            "  File \"/usr/local/lib/python3.9/dist-packages/torch/utils/data/dataloader.py\", line 1466, in __del__\n",
            "    self._shutdown_workers()\n",
            "Traceback (most recent call last):\n",
            "  File \"/usr/local/lib/python3.9/dist-packages/torch/utils/data/dataloader.py\", line 1466, in __del__\n",
            "  File \"/usr/local/lib/python3.9/dist-packages/torch/utils/data/dataloader.py\", line 1449, in _shutdown_workers\n",
            "    self._shutdown_workers()\n",
            "  File \"/usr/local/lib/python3.9/dist-packages/torch/utils/data/dataloader.py\", line 1449, in _shutdown_workers\n",
            "        if w.is_alive():\n",
            "  File \"/usr/lib/python3.9/multiprocessing/process.py\", line 160, in is_alive\n",
            "if w.is_alive():    assert self._parent_pid == os.getpid(), 'can only test a child process'\n",
            "AssertionError\n",
            ": can only test a child process  File \"/usr/lib/python3.9/multiprocessing/process.py\", line 160, in is_alive\n",
            "\n",
            "    assert self._parent_pid == os.getpid(), 'can only test a child process'\n",
            "AssertionErrorException ignored in: : can only test a child process\n",
            "<function _MultiProcessingDataLoaderIter.__del__ at 0x7fa0e240f160>\n",
            "Traceback (most recent call last):\n",
            "  File \"/usr/local/lib/python3.9/dist-packages/torch/utils/data/dataloader.py\", line 1466, in __del__\n",
            "    self._shutdown_workers()\n",
            "  File \"/usr/local/lib/python3.9/dist-packages/torch/utils/data/dataloader.py\", line 1449, in _shutdown_workers\n",
            "    if w.is_alive():\n",
            "  File \"/usr/lib/python3.9/multiprocessing/process.py\", line 160, in is_alive\n",
            "    assert self._parent_pid == os.getpid(), 'can only test a child process'\n",
            "AssertionError: can only test a child process\n",
            "Exception ignored in: <function _MultiProcessingDataLoaderIter.__del__ at 0x7fa0e240f160>\n",
            "Traceback (most recent call last):\n",
            "  File \"/usr/local/lib/python3.9/dist-packages/torch/utils/data/dataloader.py\", line 1466, in __del__\n",
            "    self._shutdown_workers()\n",
            "  File \"/usr/local/lib/python3.9/dist-packages/torch/utils/data/dataloader.py\", line 1449, in _shutdown_workers\n",
            "    if w.is_alive():\n",
            "  File \"/usr/lib/python3.9/multiprocessing/process.py\", line 160, in is_alive\n",
            "    assert self._parent_pid == os.getpid(), 'can only test a child process'\n",
            "AssertionError: can only test a child process\n"
          ]
        },
        {
          "output_type": "stream",
          "name": "stdout",
          "text": [
            "loss : 1.1136\n",
            "recall : 0.9900\n",
            "-------------------------------------------------------------\n",
            "\n",
            "loss : 1.0989\n",
            "recall : 0.9800\n",
            "-------------------------------------------------------------\n",
            "\n",
            "loss : 1.1286\n",
            "recall : 0.9667\n",
            "-------------------------------------------------------------\n",
            "\n",
            "loss : 1.0916\n",
            "recall : 0.9675\n",
            "-------------------------------------------------------------\n",
            "\n",
            "loss : 1.0581\n",
            "recall : 0.9700\n",
            "-------------------------------------------------------------\n",
            "\n",
            "loss : 1.0454\n",
            "recall : 0.9700\n",
            "-------------------------------------------------------------\n",
            "\n",
            "loss : 1.0399\n",
            "recall : 0.9700\n",
            "-------------------------------------------------------------\n",
            "\n",
            "loss : 1.0381\n",
            "recall : 0.9700\n",
            "-------------------------------------------------------------\n",
            "\n",
            "loss : 1.0445\n",
            "recall : 0.9733\n",
            "-------------------------------------------------------------\n",
            "\n",
            "loss : 1.0590\n",
            "recall : 0.9710\n",
            "-------------------------------------------------------------\n",
            "\n",
            "val loss : 1.0827\n",
            "recall : 0.9725\n"
          ]
        }
      ]
    },
    {
      "cell_type": "code",
      "source": [
        "img = img.unsqueeze(0)\n",
        "inp = torch.tensor(inp).unsqueeze(0)"
      ],
      "metadata": {
        "colab": {
          "base_uri": "https://localhost:8080/"
        },
        "id": "HTjagTo1URKA",
        "outputId": "d99c53d8-a3c3-4285-c599-7366aa6960d5"
      },
      "execution_count": null,
      "outputs": [
        {
          "output_type": "execute_result",
          "data": {
            "text/plain": [
              "array([[ 0.2890625 ,  0.06982422,  0.16210938, ..., -0.12451172,\n",
              "         0.02148438, -0.04370117],\n",
              "       [ 0.03930664,  0.10595703, -0.18359375, ..., -0.21484375,\n",
              "         0.16113281,  0.36132812],\n",
              "       [-0.14550781,  0.03637695,  0.05175781, ..., -0.0625    ,\n",
              "        -0.07910156,  0.02819824],\n",
              "       ...,\n",
              "       [ 0.05224609, -0.03808594,  0.20410156, ..., -0.265625  ,\n",
              "         0.09570312,  0.14355469],\n",
              "       [ 0.09814453,  0.07568359,  0.03088379, ..., -0.04833984,\n",
              "         0.21289062, -0.13867188],\n",
              "       [-0.03442383,  0.21679688, -0.09472656, ..., -0.04003906,\n",
              "         0.15527344,  0.10009766]], dtype=float32)"
            ]
          },
          "metadata": {},
          "execution_count": 18
        }
      ]
    },
    {
      "cell_type": "markdown",
      "source": [
        "# vector_labeling recommendation data"
      ],
      "metadata": {
        "id": "eU6Oqn1uUQZa"
      }
    },
    {
      "cell_type": "code",
      "source": [
        "import json\n",
        "from tqdm.auto import tqdm"
      ],
      "metadata": {
        "id": "9zLY04m6sN4r"
      },
      "execution_count": null,
      "outputs": []
    },
    {
      "cell_type": "code",
      "source": [
        "change_class_style = {0: \"classic\",\n",
        "         1: \"preppy\", \n",
        "         2: \"manish\",\n",
        "         3: \"tomboy\", \n",
        "         4: \"feminine\",\n",
        "         5: \"romantic\",\n",
        "         6: \"sexy\",\n",
        "         7: \"hippie\",\n",
        "         8: \"western\",\n",
        "         9: \"oriental\",\n",
        "         10: \"modern\",\n",
        "         11: \"sophisticated\",\n",
        "         12: \"avantgarde\",\n",
        "         13: \"country\",\n",
        "         14: \"resort\",\n",
        "         15: \"genderless\",\n",
        "         16: \"sporty\",\n",
        "         17: \"retro\",\n",
        "         18: \"hiphop\",\n",
        "         19: \"kitsch\",\n",
        "         20: \"punk\",\n",
        "         21: \"street\",\n",
        "         22: \"military\"\n",
        "         }"
      ],
      "metadata": {
        "id": "e0LadgqoWPRA"
      },
      "execution_count": null,
      "outputs": []
    },
    {
      "cell_type": "code",
      "source": [
        "root_path = \"/content/drive/MyDrive/copydata/힙합/\"\n",
        "\n",
        "copy_list = os.listdir(\"/content/drive/MyDrive/copydata/힙합/data\")\n",
        "\n",
        "inp = torch.tensor(word2vec).unsqueeze(0)\n",
        "\n",
        "model.eval()\n",
        "\n",
        "for filename in tqdm(copy_list):\n",
        "\n",
        "    img = Image.open(root_path + \"data/\"+ filename).convert('RGB')\n",
        "\n",
        "    if val_transform is not None:\n",
        "    \n",
        "        img = val_transform(img)\n",
        "    \n",
        "    img = img.unsqueeze(0)\n",
        "\n",
        "    feature_var = torch.autograd.Variable(img).float()\n",
        "    inp_var = torch.autograd.Variable(inp).float().detach()  # one hot\n",
        "\n",
        "    output = model(feature_var, inp_var)\n",
        "    percentage_output = F.softmax(output, dim = 1)\n",
        "\n",
        "    pred = output.cpu().detach().numpy()\n",
        "\n",
        "    sorted_pred = np.argsort(pred,axis = 1)\n",
        "\n",
        "    result = {}\n",
        "\n",
        "    for i in range(22,-1,-1):\n",
        "        \n",
        "        result[23-i] = {\n",
        "            \"style\":change_class_style[sorted_pred[0][i]],\n",
        "            \"score\":round(percentage_output[0][sorted_pred[0][i]].item()*100,4)\n",
        "        }\n",
        "\n",
        "    with open(root_path + \"vector/\" + filename[:-4] + \".json\", 'w', encoding='utf-8') as file:\n",
        "        json.dump(result, file)"
      ],
      "metadata": {
        "colab": {
          "base_uri": "https://localhost:8080/",
          "height": 49,
          "referenced_widgets": [
            "c729fd056cf24395bb28d41b0b28069a",
            "4c40ef1087bf44ddb6d479b5ffe99d0e",
            "4afb4f1bd8f9467e9c774b8cfe371ec2",
            "b2b25390634e4912bb00c6b818896b41",
            "8ca38479041447d7a920218fda10e315",
            "de25a18ce87e48db962edc666382fe8d",
            "506258e2f18841b290340f1eacfb7f5e",
            "deb6eba754974c3783659d2c9cb0a933",
            "f8858bbb45a24aebbc04fc80de70f470",
            "26970c9f6a8d400b9ababe65ad66f453",
            "09077dc5ff9e4bd38370ffc5362adf3b"
          ]
        },
        "id": "ofuhM9kqUWjJ",
        "outputId": "b9e4259e-3fe3-47f4-c0e3-79b12bd7bbd7"
      },
      "execution_count": null,
      "outputs": [
        {
          "output_type": "display_data",
          "data": {
            "text/plain": [
              "  0%|          | 0/100 [00:00<?, ?it/s]"
            ],
            "application/vnd.jupyter.widget-view+json": {
              "version_major": 2,
              "version_minor": 0,
              "model_id": "c729fd056cf24395bb28d41b0b28069a"
            }
          },
          "metadata": {}
        }
      ]
    },
    {
      "cell_type": "code",
      "source": [
        "result"
      ],
      "metadata": {
        "colab": {
          "base_uri": "https://localhost:8080/"
        },
        "id": "Et_9fYDkriFT",
        "outputId": "aae05efb-0a86-4f2e-849e-62c99e55c402"
      },
      "execution_count": null,
      "outputs": [
        {
          "output_type": "execute_result",
          "data": {
            "text/plain": [
              "{1: {'style': 'romantic', 'score': 28.5621},\n",
              " 2: {'style': 'feminine', 'score': 18.4618},\n",
              " 3: {'style': 'country', 'score': 14.4242},\n",
              " 4: {'style': 'street', 'score': 8.9704},\n",
              " 5: {'style': 'retro', 'score': 8.573},\n",
              " 6: {'style': 'resort', 'score': 5.6757},\n",
              " 7: {'style': 'hippie', 'score': 3.7528},\n",
              " 8: {'style': 'sexy', 'score': 2.47},\n",
              " 9: {'style': 'classic', 'score': 2.0214},\n",
              " 10: {'style': 'sophisticated', 'score': 1.8284},\n",
              " 11: {'style': 'modern', 'score': 1.5059},\n",
              " 12: {'style': 'kitsch', 'score': 1.175},\n",
              " 13: {'style': 'oriental', 'score': 0.5579},\n",
              " 14: {'style': 'avantgarde', 'score': 0.517},\n",
              " 15: {'style': 'western', 'score': 0.4383},\n",
              " 16: {'style': 'genderless', 'score': 0.3369},\n",
              " 17: {'style': 'tomboy', 'score': 0.2104},\n",
              " 18: {'style': 'preppy', 'score': 0.2027},\n",
              " 19: {'style': 'sporty', 'score': 0.1401},\n",
              " 20: {'style': 'manish', 'score': 0.1254},\n",
              " 21: {'style': 'hiphop', 'score': 0.0329},\n",
              " 22: {'style': 'punk', 'score': 0.0131},\n",
              " 23: {'style': 'military', 'score': 0.0046}}"
            ]
          },
          "metadata": {},
          "execution_count": 24
        }
      ]
    },
    {
      "cell_type": "code",
      "source": [
        "with open(file_path, 'w', encoding='utf-8') as file:\n",
        "    json.dump(data, file)"
      ],
      "metadata": {
        "id": "lUOCLLBCsKso"
      },
      "execution_count": null,
      "outputs": []
    },
    {
      "cell_type": "code",
      "source": [
        "\"132.jpg\"[:-4]"
      ],
      "metadata": {
        "colab": {
          "base_uri": "https://localhost:8080/",
          "height": 35
        },
        "id": "9TC_Dkj-tM4J",
        "outputId": "48327bd9-124f-40fd-b24e-2cdb8a4d79c3"
      },
      "execution_count": null,
      "outputs": [
        {
          "output_type": "execute_result",
          "data": {
            "text/plain": [
              "'132'"
            ],
            "application/vnd.google.colaboratory.intrinsic+json": {
              "type": "string"
            }
          },
          "metadata": {},
          "execution_count": 28
        }
      ]
    },
    {
      "cell_type": "markdown",
      "metadata": {
        "id": "gyWrSSxzB-t7"
      },
      "source": [
        "# initialize hyperparameter"
      ]
    },
    {
      "cell_type": "code",
      "execution_count": null,
      "metadata": {
        "id": "rnh6u3h6CAeL"
      },
      "outputs": [],
      "source": [
        "use_gpu = torch.cuda.is_available()\n",
        "\n",
        "image_size = 224\n",
        "\n",
        "batch_size = 64\n",
        "\n",
        "workers = 25\n",
        "\n",
        "device_ids = None\n",
        "\n",
        "evaluate = False\n",
        "\n",
        "start_epoch = 0\n",
        "\n",
        "max_epochs = 90\n",
        "\n",
        "epoch_step = []\n",
        "\n",
        "use_pb = True\n",
        "\n",
        "best_score= 0"
      ]
    },
    {
      "cell_type": "code",
      "execution_count": null,
      "metadata": {
        "id": "2q27dMmgZxxh"
      },
      "outputs": [],
      "source": [
        "# meter_loss = tnt.meter.AverageValueMeter()\n",
        "    \n",
        "# batch_time =  tnt.meter.AverageValueMeter()\n",
        "\n",
        "# data_time = tnt.meter.AverageValueMeter()"
      ]
    },
    {
      "cell_type": "code",
      "execution_count": null,
      "metadata": {
        "id": "4O7QHOiwfjUV"
      },
      "outputs": [],
      "source": [
        "change_category = {0: \"traditional\", \n",
        "                   1: \"manish\", \n",
        "                   2: \"feminine\", \n",
        "                   3: \"ethnic\", \n",
        "                   4: \"contemporary\", \n",
        "                   5: \"natural\", \n",
        "                   6: \"genderless\", \n",
        "                   7: \"sporty\", \n",
        "                   8: \"subculture\", \n",
        "                   9: \"casual\"}"
      ]
    },
    {
      "cell_type": "markdown",
      "metadata": {
        "id": "8ktfyvBWGpqx"
      },
      "source": [
        "# load model"
      ]
    },
    {
      "cell_type": "code",
      "execution_count": null,
      "metadata": {
        "colab": {
          "base_uri": "https://localhost:8080/",
          "height": 214,
          "referenced_widgets": [
            "fb0fd305f5a644d1966ee5cd3a986014",
            "170d761ddf5e4451876e0db8d5261f48",
            "4eebe9544ee44e1b8a4748020505402d",
            "e55f7de3a5fe48bfb704102dd5fadd21",
            "d3c67fa273f7457d8cac8641d31de4e7",
            "9162345623ba41f1baf0a92bcb9406cd",
            "0363c71338374ef89d5a6d3cacbac16e",
            "a016fb7f1d8d41c89a53ca006a89ec20",
            "22bfc9217dd44d9195e4a710327394de",
            "8936c0ced79a43f58d4eaa29f9e92955",
            "cf5dd23ce8014cb38ab4f20cb650f942"
          ]
        },
        "id": "4yiZnd1fFkEK",
        "outputId": "6da504a4-dc71-482d-bebf-ccf4f988779b"
      },
      "outputs": [
        {
          "name": "stderr",
          "output_type": "stream",
          "text": [
            "/usr/local/lib/python3.9/dist-packages/torchvision/models/_utils.py:208: UserWarning: The parameter 'pretrained' is deprecated since 0.13 and may be removed in the future, please use 'weights' instead.\n",
            "  warnings.warn(\n",
            "/usr/local/lib/python3.9/dist-packages/torchvision/models/_utils.py:223: UserWarning: Arguments other than a weight enum or `None` for 'weights' are deprecated since 0.13 and may be removed in the future. The current behavior is equivalent to passing `weights=ResNet101_Weights.IMAGENET1K_V1`. You can also use `weights=ResNet101_Weights.DEFAULT` to get the most up-to-date weights.\n",
            "  warnings.warn(msg)\n",
            "Downloading: \"https://download.pytorch.org/models/resnet101-63fe2227.pth\" to /root/.cache/torch/hub/checkpoints/resnet101-63fe2227.pth\n"
          ]
        },
        {
          "data": {
            "application/vnd.jupyter.widget-view+json": {
              "model_id": "fb0fd305f5a644d1966ee5cd3a986014",
              "version_major": 2,
              "version_minor": 0
            },
            "text/plain": [
              "  0%|          | 0.00/171M [00:00<?, ?B/s]"
            ]
          },
          "metadata": {},
          "output_type": "display_data"
        },
        {
          "name": "stderr",
          "output_type": "stream",
          "text": [
            "<ipython-input-2-ac00a1f67dd8>:307: DeprecationWarning: `np.int` is a deprecated alias for the builtin `int`. To silence this warning, use `int` by itself. Doing this will not modify any behavior and is safe. When replacing `np.int`, you may wish to use e.g. `np.int64` or `np.int32` to specify the precision. If you wish to review your current use, check the release note link for additional information.\n",
            "Deprecated in NumPy 1.20; for more details and guidance: https://numpy.org/devdocs/release/1.20.0-notes.html#deprecations\n",
            "  _adj = _adj + np.identity(num_classes, np.int)\n"
          ]
        }
      ],
      "source": [
        "num_classes = 10\n",
        "\n",
        "#data = \"/content/drive/MyDrive/kfashion_model/\"\n",
        "adj = \"/content/drive/MyDrive/kfashion_model/custom_adj_final.pkl\"\n",
        "#wordvec = \"/content/drive/MyDrive/kfashion_model/custom_glove_word2vec_final.pkl\"\n",
        "\n",
        "#test_dataset = load_data(root = data, phase='test', inp_name=wordvec)\n",
        "\n",
        "model = gcn_resnet101(num_classes=num_classes, t=0.03, adj_file=adj)\n",
        "\n",
        "#criterion = nn.MultiLabelSoftMarginLoss()"
      ]
    },
    {
      "cell_type": "markdown",
      "metadata": {
        "id": "quRiaQxFbj-a"
      },
      "source": [
        "# data augmentation"
      ]
    },
    {
      "cell_type": "code",
      "execution_count": null,
      "metadata": {
        "id": "a5QnTv-cPF8e"
      },
      "outputs": [],
      "source": [
        "normalize = transforms.Normalize(mean = model.image_normalization_mean, std = model.image_normalization_std)\n",
        "\n",
        "train_transform = transforms.Compose([\n",
        "    MultiScaleCrop(image_size, scales = (1.0,0.875,0.75, 0.66,0.5), max_distort = 2),\n",
        "    transforms.RandomHorizontalFlip(),\n",
        "    transforms.ToTensor(),\n",
        "    normalize,\n",
        "])\n",
        "\n",
        "val_transform = transforms.Compose([\n",
        "    Warp(image_size),\n",
        "    transforms.ToTensor(),\n",
        "    normalize,\n",
        "])"
      ]
    },
    {
      "cell_type": "code",
      "execution_count": null,
      "metadata": {
        "id": "tLvscB6fb9hF"
      },
      "outputs": [],
      "source": []
    },
    {
      "cell_type": "markdown",
      "metadata": {
        "id": "HxlO5veg7_pV"
      },
      "source": [
        "# best model"
      ]
    },
    {
      "cell_type": "code",
      "execution_count": null,
      "metadata": {
        "colab": {
          "base_uri": "https://localhost:8080/"
        },
        "id": "ySgd0wLl8BH5",
        "outputId": "55ea7189-e474-4d41-ee76-967fc68dc9ee"
      },
      "outputs": [
        {
          "data": {
            "text/plain": [
              "<All keys matched successfully>"
            ]
          },
          "execution_count": 9,
          "metadata": {},
          "output_type": "execute_result"
        }
      ],
      "source": [
        "resume = \"/content/drive/MyDrive/kfashion_model/checkpoint/model_best.pth.tar\"\n",
        "\n",
        "checkpoint = torch.load(resume, map_location=torch.device('cpu'))\n",
        "\n",
        "model.load_state_dict(checkpoint['state_dict'])"
      ]
    },
    {
      "cell_type": "markdown",
      "metadata": {
        "id": "GWcY8DOxbbWF"
      },
      "source": [
        "# create inference data"
      ]
    },
    {
      "cell_type": "code",
      "execution_count": null,
      "metadata": {
        "id": "6T7zf11HvJlD"
      },
      "outputs": [],
      "source": [
        "import matplotlib.pyplot as plt"
      ]
    },
    {
      "cell_type": "code",
      "execution_count": null,
      "metadata": {
        "colab": {
          "base_uri": "https://localhost:8080/",
          "height": 451
        },
        "id": "dWZSBoVUcnLG",
        "outputId": "94f5bf77-1959-45e1-b91c-aaf3feb82bd7"
      },
      "outputs": [
        {
          "name": "stdout",
          "output_type": "stream",
          "text": [
            "top 1: feminine, conf:54.4358\n",
            "top 2: natural, conf:44.6498\n",
            "top 3: casual, conf:0.8268\n",
            "top 4: contemporary, conf:0.0369\n",
            "top 5: traditional, conf:0.0223\n",
            "top 6: subculture, conf:0.0155\n",
            "top 7: ethnic, conf:0.0084\n",
            "top 8: manish, conf:0.0041\n",
            "top 9: sporty, conf:0.0005\n",
            "top 10: genderless, conf:0.0000\n"
          ]
        },
        {
          "data": {
            "image/png": "[encoded data removed]",
            "text/plain": [
              "<Figure size 432x288 with 1 Axes>"
            ]
          },
          "metadata": {},
          "output_type": "display_data"
        }
      ],
      "source": [
        "#feminine, natural\n",
        "filename = \"/content/220731.jpg\"\n",
        "\n",
        "img = Image.open(filename).convert('RGB')\n",
        "\n",
        "plt.imshow(img)\n",
        "\n",
        "if val_transform is not None:\n",
        "    \n",
        "    img = val_transform(img)\n",
        "\n",
        "wordvec = \"/content/drive/MyDrive/kfashion_model/custom_glove_word2vec_final.pkl\"\n",
        "\n",
        "with open(wordvec, 'rb') as f:\n",
        "    inp = pickle.load(f)\n",
        "\n",
        "img = img.unsqueeze(0)\n",
        "inp = torch.tensor(inp).unsqueeze(0)\n",
        "\n",
        "feature_var = torch.autograd.Variable(img).float()\n",
        "inp_var = torch.autograd.Variable(inp).float().detach()  # one hot\n",
        "\n",
        "model.eval()\n",
        "\n",
        "output = model(feature_var, inp_var)\n",
        "percentage_output = F.softmax(output, dim = 1)\n",
        "\n",
        "\n",
        "pred = output.cpu().detach().numpy()\n",
        "\n",
        "sorted_pred = np.argsort(pred,axis = 1)\n",
        "\n",
        "for i in range(9,-1,-1):\n",
        "    \n",
        "    print(f\"top {10-i}: {change_category[sorted_pred[0][i]]}, conf:{percentage_output[0][sorted_pred[0][i]]*100:.4f}\")"
      ]
    },
    {
      "cell_type": "markdown",
      "metadata": {
        "id": "4_2C1luddWYz"
      },
      "source": [
        "# inference data"
      ]
    },
    {
      "cell_type": "code",
      "execution_count": null,
      "metadata": {
        "id": "r1nJ6h9idRmn"
      },
      "outputs": [],
      "source": [
        "feature_var = torch.autograd.Variable(img).float()\n",
        "inp_var = torch.autograd.Variable(inp).float().detach()  # one hot\n",
        "\n",
        "model.eval()\n",
        "\n",
        "output = model(feature_var, inp_var)\n"
      ]
    },
    {
      "cell_type": "code",
      "execution_count": null,
      "metadata": {
        "colab": {
          "base_uri": "https://localhost:8080/"
        },
        "id": "ZqWy6eDed7zG",
        "outputId": "45f3f160-b542-47eb-c98a-367d88095615"
      },
      "outputs": [
        {
          "data": {
            "text/plain": [
              "tensor([[ -9.6854,  -0.7061,  -2.5424,  -9.1944,  -5.8106,  -6.4912,  -8.7202,\n",
              "         -10.3212,  -1.9081,   8.0200]], grad_fn=<MmBackward0>)"
            ]
          },
          "execution_count": 12,
          "metadata": {},
          "output_type": "execute_result"
        }
      ],
      "source": [
        "output"
      ]
    },
    {
      "cell_type": "code",
      "execution_count": null,
      "metadata": {
        "id": "ig_4_on8d99G"
      },
      "outputs": [],
      "source": [
        "percentage_output = F.softmax(output, dim = 1)"
      ]
    },
    {
      "cell_type": "code",
      "execution_count": null,
      "metadata": {
        "colab": {
          "base_uri": "https://localhost:8080/"
        },
        "id": "YGZnAkZ_5huT",
        "outputId": "43aad86b-4941-4393-ba70-0ff40528805d"
      },
      "outputs": [
        {
          "data": {
            "text/plain": [
              "tensor([[2.0442e-08, 1.6226e-04, 2.5865e-05, 3.3402e-08, 9.8480e-07, 4.9859e-07,\n",
              "         5.3671e-08, 1.0825e-08, 4.8775e-05, 9.9976e-01]],\n",
              "       grad_fn=<SoftmaxBackward0>)"
            ]
          },
          "execution_count": 14,
          "metadata": {},
          "output_type": "execute_result"
        }
      ],
      "source": [
        "percentage_output"
      ]
    },
    {
      "cell_type": "code",
      "execution_count": null,
      "metadata": {
        "colab": {
          "base_uri": "https://localhost:8080/"
        },
        "id": "mi7gU7cF5hQv",
        "outputId": "eaa866b7-794e-4c1b-8f63-8e9380bcbf27"
      },
      "outputs": [
        {
          "data": {
            "text/plain": [
              "tensor([[ -9.6854,  -0.7061,  -2.5424,  -9.1944,  -5.8106,  -6.4912,  -8.7202,\n",
              "         -10.3212,  -1.9081,   8.0200]], grad_fn=<MmBackward0>)"
            ]
          },
          "execution_count": 15,
          "metadata": {},
          "output_type": "execute_result"
        }
      ],
      "source": [
        "output"
      ]
    },
    {
      "cell_type": "code",
      "execution_count": null,
      "metadata": {
        "colab": {
          "base_uri": "https://localhost:8080/"
        },
        "id": "3glAuqFKMBtY",
        "outputId": "c6716e2f-a1a8-40c5-b570-6c524b50540f"
      },
      "outputs": [
        {
          "data": {
            "text/plain": [
              "array([[2, 3, 8, 4, 0, 1, 7, 6, 5, 9]])"
            ]
          },
          "execution_count": 124,
          "metadata": {},
          "output_type": "execute_result"
        }
      ],
      "source": [
        "np.argsort(output.cpu().detach().numpy(),axis = 1)"
      ]
    },
    {
      "cell_type": "code",
      "execution_count": null,
      "metadata": {
        "colab": {
          "base_uri": "https://localhost:8080/"
        },
        "id": "JFqr0pfNMGiY",
        "outputId": "3955ade0-6572-49f1-d6ee-4d9e3a23b787"
      },
      "outputs": [
        {
          "data": {
            "text/plain": [
              "array([[2, 3, 8, 4, 0, 1, 7, 6, 5, 9]])"
            ]
          },
          "execution_count": 125,
          "metadata": {},
          "output_type": "execute_result"
        }
      ],
      "source": [
        "np.argsort(percentage_output.cpu().detach().numpy(),axis = 1)"
      ]
    },
    {
      "cell_type": "code",
      "execution_count": null,
      "metadata": {
        "colab": {
          "base_uri": "https://localhost:8080/"
        },
        "id": "s0Lp7kwdNCym",
        "outputId": "c19edf3c-7f49-4b48-f7c6-12001c1c75aa"
      },
      "outputs": [
        {
          "data": {
            "text/plain": [
              "tensor(3.0438, grad_fn=<SelectBackward0>)"
            ]
          },
          "execution_count": 127,
          "metadata": {},
          "output_type": "execute_result"
        }
      ],
      "source": [
        "output[0][9]"
      ]
    },
    {
      "cell_type": "code",
      "execution_count": null,
      "metadata": {
        "colab": {
          "base_uri": "https://localhost:8080/"
        },
        "id": "9hxrCwj2NEvI",
        "outputId": "f48b580a-8bd8-4fee-9165-2014d5886250"
      },
      "outputs": [
        {
          "data": {
            "text/plain": [
              "tensor(-0.3158, grad_fn=<SelectBackward0>)"
            ]
          },
          "execution_count": 128,
          "metadata": {},
          "output_type": "execute_result"
        }
      ],
      "source": [
        "output[0][5]"
      ]
    },
    {
      "cell_type": "code",
      "execution_count": null,
      "metadata": {
        "colab": {
          "base_uri": "https://localhost:8080/"
        },
        "id": "rdjk594aNGe5",
        "outputId": "89547317-ba13-4dee-c015-20e6cee1286e"
      },
      "outputs": [
        {
          "data": {
            "text/plain": [
              "tensor(-2.0792, grad_fn=<SelectBackward0>)"
            ]
          },
          "execution_count": 129,
          "metadata": {},
          "output_type": "execute_result"
        }
      ],
      "source": [
        "output[0][6]"
      ]
    },
    {
      "cell_type": "code",
      "execution_count": null,
      "metadata": {
        "id": "QZP1sElXeeP1"
      },
      "outputs": [],
      "source": [
        "pred = output.cpu().detach().numpy()\n",
        "\n",
        "sorted_pred = np.argsort(pred,axis = 1)"
      ]
    },
    {
      "cell_type": "code",
      "execution_count": null,
      "metadata": {
        "colab": {
          "base_uri": "https://localhost:8080/"
        },
        "id": "hs0WEhgH0Gup",
        "outputId": "8b3ef046-81ce-443f-a8de-a59057c4472d"
      },
      "outputs": [
        {
          "name": "stdout",
          "output_type": "stream",
          "text": [
            "top 1: casual, \n",
            " conf:99.97616577\n",
            "top 2: manish, \n",
            " conf:0.01622591\n",
            "top 3: subculture, \n",
            " conf:0.00487747\n",
            "top 4: feminine, \n",
            " conf:0.00258650\n",
            "top 5: contemporary, \n",
            " conf:0.00009848\n",
            "top 6: natural, \n",
            " conf:0.00004986\n",
            "top 7: genderless, \n",
            " conf:0.00000537\n",
            "top 8: ethnic, \n",
            " conf:0.00000334\n",
            "top 9: traditional, \n",
            " conf:0.00000204\n",
            "top 10: sporty, \n",
            " conf:0.00000108\n"
          ]
        }
      ],
      "source": [
        "for i in range(9,-1,-1):\n",
        "    \n",
        "    print(f\"top {10-i}: {change_category[sorted_pred[0][i]]}, \\n conf:{percentage_output[0][sorted_pred[0][i]]*100:.8f}\")"
      ]
    },
    {
      "cell_type": "code",
      "execution_count": null,
      "metadata": {
        "colab": {
          "base_uri": "https://localhost:8080/"
        },
        "id": "H-BB4CAy2dug",
        "outputId": "128a5279-d1ad-4cfa-b465-186fc4fd93c0"
      },
      "outputs": [
        {
          "name": "stdout",
          "output_type": "stream",
          "text": [
            "top 1: feminine, conf:0.00000524\n",
            "top 2: traditional, conf:0.00007332\n",
            "top 3: contemporary, conf:0.00000000\n",
            "top 4: subculture, conf:0.00000000\n",
            "top 5: casual, conf:0.00000000\n",
            "top 6: manish, conf:0.00009145\n",
            "top 7: ethnic, conf:0.00000032\n",
            "top 8: natural, conf:98.11611938\n",
            "top 9: genderless, conf:0.00000192\n",
            "top 10: sporty, conf:1.88370883\n"
          ]
        }
      ],
      "source": [
        "#98463 answer: feminine, traditional\n",
        "for i in range(9,-1,-1):\n",
        "    \n",
        "    print(f\"top {10-i}: {change_category[sorted_pred[0][i]]}, conf:{percentage_output[0][i]*100:.8f}\")"
      ]
    },
    {
      "cell_type": "code",
      "execution_count": null,
      "metadata": {
        "colab": {
          "base_uri": "https://localhost:8080/"
        },
        "id": "XouvuLPO29QR",
        "outputId": "33b3df71-5066-4e4e-8fa7-853ec84b751a"
      },
      "outputs": [
        {
          "name": "stdout",
          "output_type": "stream",
          "text": [
            "top 1: casual, conf:98.34577942\n",
            "top 2: manish, conf:0.17531787\n",
            "top 3: genderless, conf:0.33098057\n"
          ]
        }
      ],
      "source": [
        "#185204 answer: natural, genderless\n",
        "\n",
        "for i in range(9,6,-1):\n",
        "    \n",
        "    print(f\"top {10-i}: {change_category[sorted_pred[0][i]]}, conf:{percentage_output[0][i]*100:.8f}\")"
      ]
    },
    {
      "cell_type": "code",
      "execution_count": null,
      "metadata": {
        "id": "VVeiC1XFbb-f"
      },
      "outputs": [],
      "source": [
        "class load_data(Data.Dataset):\n",
        "    def __init__(self, root, phase='train', inp_name=None):\n",
        "        self.root = root\n",
        "        self.phase = phase\n",
        "        self.img_list = []\n",
        "        self.get_anno()\n",
        "        self.num_classes = len(self.cat2idx)\n",
        "\n",
        "        with open(inp_name, 'rb') as f:\n",
        "            self.inp = pickle.load(f)\n",
        "\n",
        "        self.inp_name = inp_name\n",
        "\n",
        "    def get_anno(self):\n",
        "        list_path = os.path.join(self.root, '{}_anno_custom_final_0.json'.format(self.phase))\n",
        "        self.img_list = json.load(open(list_path, 'r'))\n",
        "        self.cat2idx = json.load(open(os.path.join(self.root, 'category_custom_final.json'), 'r'))\n",
        "\n",
        "    def __len__(self):\n",
        "        return len(self.img_list)\n",
        "\n",
        "    def __getitem__(self, index):\n",
        "        item = self.img_list[index]\n",
        "        return self.get(item)\n",
        "\n",
        "    def get(self, item):\n",
        "        filename = \"/content/drive/MyDrive/kfashion\" + item['file_name'][2:]\n",
        "        labels = sorted(item['labels'])\n",
        "\n",
        "        img = Image.open(filename).convert('RGB')\n",
        "        if self.transform is not None:\n",
        "            img = self.transform(img)\n",
        "        target = np.zeros(self.num_classes, np.float32) - 1\n",
        "        target[labels] = 1\n",
        "        return (img, filename, self.inp), target"
      ]
    },
    {
      "cell_type": "markdown",
      "metadata": {
        "id": "dZcQ0-0T1IRV"
      },
      "source": [
        "# test"
      ]
    },
    {
      "cell_type": "code",
      "execution_count": null,
      "metadata": {
        "id": "DXGCw9mi4kDc"
      },
      "outputs": [],
      "source": [
        "def on_end_epoch(p, r):\n",
        "    \n",
        "    pred = p.cpu().detach().numpy()\n",
        "    real = r.cpu().detach().numpy()\n",
        "    a, s_id, w_id, pp = top_n_recall(pred, real, 3)\n",
        "\n",
        "    s = np.array(s_id)\n",
        "    w = np.array(w_id)\n",
        "\n",
        "    img_list = json.load(open('/content/drive/MyDrive/kfashion_model/test_anno_custom_final_0.json', 'r'))\n",
        "    img_name_list = [x['file_name'] for x in img_list]\n",
        "\n",
        "    l_r_s = real[s]\n",
        "    l_p_s = pp[s]\n",
        "    df = pd.DataFrame(np.array(img_name_list)[s])\n",
        "    df['real'] = list(l_r_s)\n",
        "    df['pred'] = list(l_p_s)\n",
        "    df.columns = ['img', 'real', 'pred']\n",
        "    df.to_csv('content/output/style_correct_3.csv')\n",
        "\n",
        "    l_r_w = real[w]\n",
        "    l_p_w = pp[w]\n",
        "    df = pd.DataFrame(np.array(img_name_list)[w])\n",
        "    df['real'] = list(l_r_w)\n",
        "    df['pred'] = list(l_p_w)\n",
        "    df.columns = ['img', 'real', 'pred']\n",
        "    df.to_csv('content/output/style_wrong_3.csv')\n",
        "\n",
        "    b, s_id, w_id, pp = top_n_recall(pred, real, 5)\n",
        "\n",
        "    s = np.array(s_id)\n",
        "    w = np.array(w_id)\n",
        "\n",
        "    l_r_s = real[s]\n",
        "    l_p_s = pp[s]\n",
        "    df = pd.DataFrame(np.array(img_name_list)[s])\n",
        "    df['real'] = list(l_r_s)\n",
        "    df['pred'] = list(l_p_s)\n",
        "    df.columns = ['img', 'real', 'pred']\n",
        "    df.to_csv('content/output/style_correct_5.csv')\n",
        "\n",
        "    l_r_w = real[w]\n",
        "    l_p_w = pp[w]\n",
        "    df = pd.DataFrame(np.array(img_name_list)[w])\n",
        "    df['real'] = list(l_r_w)\n",
        "    df['pred'] = list(l_p_w)\n",
        "    df.columns = ['img', 'real', 'pred']\n",
        "    df.to_csv('content/output/style_wrong_5.csv')\n",
        "\n",
        "    return round(a, 4), round(b, 4)"
      ]
    },
    {
      "cell_type": "code",
      "execution_count": null,
      "metadata": {
        "id": "pad7pJ2y1I62"
      },
      "outputs": [],
      "source": [
        "# define train and val transform\n",
        "test_dataset.transform = val_transform\n",
        "#test_dataset.target_transform = val_target_transform\n",
        "\n",
        "# data loading code\n",
        "test_loader = torch.utils.data.DataLoader(test_dataset,\n",
        "                                          batch_size=batch_size, shuffle=False,\n",
        "                                          num_workers=workers)\n",
        "\n",
        "# optionally resume from a checkpoint\n",
        "if resume is not None:\n",
        "    if os.path.isfile(resume):\n",
        "        print(\"=> loading checkpoint '{}'\".format(resume))\n",
        "        checkpoint = torch.load(resume, map_location=torch.device('cpu'))\n",
        "        \n",
        "        start_epoch = checkpoint['epoch']\n",
        "        \n",
        "        best_score = checkpoint['best_score']\n",
        "        \n",
        "        model.load_state_dict(checkpoint['state_dict'])\n",
        "\n",
        "    else:\n",
        "        print(\"=> no checkpoint found at '{}'\".format(resume))\n",
        "\n",
        "\n",
        "if use_gpu:\n",
        "    test_loader.pin_memory = True\n",
        "    cudnn.benchmark = True\n",
        "\n",
        "    model = torch.nn.DataParallel(model, device_ids=device_ids).cuda()\n",
        "    criterion = criterion.cuda()\n",
        "\n",
        "model.eval()\n",
        "\n",
        "if use_pb:\n",
        "        \n",
        "    data_loader = tqdm(test_loader, desc='Test')\n",
        "\n",
        "    for i, (input, target) in enumerate(data_loader):\n",
        "        # measure data loading time\n",
        "        target_gt = target.clone()\n",
        "\n",
        "        target[target == 0] = 1\n",
        "        target[target == -1] = 0\n",
        "\n",
        "        feature =  input[0]\n",
        "        out =  input[1]\n",
        "        input = input[2]\n",
        "\n",
        "        if use_gpu:\n",
        "            \n",
        "            target = target.cuda()\n",
        "        \n",
        "        feature_var = torch.autograd.Variable(feature).float()\n",
        "        target_var = torch.autograd.Variable(target).float()\n",
        "        inp_var = torch.autograd.Variable(input).float().detach()  # one hot\n",
        "\n",
        "        with torch.no_grad():\n",
        "            # compute output\n",
        "            output = model(feature_var, inp_var)\n",
        "            loss = criterion(output, target_var)\n",
        "        \n",
        "        print(loss)\n",
        "    \n",
        "    a, b = on_end_epoch(output, target)\n",
        "    \n",
        "    print('Top-3 recall:', a)\n",
        "    print('Top-5 recall:', b)"
      ]
    },
    {
      "cell_type": "code",
      "execution_count": null,
      "metadata": {
        "colab": {
          "base_uri": "https://localhost:8080/"
        },
        "id": "uEOvHwfkMQFj",
        "outputId": "bd982a9a-cec5-49da-e51f-3147152ef787"
      },
      "outputs": [
        {
          "data": {
            "text/plain": [
              "((tensor([[[2.2147, 2.2147, 2.2318,  ..., 1.6667, 1.6667, 1.6324],\n",
              "           [2.2147, 2.2147, 2.2318,  ..., 1.6667, 1.6667, 1.6324],\n",
              "           [2.2318, 2.2318, 2.2318,  ..., 1.6667, 1.6495, 1.6495],\n",
              "           ...,\n",
              "           [1.1015, 1.1187, 1.1358,  ..., 1.0673, 1.0844, 1.0844],\n",
              "           [1.1015, 1.1015, 1.1187,  ..., 1.0673, 1.0844, 1.0844],\n",
              "           [1.0673, 1.0673, 1.0844,  ..., 1.0673, 1.0502, 1.0502]],\n",
              "  \n",
              "          [[2.4286, 2.4286, 2.4286,  ..., 1.8508, 1.8508, 1.8158],\n",
              "           [2.4286, 2.4286, 2.4286,  ..., 1.8508, 1.8508, 1.8158],\n",
              "           [2.4286, 2.4286, 2.4286,  ..., 1.8508, 1.8333, 1.8333],\n",
              "           ...,\n",
              "           [1.2381, 1.2556, 1.2731,  ..., 1.2031, 1.2206, 1.2206],\n",
              "           [1.2381, 1.2381, 1.2556,  ..., 1.2031, 1.2206, 1.2206],\n",
              "           [1.2031, 1.2031, 1.2206,  ..., 1.2031, 1.1856, 1.1856]],\n",
              "  \n",
              "          [[2.6226, 2.6226, 2.6400,  ..., 2.0997, 2.0997, 2.0648],\n",
              "           [2.6226, 2.6226, 2.6400,  ..., 2.0997, 2.0997, 2.0648],\n",
              "           [2.6400, 2.6400, 2.6400,  ..., 2.0997, 2.0823, 2.0823],\n",
              "           ...,\n",
              "           [1.4200, 1.4374, 1.4548,  ..., 1.3851, 1.4025, 1.4025],\n",
              "           [1.4200, 1.4200, 1.4374,  ..., 1.3851, 1.4025, 1.4025],\n",
              "           [1.3851, 1.3851, 1.4025,  ..., 1.3851, 1.3677, 1.3677]]]),\n",
              "  '/content/drive/MyDrive/kfashion/img/K-fashion(1)/48076/1ROHA_030_09.jpg',\n",
              "  array([[-0.54742  , -0.0027233,  0.012571 , ..., -0.2368   , -0.11257  ,\n",
              "           0.026522 ],\n",
              "         [ 0.11138  , -0.15909  ,  0.36744  , ..., -0.0037826,  0.37089  ,\n",
              "           0.35113  ],\n",
              "         [ 0.058311 , -0.068674 , -0.4508   , ...,  0.31162  ,  0.093437 ,\n",
              "          -0.079896 ],\n",
              "         ...,\n",
              "         [ 0.055092 , -0.11982  , -0.054864 , ...,  0.42143  ,  1.0199   ,\n",
              "           0.22701  ],\n",
              "         [ 0.065139 , -0.11852  ,  0.058135 , ...,  0.83767  , -0.27976  ,\n",
              "          -0.58572  ],\n",
              "         [-0.18273  ,  0.3894   ,  0.41375  , ...,  0.57125  ,  0.23673  ,\n",
              "          -0.57446  ]], dtype=float32)),\n",
              " array([-1., -1.,  1., -1.,  1., -1., -1., -1., -1., -1.], dtype=float32))"
            ]
          },
          "execution_count": 21,
          "metadata": {},
          "output_type": "execute_result"
        }
      ],
      "source": [
        "test_dataset[0]"
      ]
    },
    {
      "cell_type": "code",
      "execution_count": null,
      "metadata": {
        "id": "WGWJ8tpN79Ff"
      },
      "outputs": [],
      "source": [
        "input,target = test_dataset[4][0],test_dataset[4][1]"
      ]
    },
    {
      "cell_type": "code",
      "execution_count": null,
      "metadata": {
        "id": "7OflL-7e8HsE"
      },
      "outputs": [],
      "source": [
        "target[target == 0] = 1\n",
        "target[target == -1] = 0"
      ]
    },
    {
      "cell_type": "code",
      "execution_count": null,
      "metadata": {
        "colab": {
          "base_uri": "https://localhost:8080/"
        },
        "id": "xFut8o2E8K6_",
        "outputId": "2d430f2a-d032-434a-f7fc-000e2085f586"
      },
      "outputs": [
        {
          "data": {
            "text/plain": [
              "array([0., 0., 0., 0., 0., 0., 0., 0., 0., 1.], dtype=float32)"
            ]
          },
          "execution_count": 71,
          "metadata": {},
          "output_type": "execute_result"
        }
      ],
      "source": [
        "target"
      ]
    },
    {
      "cell_type": "code",
      "execution_count": null,
      "metadata": {
        "id": "65rrxJiD8NhV"
      },
      "outputs": [],
      "source": [
        "feature = input[0]\n",
        "out = input[1]\n",
        "input = input[2]"
      ]
    },
    {
      "cell_type": "code",
      "execution_count": null,
      "metadata": {
        "colab": {
          "base_uri": "https://localhost:8080/"
        },
        "id": "JjniMnrjCy2z",
        "outputId": "9799cf04-c969-477b-c39a-5968ffe78375"
      },
      "outputs": [
        {
          "data": {
            "text/plain": [
              "(10, 300)"
            ]
          },
          "execution_count": 74,
          "metadata": {},
          "output_type": "execute_result"
        }
      ],
      "source": [
        "input.shape"
      ]
    },
    {
      "cell_type": "code",
      "execution_count": null,
      "metadata": {
        "id": "BZgW0QQY7okh"
      },
      "outputs": [],
      "source": [
        "    for i, (input, target) in enumerate(data_loader):\n",
        "        # measure data loading time\n",
        "        target_gt = target.clone()\n",
        "\n",
        "        target[target == 0] = 1\n",
        "        target[target == -1] = 0\n",
        "\n",
        "        feature =  input[0]\n",
        "        out =  input[1]\n",
        "        input = input[2]\n",
        "\n",
        "        if use_gpu:\n",
        "            \n",
        "            target = target.cuda()\n",
        "        \n",
        "        feature_var = torch.autograd.Variable(feature).float()\n",
        "        target_var = torch.autograd.Variable(target).float()\n",
        "        inp_var = torch.autograd.Variable(input).float().detach()  # one hot\n",
        "\n",
        "        with torch.no_grad():\n",
        "            # compute output\n",
        "            output = model(feature_var, inp_var)\n",
        "            loss = criterion(output, target_var)"
      ]
    },
    {
      "cell_type": "code",
      "execution_count": null,
      "metadata": {
        "colab": {
          "base_uri": "https://localhost:8080/",
          "height": 35
        },
        "id": "suNp7W1U8Sjo",
        "outputId": "7b4d9839-c304-4655-bfd0-08ea4d94d357"
      },
      "outputs": [
        {
          "data": {
            "application/vnd.google.colaboratory.intrinsic+json": {
              "type": "string"
            },
            "text/plain": [
              "'/content/drive/MyDrive/kfashion/img/K-fashion(1)/48076/1ROHA_030_09.jpg'"
            ]
          },
          "execution_count": 28,
          "metadata": {},
          "output_type": "execute_result"
        }
      ],
      "source": [
        "out"
      ]
    },
    {
      "cell_type": "code",
      "execution_count": null,
      "metadata": {
        "id": "vuaXG_Hj8S8-"
      },
      "outputs": [],
      "source": [
        "feature_var = torch.autograd.Variable(feature.unsqueeze(0)).float()\n",
        "target_var = torch.autograd.Variable(torch.tensor(target).unsqueeze(0)).float()\n",
        "inp_var = torch.autograd.Variable(torch.tensor(input).unsqueeze(0)).float().detach()  # one hot"
      ]
    },
    {
      "cell_type": "code",
      "execution_count": null,
      "metadata": {
        "id": "BEtdSKuu8_9W"
      },
      "outputs": [],
      "source": [
        "output = model(feature_var, inp_var)"
      ]
    },
    {
      "cell_type": "code",
      "execution_count": null,
      "metadata": {
        "colab": {
          "base_uri": "https://localhost:8080/"
        },
        "id": "h2ihXJqm9Hps",
        "outputId": "a034a613-065f-425f-c8d8-71f7c29ab8fb"
      },
      "outputs": [
        {
          "data": {
            "text/plain": [
              "tensor([[-10.2755, -14.1925,   2.9127, -12.4634,   7.0986, -16.3995, -14.4689,\n",
              "         -10.9614,  -7.9354, -11.7380]], device='cuda:0',\n",
              "       grad_fn=<MmBackward0>)"
            ]
          },
          "execution_count": 44,
          "metadata": {},
          "output_type": "execute_result"
        }
      ],
      "source": [
        "output"
      ]
    },
    {
      "cell_type": "code",
      "execution_count": null,
      "metadata": {
        "colab": {
          "base_uri": "https://localhost:8080/"
        },
        "id": "DKt9ZT4B8mPA",
        "outputId": "8a74c9c3-706c-49de-9864-bcd3f9fe5e70"
      },
      "outputs": [
        {
          "data": {
            "text/plain": [
              "tensor([0., 0., 1., 0., 1., 0., 0., 0., 0., 0.])"
            ]
          },
          "execution_count": 34,
          "metadata": {},
          "output_type": "execute_result"
        }
      ],
      "source": [
        "target_var"
      ]
    },
    {
      "cell_type": "code",
      "execution_count": null,
      "metadata": {
        "colab": {
          "base_uri": "https://localhost:8080/"
        },
        "id": "vFWeFz158t3Q",
        "outputId": "f13dae49-2f1d-4751-a251-de2065706c7e"
      },
      "outputs": [
        {
          "data": {
            "text/plain": [
              "3"
            ]
          },
          "execution_count": 39,
          "metadata": {},
          "output_type": "execute_result"
        }
      ],
      "source": [
        "feature_var.dim()"
      ]
    },
    {
      "cell_type": "code",
      "execution_count": null,
      "metadata": {
        "id": "_hZIvGep8-pA"
      },
      "outputs": [],
      "source": [
        "pred = output.cpu().detach().numpy()\n",
        "real = torch.tensor(target).unsqueeze(0).cpu().detach().numpy()"
      ]
    },
    {
      "cell_type": "code",
      "execution_count": null,
      "metadata": {
        "colab": {
          "base_uri": "https://localhost:8080/"
        },
        "id": "UoK2UVjf-Jr8",
        "outputId": "21183a77-5c57-45b5-a906-d16845782baa"
      },
      "outputs": [
        {
          "data": {
            "text/plain": [
              "array([[0., 0., 1., 0., 1., 0., 0., 0., 0., 0.]], dtype=float32)"
            ]
          },
          "execution_count": 52,
          "metadata": {},
          "output_type": "execute_result"
        }
      ],
      "source": [
        "real"
      ]
    },
    {
      "cell_type": "code",
      "execution_count": null,
      "metadata": {
        "colab": {
          "base_uri": "https://localhost:8080/"
        },
        "id": "yKQ5gC6J-L6r",
        "outputId": "6e8f4641-9b77-436a-fdeb-2e7024ccebfd"
      },
      "outputs": [
        {
          "data": {
            "text/plain": [
              "array([[-10.27549 , -14.192515,   2.912665, -12.463433,   7.098566,\n",
              "        -16.399544, -14.468911, -10.961401,  -7.935378, -11.737972]],\n",
              "      dtype=float32)"
            ]
          },
          "execution_count": 47,
          "metadata": {},
          "output_type": "execute_result"
        }
      ],
      "source": [
        "pred"
      ]
    },
    {
      "cell_type": "code",
      "execution_count": null,
      "metadata": {
        "colab": {
          "base_uri": "https://localhost:8080/"
        },
        "id": "reNHuObQ-edb",
        "outputId": "12e8318c-6818-4d08-8a10-cf73deed7c7b"
      },
      "outputs": [
        {
          "data": {
            "text/plain": [
              "array([8, 2, 4])"
            ]
          },
          "execution_count": 58,
          "metadata": {},
          "output_type": "execute_result"
        }
      ],
      "source": [
        "np.argsort(pred,axis=1)[:,-3:][0,:]"
      ]
    },
    {
      "cell_type": "code",
      "execution_count": null,
      "metadata": {
        "colab": {
          "base_uri": "https://localhost:8080/"
        },
        "id": "hdfYNtwi-l15",
        "outputId": "0a9c09f9-8259-4d4d-a28e-b2637953d897"
      },
      "outputs": [
        {
          "data": {
            "text/plain": [
              "1"
            ]
          },
          "execution_count": 56,
          "metadata": {},
          "output_type": "execute_result"
        }
      ],
      "source": [
        "np.argmax(real,axis=1).shape[0]"
      ]
    },
    {
      "cell_type": "code",
      "execution_count": null,
      "metadata": {
        "colab": {
          "base_uri": "https://localhost:8080/"
        },
        "id": "qUUEnxnb-_3y",
        "outputId": "b76d64f2-cc21-46a1-a48e-a1b5963ada31"
      },
      "outputs": [
        {
          "data": {
            "text/plain": [
              "array([[0., 0., 1., 0., 1., 0., 0., 0., 0., 0.]], dtype=float32)"
            ]
          },
          "execution_count": 54,
          "metadata": {},
          "output_type": "execute_result"
        }
      ],
      "source": [
        "real"
      ]
    },
    {
      "cell_type": "code",
      "execution_count": null,
      "metadata": {
        "id": "SPMgVGqg_DuP"
      },
      "outputs": [],
      "source": []
    },
    {
      "cell_type": "code",
      "execution_count": null,
      "metadata": {
        "id": "KXPTmbXv-_Tt"
      },
      "outputs": [],
      "source": [
        "def top_n_recall(preds, truths, n=1):\n",
        "    best_n = np.argsort(preds, axis=1)[:,-n:]\n",
        "    ts = np.argmax(truths, axis=1)\n",
        "    successes = 0\n",
        "    s_img_id = []\n",
        "    w_img_id = []\n",
        "    for i in range(ts.shape[0]):\n",
        "        if ts[i] in best_n[i,:]:\n",
        "            successes += 1\n",
        "            s_img_id.append(i)\n",
        "        else:\n",
        "            w_img_id.append(i)\n",
        "\n",
        "    return float(successes)/ts.shape[0], s_img_id, w_img_id, best_na"
      ]
    },
    {
      "cell_type": "code",
      "execution_count": null,
      "metadata": {
        "id": "HqNu4-Jm-P-H"
      },
      "outputs": [],
      "source": [
        "    best_n = np.argsort(preds, axis=1)[:,-n:]\n",
        "    ts = np.argmax(truths, axis=1)"
      ]
    }
  ],
  "metadata": {
    "colab": {
      "collapsed_sections": [
        "KmFCRVSx-iKJ",
        "cBZ1tju2n8Dj"
      ],
      "provenance": []
    },
    "gpuClass": "premium",
    "kernelspec": {
      "display_name": "Python 3",
      "name": "python3"
    },
    "language_info": {
      "name": "python"
    },
    "widgets": {
      "application/vnd.jupyter.widget-state+json": {
        "0363c71338374ef89d5a6d3cacbac16e": {
          "model_module": "@jupyter-widgets/controls",
          "model_module_version": "1.5.0",
          "model_name": "DescriptionStyleModel",
          "state": {
            "_model_module": "@jupyter-widgets/controls",
            "_model_module_version": "1.5.0",
            "_model_name": "DescriptionStyleModel",
            "_view_count": null,
            "_view_module": "@jupyter-widgets/base",
            "_view_module_version": "1.2.0",
            "_view_name": "StyleView",
            "description_width": ""
          }
        },
        "170d761ddf5e4451876e0db8d5261f48": {
          "model_module": "@jupyter-widgets/controls",
          "model_module_version": "1.5.0",
          "model_name": "HTMLModel",
          "state": {
            "_dom_classes": [],
            "_model_module": "@jupyter-widgets/controls",
            "_model_module_version": "1.5.0",
            "_model_name": "HTMLModel",
            "_view_count": null,
            "_view_module": "@jupyter-widgets/controls",
            "_view_module_version": "1.5.0",
            "_view_name": "HTMLView",
            "description": "",
            "description_tooltip": null,
            "layout": "IPY_MODEL_9162345623ba41f1baf0a92bcb9406cd",
            "placeholder": "​",
            "style": "IPY_MODEL_0363c71338374ef89d5a6d3cacbac16e",
            "value": "100%"
          }
        },
        "22bfc9217dd44d9195e4a710327394de": {
          "model_module": "@jupyter-widgets/controls",
          "model_module_version": "1.5.0",
          "model_name": "ProgressStyleModel",
          "state": {
            "_model_module": "@jupyter-widgets/controls",
            "_model_module_version": "1.5.0",
            "_model_name": "ProgressStyleModel",
            "_view_count": null,
            "_view_module": "@jupyter-widgets/base",
            "_view_module_version": "1.2.0",
            "_view_name": "StyleView",
            "bar_color": null,
            "description_width": ""
          }
        },
        "4eebe9544ee44e1b8a4748020505402d": {
          "model_module": "@jupyter-widgets/controls",
          "model_module_version": "1.5.0",
          "model_name": "FloatProgressModel",
          "state": {
            "_dom_classes": [],
            "_model_module": "@jupyter-widgets/controls",
            "_model_module_version": "1.5.0",
            "_model_name": "FloatProgressModel",
            "_view_count": null,
            "_view_module": "@jupyter-widgets/controls",
            "_view_module_version": "1.5.0",
            "_view_name": "ProgressView",
            "bar_style": "success",
            "description": "",
            "description_tooltip": null,
            "layout": "IPY_MODEL_a016fb7f1d8d41c89a53ca006a89ec20",
            "max": 178793939,
            "min": 0,
            "orientation": "horizontal",
            "style": "IPY_MODEL_22bfc9217dd44d9195e4a710327394de",
            "value": 178793939
          }
        },
        "8936c0ced79a43f58d4eaa29f9e92955": {
          "model_module": "@jupyter-widgets/base",
          "model_module_version": "1.2.0",
          "model_name": "LayoutModel",
          "state": {
            "_model_module": "@jupyter-widgets/base",
            "_model_module_version": "1.2.0",
            "_model_name": "LayoutModel",
            "_view_count": null,
            "_view_module": "@jupyter-widgets/base",
            "_view_module_version": "1.2.0",
            "_view_name": "LayoutView",
            "align_content": null,
            "align_items": null,
            "align_self": null,
            "border": null,
            "bottom": null,
            "display": null,
            "flex": null,
            "flex_flow": null,
            "grid_area": null,
            "grid_auto_columns": null,
            "grid_auto_flow": null,
            "grid_auto_rows": null,
            "grid_column": null,
            "grid_gap": null,
            "grid_row": null,
            "grid_template_areas": null,
            "grid_template_columns": null,
            "grid_template_rows": null,
            "height": null,
            "justify_content": null,
            "justify_items": null,
            "left": null,
            "margin": null,
            "max_height": null,
            "max_width": null,
            "min_height": null,
            "min_width": null,
            "object_fit": null,
            "object_position": null,
            "order": null,
            "overflow": null,
            "overflow_x": null,
            "overflow_y": null,
            "padding": null,
            "right": null,
            "top": null,
            "visibility": null,
            "width": null
          }
        },
        "9162345623ba41f1baf0a92bcb9406cd": {
          "model_module": "@jupyter-widgets/base",
          "model_module_version": "1.2.0",
          "model_name": "LayoutModel",
          "state": {
            "_model_module": "@jupyter-widgets/base",
            "_model_module_version": "1.2.0",
            "_model_name": "LayoutModel",
            "_view_count": null,
            "_view_module": "@jupyter-widgets/base",
            "_view_module_version": "1.2.0",
            "_view_name": "LayoutView",
            "align_content": null,
            "align_items": null,
            "align_self": null,
            "border": null,
            "bottom": null,
            "display": null,
            "flex": null,
            "flex_flow": null,
            "grid_area": null,
            "grid_auto_columns": null,
            "grid_auto_flow": null,
            "grid_auto_rows": null,
            "grid_column": null,
            "grid_gap": null,
            "grid_row": null,
            "grid_template_areas": null,
            "grid_template_columns": null,
            "grid_template_rows": null,
            "height": null,
            "justify_content": null,
            "justify_items": null,
            "left": null,
            "margin": null,
            "max_height": null,
            "max_width": null,
            "min_height": null,
            "min_width": null,
            "object_fit": null,
            "object_position": null,
            "order": null,
            "overflow": null,
            "overflow_x": null,
            "overflow_y": null,
            "padding": null,
            "right": null,
            "top": null,
            "visibility": null,
            "width": null
          }
        },
        "a016fb7f1d8d41c89a53ca006a89ec20": {
          "model_module": "@jupyter-widgets/base",
          "model_module_version": "1.2.0",
          "model_name": "LayoutModel",
          "state": {
            "_model_module": "@jupyter-widgets/base",
            "_model_module_version": "1.2.0",
            "_model_name": "LayoutModel",
            "_view_count": null,
            "_view_module": "@jupyter-widgets/base",
            "_view_module_version": "1.2.0",
            "_view_name": "LayoutView",
            "align_content": null,
            "align_items": null,
            "align_self": null,
            "border": null,
            "bottom": null,
            "display": null,
            "flex": null,
            "flex_flow": null,
            "grid_area": null,
            "grid_auto_columns": null,
            "grid_auto_flow": null,
            "grid_auto_rows": null,
            "grid_column": null,
            "grid_gap": null,
            "grid_row": null,
            "grid_template_areas": null,
            "grid_template_columns": null,
            "grid_template_rows": null,
            "height": null,
            "justify_content": null,
            "justify_items": null,
            "left": null,
            "margin": null,
            "max_height": null,
            "max_width": null,
            "min_height": null,
            "min_width": null,
            "object_fit": null,
            "object_position": null,
            "order": null,
            "overflow": null,
            "overflow_x": null,
            "overflow_y": null,
            "padding": null,
            "right": null,
            "top": null,
            "visibility": null,
            "width": null
          }
        },
        "cf5dd23ce8014cb38ab4f20cb650f942": {
          "model_module": "@jupyter-widgets/controls",
          "model_module_version": "1.5.0",
          "model_name": "DescriptionStyleModel",
          "state": {
            "_model_module": "@jupyter-widgets/controls",
            "_model_module_version": "1.5.0",
            "_model_name": "DescriptionStyleModel",
            "_view_count": null,
            "_view_module": "@jupyter-widgets/base",
            "_view_module_version": "1.2.0",
            "_view_name": "StyleView",
            "description_width": ""
          }
        },
        "d3c67fa273f7457d8cac8641d31de4e7": {
          "model_module": "@jupyter-widgets/base",
          "model_module_version": "1.2.0",
          "model_name": "LayoutModel",
          "state": {
            "_model_module": "@jupyter-widgets/base",
            "_model_module_version": "1.2.0",
            "_model_name": "LayoutModel",
            "_view_count": null,
            "_view_module": "@jupyter-widgets/base",
            "_view_module_version": "1.2.0",
            "_view_name": "LayoutView",
            "align_content": null,
            "align_items": null,
            "align_self": null,
            "border": null,
            "bottom": null,
            "display": null,
            "flex": null,
            "flex_flow": null,
            "grid_area": null,
            "grid_auto_columns": null,
            "grid_auto_flow": null,
            "grid_auto_rows": null,
            "grid_column": null,
            "grid_gap": null,
            "grid_row": null,
            "grid_template_areas": null,
            "grid_template_columns": null,
            "grid_template_rows": null,
            "height": null,
            "justify_content": null,
            "justify_items": null,
            "left": null,
            "margin": null,
            "max_height": null,
            "max_width": null,
            "min_height": null,
            "min_width": null,
            "object_fit": null,
            "object_position": null,
            "order": null,
            "overflow": null,
            "overflow_x": null,
            "overflow_y": null,
            "padding": null,
            "right": null,
            "top": null,
            "visibility": null,
            "width": null
          }
        },
        "e55f7de3a5fe48bfb704102dd5fadd21": {
          "model_module": "@jupyter-widgets/controls",
          "model_module_version": "1.5.0",
          "model_name": "HTMLModel",
          "state": {
            "_dom_classes": [],
            "_model_module": "@jupyter-widgets/controls",
            "_model_module_version": "1.5.0",
            "_model_name": "HTMLModel",
            "_view_count": null,
            "_view_module": "@jupyter-widgets/controls",
            "_view_module_version": "1.5.0",
            "_view_name": "HTMLView",
            "description": "",
            "description_tooltip": null,
            "layout": "IPY_MODEL_8936c0ced79a43f58d4eaa29f9e92955",
            "placeholder": "​",
            "style": "IPY_MODEL_cf5dd23ce8014cb38ab4f20cb650f942",
            "value": " 171M/171M [00:00&lt;00:00, 225MB/s]"
          }
        },
        "fb0fd305f5a644d1966ee5cd3a986014": {
          "model_module": "@jupyter-widgets/controls",
          "model_module_version": "1.5.0",
          "model_name": "HBoxModel",
          "state": {
            "_dom_classes": [],
            "_model_module": "@jupyter-widgets/controls",
            "_model_module_version": "1.5.0",
            "_model_name": "HBoxModel",
            "_view_count": null,
            "_view_module": "@jupyter-widgets/controls",
            "_view_module_version": "1.5.0",
            "_view_name": "HBoxView",
            "box_style": "",
            "children": [
              "IPY_MODEL_170d761ddf5e4451876e0db8d5261f48",
              "IPY_MODEL_4eebe9544ee44e1b8a4748020505402d",
              "IPY_MODEL_e55f7de3a5fe48bfb704102dd5fadd21"
            ],
            "layout": "IPY_MODEL_d3c67fa273f7457d8cac8641d31de4e7"
          }
        },
        "d1515d4b3e2047ce890d49cf11ac7232": {
          "model_module": "@jupyter-widgets/controls",
          "model_name": "HBoxModel",
          "model_module_version": "1.5.0",
          "state": {
            "_dom_classes": [],
            "_model_module": "@jupyter-widgets/controls",
            "_model_module_version": "1.5.0",
            "_model_name": "HBoxModel",
            "_view_count": null,
            "_view_module": "@jupyter-widgets/controls",
            "_view_module_version": "1.5.0",
            "_view_name": "HBoxView",
            "box_style": "",
            "children": [
              "IPY_MODEL_d872ed2681cd4b47b5a4f6a581008954",
              "IPY_MODEL_179fa7816c2f4fef86f713e68253e7be",
              "IPY_MODEL_596982ebec2a4c3ea2383a600b75397a"
            ],
            "layout": "IPY_MODEL_3418fb0428ee4765b5537e4ed5ed021a"
          }
        },
        "d872ed2681cd4b47b5a4f6a581008954": {
          "model_module": "@jupyter-widgets/controls",
          "model_name": "HTMLModel",
          "model_module_version": "1.5.0",
          "state": {
            "_dom_classes": [],
            "_model_module": "@jupyter-widgets/controls",
            "_model_module_version": "1.5.0",
            "_model_name": "HTMLModel",
            "_view_count": null,
            "_view_module": "@jupyter-widgets/controls",
            "_view_module_version": "1.5.0",
            "_view_name": "HTMLView",
            "description": "",
            "description_tooltip": null,
            "layout": "IPY_MODEL_a75e2516b8f540d49cc4aa76b31012d5",
            "placeholder": "​",
            "style": "IPY_MODEL_11c8386f201a455296c65ba15563b4c4",
            "value": "100%"
          }
        },
        "179fa7816c2f4fef86f713e68253e7be": {
          "model_module": "@jupyter-widgets/controls",
          "model_name": "FloatProgressModel",
          "model_module_version": "1.5.0",
          "state": {
            "_dom_classes": [],
            "_model_module": "@jupyter-widgets/controls",
            "_model_module_version": "1.5.0",
            "_model_name": "FloatProgressModel",
            "_view_count": null,
            "_view_module": "@jupyter-widgets/controls",
            "_view_module_version": "1.5.0",
            "_view_name": "ProgressView",
            "bar_style": "success",
            "description": "",
            "description_tooltip": null,
            "layout": "IPY_MODEL_5b35d4fa9d3c43a4b0f90592fdc56b35",
            "max": 2387,
            "min": 0,
            "orientation": "horizontal",
            "style": "IPY_MODEL_b0ccaa81f5b34a7aaab2181be80828a0",
            "value": 2387
          }
        },
        "596982ebec2a4c3ea2383a600b75397a": {
          "model_module": "@jupyter-widgets/controls",
          "model_name": "HTMLModel",
          "model_module_version": "1.5.0",
          "state": {
            "_dom_classes": [],
            "_model_module": "@jupyter-widgets/controls",
            "_model_module_version": "1.5.0",
            "_model_name": "HTMLModel",
            "_view_count": null,
            "_view_module": "@jupyter-widgets/controls",
            "_view_module_version": "1.5.0",
            "_view_name": "HTMLView",
            "description": "",
            "description_tooltip": null,
            "layout": "IPY_MODEL_2508e27e059547bbbefe39a1efb8817c",
            "placeholder": "​",
            "style": "IPY_MODEL_52ad2af8b4604fcaaa03eb74080d8aa6",
            "value": " 2387/2387 [11:00&lt;00:00,  4.46it/s]"
          }
        },
        "3418fb0428ee4765b5537e4ed5ed021a": {
          "model_module": "@jupyter-widgets/base",
          "model_name": "LayoutModel",
          "model_module_version": "1.2.0",
          "state": {
            "_model_module": "@jupyter-widgets/base",
            "_model_module_version": "1.2.0",
            "_model_name": "LayoutModel",
            "_view_count": null,
            "_view_module": "@jupyter-widgets/base",
            "_view_module_version": "1.2.0",
            "_view_name": "LayoutView",
            "align_content": null,
            "align_items": null,
            "align_self": null,
            "border": null,
            "bottom": null,
            "display": null,
            "flex": null,
            "flex_flow": null,
            "grid_area": null,
            "grid_auto_columns": null,
            "grid_auto_flow": null,
            "grid_auto_rows": null,
            "grid_column": null,
            "grid_gap": null,
            "grid_row": null,
            "grid_template_areas": null,
            "grid_template_columns": null,
            "grid_template_rows": null,
            "height": null,
            "justify_content": null,
            "justify_items": null,
            "left": null,
            "margin": null,
            "max_height": null,
            "max_width": null,
            "min_height": null,
            "min_width": null,
            "object_fit": null,
            "object_position": null,
            "order": null,
            "overflow": null,
            "overflow_x": null,
            "overflow_y": null,
            "padding": null,
            "right": null,
            "top": null,
            "visibility": null,
            "width": null
          }
        },
        "a75e2516b8f540d49cc4aa76b31012d5": {
          "model_module": "@jupyter-widgets/base",
          "model_name": "LayoutModel",
          "model_module_version": "1.2.0",
          "state": {
            "_model_module": "@jupyter-widgets/base",
            "_model_module_version": "1.2.0",
            "_model_name": "LayoutModel",
            "_view_count": null,
            "_view_module": "@jupyter-widgets/base",
            "_view_module_version": "1.2.0",
            "_view_name": "LayoutView",
            "align_content": null,
            "align_items": null,
            "align_self": null,
            "border": null,
            "bottom": null,
            "display": null,
            "flex": null,
            "flex_flow": null,
            "grid_area": null,
            "grid_auto_columns": null,
            "grid_auto_flow": null,
            "grid_auto_rows": null,
            "grid_column": null,
            "grid_gap": null,
            "grid_row": null,
            "grid_template_areas": null,
            "grid_template_columns": null,
            "grid_template_rows": null,
            "height": null,
            "justify_content": null,
            "justify_items": null,
            "left": null,
            "margin": null,
            "max_height": null,
            "max_width": null,
            "min_height": null,
            "min_width": null,
            "object_fit": null,
            "object_position": null,
            "order": null,
            "overflow": null,
            "overflow_x": null,
            "overflow_y": null,
            "padding": null,
            "right": null,
            "top": null,
            "visibility": null,
            "width": null
          }
        },
        "11c8386f201a455296c65ba15563b4c4": {
          "model_module": "@jupyter-widgets/controls",
          "model_name": "DescriptionStyleModel",
          "model_module_version": "1.5.0",
          "state": {
            "_model_module": "@jupyter-widgets/controls",
            "_model_module_version": "1.5.0",
            "_model_name": "DescriptionStyleModel",
            "_view_count": null,
            "_view_module": "@jupyter-widgets/base",
            "_view_module_version": "1.2.0",
            "_view_name": "StyleView",
            "description_width": ""
          }
        },
        "5b35d4fa9d3c43a4b0f90592fdc56b35": {
          "model_module": "@jupyter-widgets/base",
          "model_name": "LayoutModel",
          "model_module_version": "1.2.0",
          "state": {
            "_model_module": "@jupyter-widgets/base",
            "_model_module_version": "1.2.0",
            "_model_name": "LayoutModel",
            "_view_count": null,
            "_view_module": "@jupyter-widgets/base",
            "_view_module_version": "1.2.0",
            "_view_name": "LayoutView",
            "align_content": null,
            "align_items": null,
            "align_self": null,
            "border": null,
            "bottom": null,
            "display": null,
            "flex": null,
            "flex_flow": null,
            "grid_area": null,
            "grid_auto_columns": null,
            "grid_auto_flow": null,
            "grid_auto_rows": null,
            "grid_column": null,
            "grid_gap": null,
            "grid_row": null,
            "grid_template_areas": null,
            "grid_template_columns": null,
            "grid_template_rows": null,
            "height": null,
            "justify_content": null,
            "justify_items": null,
            "left": null,
            "margin": null,
            "max_height": null,
            "max_width": null,
            "min_height": null,
            "min_width": null,
            "object_fit": null,
            "object_position": null,
            "order": null,
            "overflow": null,
            "overflow_x": null,
            "overflow_y": null,
            "padding": null,
            "right": null,
            "top": null,
            "visibility": null,
            "width": null
          }
        },
        "b0ccaa81f5b34a7aaab2181be80828a0": {
          "model_module": "@jupyter-widgets/controls",
          "model_name": "ProgressStyleModel",
          "model_module_version": "1.5.0",
          "state": {
            "_model_module": "@jupyter-widgets/controls",
            "_model_module_version": "1.5.0",
            "_model_name": "ProgressStyleModel",
            "_view_count": null,
            "_view_module": "@jupyter-widgets/base",
            "_view_module_version": "1.2.0",
            "_view_name": "StyleView",
            "bar_color": null,
            "description_width": ""
          }
        },
        "2508e27e059547bbbefe39a1efb8817c": {
          "model_module": "@jupyter-widgets/base",
          "model_name": "LayoutModel",
          "model_module_version": "1.2.0",
          "state": {
            "_model_module": "@jupyter-widgets/base",
            "_model_module_version": "1.2.0",
            "_model_name": "LayoutModel",
            "_view_count": null,
            "_view_module": "@jupyter-widgets/base",
            "_view_module_version": "1.2.0",
            "_view_name": "LayoutView",
            "align_content": null,
            "align_items": null,
            "align_self": null,
            "border": null,
            "bottom": null,
            "display": null,
            "flex": null,
            "flex_flow": null,
            "grid_area": null,
            "grid_auto_columns": null,
            "grid_auto_flow": null,
            "grid_auto_rows": null,
            "grid_column": null,
            "grid_gap": null,
            "grid_row": null,
            "grid_template_areas": null,
            "grid_template_columns": null,
            "grid_template_rows": null,
            "height": null,
            "justify_content": null,
            "justify_items": null,
            "left": null,
            "margin": null,
            "max_height": null,
            "max_width": null,
            "min_height": null,
            "min_width": null,
            "object_fit": null,
            "object_position": null,
            "order": null,
            "overflow": null,
            "overflow_x": null,
            "overflow_y": null,
            "padding": null,
            "right": null,
            "top": null,
            "visibility": null,
            "width": null
          }
        },
        "52ad2af8b4604fcaaa03eb74080d8aa6": {
          "model_module": "@jupyter-widgets/controls",
          "model_name": "DescriptionStyleModel",
          "model_module_version": "1.5.0",
          "state": {
            "_model_module": "@jupyter-widgets/controls",
            "_model_module_version": "1.5.0",
            "_model_name": "DescriptionStyleModel",
            "_view_count": null,
            "_view_module": "@jupyter-widgets/base",
            "_view_module_version": "1.2.0",
            "_view_name": "StyleView",
            "description_width": ""
          }
        },
        "89c0f4cb450a403fa9e0d4aa3b86bdaf": {
          "model_module": "@jupyter-widgets/controls",
          "model_name": "HBoxModel",
          "model_module_version": "1.5.0",
          "state": {
            "_dom_classes": [],
            "_model_module": "@jupyter-widgets/controls",
            "_model_module_version": "1.5.0",
            "_model_name": "HBoxModel",
            "_view_count": null,
            "_view_module": "@jupyter-widgets/controls",
            "_view_module_version": "1.5.0",
            "_view_name": "HBoxView",
            "box_style": "",
            "children": [
              "IPY_MODEL_dfa1b00016d84de08831e6340b8e28a6",
              "IPY_MODEL_8eb2ce74f3164b51956777d0c6055e0a",
              "IPY_MODEL_914a8fb857e24424a7150cc7dcd2ab58"
            ],
            "layout": "IPY_MODEL_8303ee120ed2457b80a74aaa2c544d53"
          }
        },
        "dfa1b00016d84de08831e6340b8e28a6": {
          "model_module": "@jupyter-widgets/controls",
          "model_name": "HTMLModel",
          "model_module_version": "1.5.0",
          "state": {
            "_dom_classes": [],
            "_model_module": "@jupyter-widgets/controls",
            "_model_module_version": "1.5.0",
            "_model_name": "HTMLModel",
            "_view_count": null,
            "_view_module": "@jupyter-widgets/controls",
            "_view_module_version": "1.5.0",
            "_view_name": "HTMLView",
            "description": "",
            "description_tooltip": null,
            "layout": "IPY_MODEL_19a6ab9aad634cffa43a4f29bdf206a4",
            "placeholder": "​",
            "style": "IPY_MODEL_2469d6d45fee4a7e8fee7d3d52c9a273",
            "value": "100%"
          }
        },
        "8eb2ce74f3164b51956777d0c6055e0a": {
          "model_module": "@jupyter-widgets/controls",
          "model_name": "FloatProgressModel",
          "model_module_version": "1.5.0",
          "state": {
            "_dom_classes": [],
            "_model_module": "@jupyter-widgets/controls",
            "_model_module_version": "1.5.0",
            "_model_name": "FloatProgressModel",
            "_view_count": null,
            "_view_module": "@jupyter-widgets/controls",
            "_view_module_version": "1.5.0",
            "_view_name": "ProgressView",
            "bar_style": "success",
            "description": "",
            "description_tooltip": null,
            "layout": "IPY_MODEL_6d46409e23c843ddb6b082f1c61c5732",
            "max": 545,
            "min": 0,
            "orientation": "horizontal",
            "style": "IPY_MODEL_975b509935074e0b8c1b207cd0df1997",
            "value": 545
          }
        },
        "914a8fb857e24424a7150cc7dcd2ab58": {
          "model_module": "@jupyter-widgets/controls",
          "model_name": "HTMLModel",
          "model_module_version": "1.5.0",
          "state": {
            "_dom_classes": [],
            "_model_module": "@jupyter-widgets/controls",
            "_model_module_version": "1.5.0",
            "_model_name": "HTMLModel",
            "_view_count": null,
            "_view_module": "@jupyter-widgets/controls",
            "_view_module_version": "1.5.0",
            "_view_name": "HTMLView",
            "description": "",
            "description_tooltip": null,
            "layout": "IPY_MODEL_a43d511492f7455095429104c86cf22b",
            "placeholder": "​",
            "style": "IPY_MODEL_a0ab8c34997948709016ccc80caddb4b",
            "value": " 545/545 [37:21&lt;00:00,  3.03s/it]"
          }
        },
        "8303ee120ed2457b80a74aaa2c544d53": {
          "model_module": "@jupyter-widgets/base",
          "model_name": "LayoutModel",
          "model_module_version": "1.2.0",
          "state": {
            "_model_module": "@jupyter-widgets/base",
            "_model_module_version": "1.2.0",
            "_model_name": "LayoutModel",
            "_view_count": null,
            "_view_module": "@jupyter-widgets/base",
            "_view_module_version": "1.2.0",
            "_view_name": "LayoutView",
            "align_content": null,
            "align_items": null,
            "align_self": null,
            "border": null,
            "bottom": null,
            "display": null,
            "flex": null,
            "flex_flow": null,
            "grid_area": null,
            "grid_auto_columns": null,
            "grid_auto_flow": null,
            "grid_auto_rows": null,
            "grid_column": null,
            "grid_gap": null,
            "grid_row": null,
            "grid_template_areas": null,
            "grid_template_columns": null,
            "grid_template_rows": null,
            "height": null,
            "justify_content": null,
            "justify_items": null,
            "left": null,
            "margin": null,
            "max_height": null,
            "max_width": null,
            "min_height": null,
            "min_width": null,
            "object_fit": null,
            "object_position": null,
            "order": null,
            "overflow": null,
            "overflow_x": null,
            "overflow_y": null,
            "padding": null,
            "right": null,
            "top": null,
            "visibility": null,
            "width": null
          }
        },
        "19a6ab9aad634cffa43a4f29bdf206a4": {
          "model_module": "@jupyter-widgets/base",
          "model_name": "LayoutModel",
          "model_module_version": "1.2.0",
          "state": {
            "_model_module": "@jupyter-widgets/base",
            "_model_module_version": "1.2.0",
            "_model_name": "LayoutModel",
            "_view_count": null,
            "_view_module": "@jupyter-widgets/base",
            "_view_module_version": "1.2.0",
            "_view_name": "LayoutView",
            "align_content": null,
            "align_items": null,
            "align_self": null,
            "border": null,
            "bottom": null,
            "display": null,
            "flex": null,
            "flex_flow": null,
            "grid_area": null,
            "grid_auto_columns": null,
            "grid_auto_flow": null,
            "grid_auto_rows": null,
            "grid_column": null,
            "grid_gap": null,
            "grid_row": null,
            "grid_template_areas": null,
            "grid_template_columns": null,
            "grid_template_rows": null,
            "height": null,
            "justify_content": null,
            "justify_items": null,
            "left": null,
            "margin": null,
            "max_height": null,
            "max_width": null,
            "min_height": null,
            "min_width": null,
            "object_fit": null,
            "object_position": null,
            "order": null,
            "overflow": null,
            "overflow_x": null,
            "overflow_y": null,
            "padding": null,
            "right": null,
            "top": null,
            "visibility": null,
            "width": null
          }
        },
        "2469d6d45fee4a7e8fee7d3d52c9a273": {
          "model_module": "@jupyter-widgets/controls",
          "model_name": "DescriptionStyleModel",
          "model_module_version": "1.5.0",
          "state": {
            "_model_module": "@jupyter-widgets/controls",
            "_model_module_version": "1.5.0",
            "_model_name": "DescriptionStyleModel",
            "_view_count": null,
            "_view_module": "@jupyter-widgets/base",
            "_view_module_version": "1.2.0",
            "_view_name": "StyleView",
            "description_width": ""
          }
        },
        "6d46409e23c843ddb6b082f1c61c5732": {
          "model_module": "@jupyter-widgets/base",
          "model_name": "LayoutModel",
          "model_module_version": "1.2.0",
          "state": {
            "_model_module": "@jupyter-widgets/base",
            "_model_module_version": "1.2.0",
            "_model_name": "LayoutModel",
            "_view_count": null,
            "_view_module": "@jupyter-widgets/base",
            "_view_module_version": "1.2.0",
            "_view_name": "LayoutView",
            "align_content": null,
            "align_items": null,
            "align_self": null,
            "border": null,
            "bottom": null,
            "display": null,
            "flex": null,
            "flex_flow": null,
            "grid_area": null,
            "grid_auto_columns": null,
            "grid_auto_flow": null,
            "grid_auto_rows": null,
            "grid_column": null,
            "grid_gap": null,
            "grid_row": null,
            "grid_template_areas": null,
            "grid_template_columns": null,
            "grid_template_rows": null,
            "height": null,
            "justify_content": null,
            "justify_items": null,
            "left": null,
            "margin": null,
            "max_height": null,
            "max_width": null,
            "min_height": null,
            "min_width": null,
            "object_fit": null,
            "object_position": null,
            "order": null,
            "overflow": null,
            "overflow_x": null,
            "overflow_y": null,
            "padding": null,
            "right": null,
            "top": null,
            "visibility": null,
            "width": null
          }
        },
        "975b509935074e0b8c1b207cd0df1997": {
          "model_module": "@jupyter-widgets/controls",
          "model_name": "ProgressStyleModel",
          "model_module_version": "1.5.0",
          "state": {
            "_model_module": "@jupyter-widgets/controls",
            "_model_module_version": "1.5.0",
            "_model_name": "ProgressStyleModel",
            "_view_count": null,
            "_view_module": "@jupyter-widgets/base",
            "_view_module_version": "1.2.0",
            "_view_name": "StyleView",
            "bar_color": null,
            "description_width": ""
          }
        },
        "a43d511492f7455095429104c86cf22b": {
          "model_module": "@jupyter-widgets/base",
          "model_name": "LayoutModel",
          "model_module_version": "1.2.0",
          "state": {
            "_model_module": "@jupyter-widgets/base",
            "_model_module_version": "1.2.0",
            "_model_name": "LayoutModel",
            "_view_count": null,
            "_view_module": "@jupyter-widgets/base",
            "_view_module_version": "1.2.0",
            "_view_name": "LayoutView",
            "align_content": null,
            "align_items": null,
            "align_self": null,
            "border": null,
            "bottom": null,
            "display": null,
            "flex": null,
            "flex_flow": null,
            "grid_area": null,
            "grid_auto_columns": null,
            "grid_auto_flow": null,
            "grid_auto_rows": null,
            "grid_column": null,
            "grid_gap": null,
            "grid_row": null,
            "grid_template_areas": null,
            "grid_template_columns": null,
            "grid_template_rows": null,
            "height": null,
            "justify_content": null,
            "justify_items": null,
            "left": null,
            "margin": null,
            "max_height": null,
            "max_width": null,
            "min_height": null,
            "min_width": null,
            "object_fit": null,
            "object_position": null,
            "order": null,
            "overflow": null,
            "overflow_x": null,
            "overflow_y": null,
            "padding": null,
            "right": null,
            "top": null,
            "visibility": null,
            "width": null
          }
        },
        "a0ab8c34997948709016ccc80caddb4b": {
          "model_module": "@jupyter-widgets/controls",
          "model_name": "DescriptionStyleModel",
          "model_module_version": "1.5.0",
          "state": {
            "_model_module": "@jupyter-widgets/controls",
            "_model_module_version": "1.5.0",
            "_model_name": "DescriptionStyleModel",
            "_view_count": null,
            "_view_module": "@jupyter-widgets/base",
            "_view_module_version": "1.2.0",
            "_view_name": "StyleView",
            "description_width": ""
          }
        },
        "a7e387fbc4c54512b663a4a1578d5d8c": {
          "model_module": "@jupyter-widgets/controls",
          "model_name": "HBoxModel",
          "model_module_version": "1.5.0",
          "state": {
            "_dom_classes": [],
            "_model_module": "@jupyter-widgets/controls",
            "_model_module_version": "1.5.0",
            "_model_name": "HBoxModel",
            "_view_count": null,
            "_view_module": "@jupyter-widgets/controls",
            "_view_module_version": "1.5.0",
            "_view_name": "HBoxView",
            "box_style": "",
            "children": [
              "IPY_MODEL_0f8b4653ece94999902399f85b00301d",
              "IPY_MODEL_e77169756a1142c5aa3420a3dd85c0b3",
              "IPY_MODEL_cf22ff59f3cd4d189ab042baa55061ab"
            ],
            "layout": "IPY_MODEL_570c4ab0fb7a42d8847a207a881bdb8e"
          }
        },
        "0f8b4653ece94999902399f85b00301d": {
          "model_module": "@jupyter-widgets/controls",
          "model_name": "HTMLModel",
          "model_module_version": "1.5.0",
          "state": {
            "_dom_classes": [],
            "_model_module": "@jupyter-widgets/controls",
            "_model_module_version": "1.5.0",
            "_model_name": "HTMLModel",
            "_view_count": null,
            "_view_module": "@jupyter-widgets/controls",
            "_view_module_version": "1.5.0",
            "_view_name": "HTMLView",
            "description": "",
            "description_tooltip": null,
            "layout": "IPY_MODEL_41ec65d63b634d7785c92a818b65a740",
            "placeholder": "​",
            "style": "IPY_MODEL_1a9831626efb4596906a7585873fc609",
            "value": "100%"
          }
        },
        "e77169756a1142c5aa3420a3dd85c0b3": {
          "model_module": "@jupyter-widgets/controls",
          "model_name": "FloatProgressModel",
          "model_module_version": "1.5.0",
          "state": {
            "_dom_classes": [],
            "_model_module": "@jupyter-widgets/controls",
            "_model_module_version": "1.5.0",
            "_model_name": "FloatProgressModel",
            "_view_count": null,
            "_view_module": "@jupyter-widgets/controls",
            "_view_module_version": "1.5.0",
            "_view_name": "ProgressView",
            "bar_style": "success",
            "description": "",
            "description_tooltip": null,
            "layout": "IPY_MODEL_f09562950bea4fd7963541ae44d428ab",
            "max": 178793939,
            "min": 0,
            "orientation": "horizontal",
            "style": "IPY_MODEL_d9e4ed851dd44a2783f254c6beaac27b",
            "value": 178793939
          }
        },
        "cf22ff59f3cd4d189ab042baa55061ab": {
          "model_module": "@jupyter-widgets/controls",
          "model_name": "HTMLModel",
          "model_module_version": "1.5.0",
          "state": {
            "_dom_classes": [],
            "_model_module": "@jupyter-widgets/controls",
            "_model_module_version": "1.5.0",
            "_model_name": "HTMLModel",
            "_view_count": null,
            "_view_module": "@jupyter-widgets/controls",
            "_view_module_version": "1.5.0",
            "_view_name": "HTMLView",
            "description": "",
            "description_tooltip": null,
            "layout": "IPY_MODEL_8cc4203a6b034b4fb14625ed24926b38",
            "placeholder": "​",
            "style": "IPY_MODEL_971125066d484374928baa344f89e318",
            "value": " 171M/171M [00:01&lt;00:00, 115MB/s]"
          }
        },
        "570c4ab0fb7a42d8847a207a881bdb8e": {
          "model_module": "@jupyter-widgets/base",
          "model_name": "LayoutModel",
          "model_module_version": "1.2.0",
          "state": {
            "_model_module": "@jupyter-widgets/base",
            "_model_module_version": "1.2.0",
            "_model_name": "LayoutModel",
            "_view_count": null,
            "_view_module": "@jupyter-widgets/base",
            "_view_module_version": "1.2.0",
            "_view_name": "LayoutView",
            "align_content": null,
            "align_items": null,
            "align_self": null,
            "border": null,
            "bottom": null,
            "display": null,
            "flex": null,
            "flex_flow": null,
            "grid_area": null,
            "grid_auto_columns": null,
            "grid_auto_flow": null,
            "grid_auto_rows": null,
            "grid_column": null,
            "grid_gap": null,
            "grid_row": null,
            "grid_template_areas": null,
            "grid_template_columns": null,
            "grid_template_rows": null,
            "height": null,
            "justify_content": null,
            "justify_items": null,
            "left": null,
            "margin": null,
            "max_height": null,
            "max_width": null,
            "min_height": null,
            "min_width": null,
            "object_fit": null,
            "object_position": null,
            "order": null,
            "overflow": null,
            "overflow_x": null,
            "overflow_y": null,
            "padding": null,
            "right": null,
            "top": null,
            "visibility": null,
            "width": null
          }
        },
        "41ec65d63b634d7785c92a818b65a740": {
          "model_module": "@jupyter-widgets/base",
          "model_name": "LayoutModel",
          "model_module_version": "1.2.0",
          "state": {
            "_model_module": "@jupyter-widgets/base",
            "_model_module_version": "1.2.0",
            "_model_name": "LayoutModel",
            "_view_count": null,
            "_view_module": "@jupyter-widgets/base",
            "_view_module_version": "1.2.0",
            "_view_name": "LayoutView",
            "align_content": null,
            "align_items": null,
            "align_self": null,
            "border": null,
            "bottom": null,
            "display": null,
            "flex": null,
            "flex_flow": null,
            "grid_area": null,
            "grid_auto_columns": null,
            "grid_auto_flow": null,
            "grid_auto_rows": null,
            "grid_column": null,
            "grid_gap": null,
            "grid_row": null,
            "grid_template_areas": null,
            "grid_template_columns": null,
            "grid_template_rows": null,
            "height": null,
            "justify_content": null,
            "justify_items": null,
            "left": null,
            "margin": null,
            "max_height": null,
            "max_width": null,
            "min_height": null,
            "min_width": null,
            "object_fit": null,
            "object_position": null,
            "order": null,
            "overflow": null,
            "overflow_x": null,
            "overflow_y": null,
            "padding": null,
            "right": null,
            "top": null,
            "visibility": null,
            "width": null
          }
        },
        "1a9831626efb4596906a7585873fc609": {
          "model_module": "@jupyter-widgets/controls",
          "model_name": "DescriptionStyleModel",
          "model_module_version": "1.5.0",
          "state": {
            "_model_module": "@jupyter-widgets/controls",
            "_model_module_version": "1.5.0",
            "_model_name": "DescriptionStyleModel",
            "_view_count": null,
            "_view_module": "@jupyter-widgets/base",
            "_view_module_version": "1.2.0",
            "_view_name": "StyleView",
            "description_width": ""
          }
        },
        "f09562950bea4fd7963541ae44d428ab": {
          "model_module": "@jupyter-widgets/base",
          "model_name": "LayoutModel",
          "model_module_version": "1.2.0",
          "state": {
            "_model_module": "@jupyter-widgets/base",
            "_model_module_version": "1.2.0",
            "_model_name": "LayoutModel",
            "_view_count": null,
            "_view_module": "@jupyter-widgets/base",
            "_view_module_version": "1.2.0",
            "_view_name": "LayoutView",
            "align_content": null,
            "align_items": null,
            "align_self": null,
            "border": null,
            "bottom": null,
            "display": null,
            "flex": null,
            "flex_flow": null,
            "grid_area": null,
            "grid_auto_columns": null,
            "grid_auto_flow": null,
            "grid_auto_rows": null,
            "grid_column": null,
            "grid_gap": null,
            "grid_row": null,
            "grid_template_areas": null,
            "grid_template_columns": null,
            "grid_template_rows": null,
            "height": null,
            "justify_content": null,
            "justify_items": null,
            "left": null,
            "margin": null,
            "max_height": null,
            "max_width": null,
            "min_height": null,
            "min_width": null,
            "object_fit": null,
            "object_position": null,
            "order": null,
            "overflow": null,
            "overflow_x": null,
            "overflow_y": null,
            "padding": null,
            "right": null,
            "top": null,
            "visibility": null,
            "width": null
          }
        },
        "d9e4ed851dd44a2783f254c6beaac27b": {
          "model_module": "@jupyter-widgets/controls",
          "model_name": "ProgressStyleModel",
          "model_module_version": "1.5.0",
          "state": {
            "_model_module": "@jupyter-widgets/controls",
            "_model_module_version": "1.5.0",
            "_model_name": "ProgressStyleModel",
            "_view_count": null,
            "_view_module": "@jupyter-widgets/base",
            "_view_module_version": "1.2.0",
            "_view_name": "StyleView",
            "bar_color": null,
            "description_width": ""
          }
        },
        "8cc4203a6b034b4fb14625ed24926b38": {
          "model_module": "@jupyter-widgets/base",
          "model_name": "LayoutModel",
          "model_module_version": "1.2.0",
          "state": {
            "_model_module": "@jupyter-widgets/base",
            "_model_module_version": "1.2.0",
            "_model_name": "LayoutModel",
            "_view_count": null,
            "_view_module": "@jupyter-widgets/base",
            "_view_module_version": "1.2.0",
            "_view_name": "LayoutView",
            "align_content": null,
            "align_items": null,
            "align_self": null,
            "border": null,
            "bottom": null,
            "display": null,
            "flex": null,
            "flex_flow": null,
            "grid_area": null,
            "grid_auto_columns": null,
            "grid_auto_flow": null,
            "grid_auto_rows": null,
            "grid_column": null,
            "grid_gap": null,
            "grid_row": null,
            "grid_template_areas": null,
            "grid_template_columns": null,
            "grid_template_rows": null,
            "height": null,
            "justify_content": null,
            "justify_items": null,
            "left": null,
            "margin": null,
            "max_height": null,
            "max_width": null,
            "min_height": null,
            "min_width": null,
            "object_fit": null,
            "object_position": null,
            "order": null,
            "overflow": null,
            "overflow_x": null,
            "overflow_y": null,
            "padding": null,
            "right": null,
            "top": null,
            "visibility": null,
            "width": null
          }
        },
        "971125066d484374928baa344f89e318": {
          "model_module": "@jupyter-widgets/controls",
          "model_name": "DescriptionStyleModel",
          "model_module_version": "1.5.0",
          "state": {
            "_model_module": "@jupyter-widgets/controls",
            "_model_module_version": "1.5.0",
            "_model_name": "DescriptionStyleModel",
            "_view_count": null,
            "_view_module": "@jupyter-widgets/base",
            "_view_module_version": "1.2.0",
            "_view_name": "StyleView",
            "description_width": ""
          }
        },
        "c729fd056cf24395bb28d41b0b28069a": {
          "model_module": "@jupyter-widgets/controls",
          "model_name": "HBoxModel",
          "model_module_version": "1.5.0",
          "state": {
            "_dom_classes": [],
            "_model_module": "@jupyter-widgets/controls",
            "_model_module_version": "1.5.0",
            "_model_name": "HBoxModel",
            "_view_count": null,
            "_view_module": "@jupyter-widgets/controls",
            "_view_module_version": "1.5.0",
            "_view_name": "HBoxView",
            "box_style": "",
            "children": [
              "IPY_MODEL_4c40ef1087bf44ddb6d479b5ffe99d0e",
              "IPY_MODEL_4afb4f1bd8f9467e9c774b8cfe371ec2",
              "IPY_MODEL_b2b25390634e4912bb00c6b818896b41"
            ],
            "layout": "IPY_MODEL_8ca38479041447d7a920218fda10e315"
          }
        },
        "4c40ef1087bf44ddb6d479b5ffe99d0e": {
          "model_module": "@jupyter-widgets/controls",
          "model_name": "HTMLModel",
          "model_module_version": "1.5.0",
          "state": {
            "_dom_classes": [],
            "_model_module": "@jupyter-widgets/controls",
            "_model_module_version": "1.5.0",
            "_model_name": "HTMLModel",
            "_view_count": null,
            "_view_module": "@jupyter-widgets/controls",
            "_view_module_version": "1.5.0",
            "_view_name": "HTMLView",
            "description": "",
            "description_tooltip": null,
            "layout": "IPY_MODEL_de25a18ce87e48db962edc666382fe8d",
            "placeholder": "​",
            "style": "IPY_MODEL_506258e2f18841b290340f1eacfb7f5e",
            "value": "100%"
          }
        },
        "4afb4f1bd8f9467e9c774b8cfe371ec2": {
          "model_module": "@jupyter-widgets/controls",
          "model_name": "FloatProgressModel",
          "model_module_version": "1.5.0",
          "state": {
            "_dom_classes": [],
            "_model_module": "@jupyter-widgets/controls",
            "_model_module_version": "1.5.0",
            "_model_name": "FloatProgressModel",
            "_view_count": null,
            "_view_module": "@jupyter-widgets/controls",
            "_view_module_version": "1.5.0",
            "_view_name": "ProgressView",
            "bar_style": "success",
            "description": "",
            "description_tooltip": null,
            "layout": "IPY_MODEL_deb6eba754974c3783659d2c9cb0a933",
            "max": 100,
            "min": 0,
            "orientation": "horizontal",
            "style": "IPY_MODEL_f8858bbb45a24aebbc04fc80de70f470",
            "value": 100
          }
        },
        "b2b25390634e4912bb00c6b818896b41": {
          "model_module": "@jupyter-widgets/controls",
          "model_name": "HTMLModel",
          "model_module_version": "1.5.0",
          "state": {
            "_dom_classes": [],
            "_model_module": "@jupyter-widgets/controls",
            "_model_module_version": "1.5.0",
            "_model_name": "HTMLModel",
            "_view_count": null,
            "_view_module": "@jupyter-widgets/controls",
            "_view_module_version": "1.5.0",
            "_view_name": "HTMLView",
            "description": "",
            "description_tooltip": null,
            "layout": "IPY_MODEL_26970c9f6a8d400b9ababe65ad66f453",
            "placeholder": "​",
            "style": "IPY_MODEL_09077dc5ff9e4bd38370ffc5362adf3b",
            "value": " 100/100 [00:47&lt;00:00,  2.51it/s]"
          }
        },
        "8ca38479041447d7a920218fda10e315": {
          "model_module": "@jupyter-widgets/base",
          "model_name": "LayoutModel",
          "model_module_version": "1.2.0",
          "state": {
            "_model_module": "@jupyter-widgets/base",
            "_model_module_version": "1.2.0",
            "_model_name": "LayoutModel",
            "_view_count": null,
            "_view_module": "@jupyter-widgets/base",
            "_view_module_version": "1.2.0",
            "_view_name": "LayoutView",
            "align_content": null,
            "align_items": null,
            "align_self": null,
            "border": null,
            "bottom": null,
            "display": null,
            "flex": null,
            "flex_flow": null,
            "grid_area": null,
            "grid_auto_columns": null,
            "grid_auto_flow": null,
            "grid_auto_rows": null,
            "grid_column": null,
            "grid_gap": null,
            "grid_row": null,
            "grid_template_areas": null,
            "grid_template_columns": null,
            "grid_template_rows": null,
            "height": null,
            "justify_content": null,
            "justify_items": null,
            "left": null,
            "margin": null,
            "max_height": null,
            "max_width": null,
            "min_height": null,
            "min_width": null,
            "object_fit": null,
            "object_position": null,
            "order": null,
            "overflow": null,
            "overflow_x": null,
            "overflow_y": null,
            "padding": null,
            "right": null,
            "top": null,
            "visibility": null,
            "width": null
          }
        },
        "de25a18ce87e48db962edc666382fe8d": {
          "model_module": "@jupyter-widgets/base",
          "model_name": "LayoutModel",
          "model_module_version": "1.2.0",
          "state": {
            "_model_module": "@jupyter-widgets/base",
            "_model_module_version": "1.2.0",
            "_model_name": "LayoutModel",
            "_view_count": null,
            "_view_module": "@jupyter-widgets/base",
            "_view_module_version": "1.2.0",
            "_view_name": "LayoutView",
            "align_content": null,
            "align_items": null,
            "align_self": null,
            "border": null,
            "bottom": null,
            "display": null,
            "flex": null,
            "flex_flow": null,
            "grid_area": null,
            "grid_auto_columns": null,
            "grid_auto_flow": null,
            "grid_auto_rows": null,
            "grid_column": null,
            "grid_gap": null,
            "grid_row": null,
            "grid_template_areas": null,
            "grid_template_columns": null,
            "grid_template_rows": null,
            "height": null,
            "justify_content": null,
            "justify_items": null,
            "left": null,
            "margin": null,
            "max_height": null,
            "max_width": null,
            "min_height": null,
            "min_width": null,
            "object_fit": null,
            "object_position": null,
            "order": null,
            "overflow": null,
            "overflow_x": null,
            "overflow_y": null,
            "padding": null,
            "right": null,
            "top": null,
            "visibility": null,
            "width": null
          }
        },
        "506258e2f18841b290340f1eacfb7f5e": {
          "model_module": "@jupyter-widgets/controls",
          "model_name": "DescriptionStyleModel",
          "model_module_version": "1.5.0",
          "state": {
            "_model_module": "@jupyter-widgets/controls",
            "_model_module_version": "1.5.0",
            "_model_name": "DescriptionStyleModel",
            "_view_count": null,
            "_view_module": "@jupyter-widgets/base",
            "_view_module_version": "1.2.0",
            "_view_name": "StyleView",
            "description_width": ""
          }
        },
        "deb6eba754974c3783659d2c9cb0a933": {
          "model_module": "@jupyter-widgets/base",
          "model_name": "LayoutModel",
          "model_module_version": "1.2.0",
          "state": {
            "_model_module": "@jupyter-widgets/base",
            "_model_module_version": "1.2.0",
            "_model_name": "LayoutModel",
            "_view_count": null,
            "_view_module": "@jupyter-widgets/base",
            "_view_module_version": "1.2.0",
            "_view_name": "LayoutView",
            "align_content": null,
            "align_items": null,
            "align_self": null,
            "border": null,
            "bottom": null,
            "display": null,
            "flex": null,
            "flex_flow": null,
            "grid_area": null,
            "grid_auto_columns": null,
            "grid_auto_flow": null,
            "grid_auto_rows": null,
            "grid_column": null,
            "grid_gap": null,
            "grid_row": null,
            "grid_template_areas": null,
            "grid_template_columns": null,
            "grid_template_rows": null,
            "height": null,
            "justify_content": null,
            "justify_items": null,
            "left": null,
            "margin": null,
            "max_height": null,
            "max_width": null,
            "min_height": null,
            "min_width": null,
            "object_fit": null,
            "object_position": null,
            "order": null,
            "overflow": null,
            "overflow_x": null,
            "overflow_y": null,
            "padding": null,
            "right": null,
            "top": null,
            "visibility": null,
            "width": null
          }
        },
        "f8858bbb45a24aebbc04fc80de70f470": {
          "model_module": "@jupyter-widgets/controls",
          "model_name": "ProgressStyleModel",
          "model_module_version": "1.5.0",
          "state": {
            "_model_module": "@jupyter-widgets/controls",
            "_model_module_version": "1.5.0",
            "_model_name": "ProgressStyleModel",
            "_view_count": null,
            "_view_module": "@jupyter-widgets/base",
            "_view_module_version": "1.2.0",
            "_view_name": "StyleView",
            "bar_color": null,
            "description_width": ""
          }
        },
        "26970c9f6a8d400b9ababe65ad66f453": {
          "model_module": "@jupyter-widgets/base",
          "model_name": "LayoutModel",
          "model_module_version": "1.2.0",
          "state": {
            "_model_module": "@jupyter-widgets/base",
            "_model_module_version": "1.2.0",
            "_model_name": "LayoutModel",
            "_view_count": null,
            "_view_module": "@jupyter-widgets/base",
            "_view_module_version": "1.2.0",
            "_view_name": "LayoutView",
            "align_content": null,
            "align_items": null,
            "align_self": null,
            "border": null,
            "bottom": null,
            "display": null,
            "flex": null,
            "flex_flow": null,
            "grid_area": null,
            "grid_auto_columns": null,
            "grid_auto_flow": null,
            "grid_auto_rows": null,
            "grid_column": null,
            "grid_gap": null,
            "grid_row": null,
            "grid_template_areas": null,
            "grid_template_columns": null,
            "grid_template_rows": null,
            "height": null,
            "justify_content": null,
            "justify_items": null,
            "left": null,
            "margin": null,
            "max_height": null,
            "max_width": null,
            "min_height": null,
            "min_width": null,
            "object_fit": null,
            "object_position": null,
            "order": null,
            "overflow": null,
            "overflow_x": null,
            "overflow_y": null,
            "padding": null,
            "right": null,
            "top": null,
            "visibility": null,
            "width": null
          }
        },
        "09077dc5ff9e4bd38370ffc5362adf3b": {
          "model_module": "@jupyter-widgets/controls",
          "model_name": "DescriptionStyleModel",
          "model_module_version": "1.5.0",
          "state": {
            "_model_module": "@jupyter-widgets/controls",
            "_model_module_version": "1.5.0",
            "_model_name": "DescriptionStyleModel",
            "_view_count": null,
            "_view_module": "@jupyter-widgets/base",
            "_view_module_version": "1.2.0",
            "_view_name": "StyleView",
            "description_width": ""
          }
        }
      }
    }
  },
  "nbformat": 4,
  "nbformat_minor": 0
}