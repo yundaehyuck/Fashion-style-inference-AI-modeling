{
  "cells": [
    {
      "cell_type": "markdown",
      "metadata": {
        "id": "8Mgtdp3zFtuH"
      },
      "source": [
        "# load library"
      ]
    },
    {
      "cell_type": "code",
      "execution_count": null,
      "metadata": {
        "id": "jdeaDUG7FWcf"
      },
      "outputs": [],
      "source": [
        "!pip install timm"
      ]
    },
    {
      "cell_type": "code",
      "execution_count": null,
      "metadata": {
        "id": "9YEfUj7f26Tr"
      },
      "outputs": [],
      "source": [
        "import timm\n",
        "import torch\n",
        "from torch import nn\n",
        "import torch.nn.functional as F\n",
        "from torch.nn import Parameter\n",
        "import torch.optim\n",
        "import torch.optim as optim\n",
        "import torch.nn as nn\n",
        "import torch.nn.parallel\n",
        "\n",
        "import torchvision.models as models\n",
        "import torchvision.transforms as transforms\n",
        "\n",
        "import torch.utils.data as Data\n",
        "import torch.backends.cudnn as cudnn\n",
        "\n",
        "#numpy\n",
        "import numpy as np\n",
        "\n",
        "#util\n",
        "import pickle\n",
        "from PIL import Image\n",
        "from tqdm.auto import tqdm\n",
        "from pprint import pprint\n",
        "import random"
      ]
    },
    {
      "cell_type": "markdown",
      "metadata": {
        "id": "bLhiHCiAJthD"
      },
      "source": [
        "# hyperparameter"
      ]
    },
    {
      "cell_type": "code",
      "execution_count": null,
      "metadata": {
        "id": "ydAW4UogJuyE"
      },
      "outputs": [],
      "source": [
        "IMAGENET_DEFAULT_MEAN = (0.485, 0.456, 0.406)\n",
        "IMAGENET_DEFAULT_STD = (0.229, 0.224, 0.225)\n",
        "\n",
        "image_size = 224\n",
        "\n",
        "use_gpu = torch.cuda.is_available()\n",
        "\n",
        "image_size = 224\n",
        "\n",
        "batch_size = 64\n",
        "\n",
        "num_classes = 4\n",
        "\n",
        "workers = 4\n",
        "\n",
        "max_epochs = 1"
      ]
    },
    {
      "cell_type": "markdown",
      "metadata": {
        "id": "QwsJsoysKAXd"
      },
      "source": [
        "# utility"
      ]
    },
    {
      "cell_type": "code",
      "execution_count": null,
      "metadata": {
        "id": "EogpUebwKBiD"
      },
      "outputs": [],
      "source": [
        "class Warp(object):\n",
        "    def __init__(self, size, interpolation=Image.BILINEAR):\n",
        "        self.size = int(size)\n",
        "        self.interpolation = interpolation\n",
        "\n",
        "    def __call__(self, img):\n",
        "        return img.resize((self.size, self.size), self.interpolation)\n",
        "\n",
        "    def __str__(self):\n",
        "        return self.__class__.__name__ + ' (size={size}, interpolation={interpolation})'.format(size=self.size,\n",
        "                                                                                                interpolation=self.interpolation)\n",
        "class MultiScaleCrop(object):\n",
        "\n",
        "    def __init__(self, input_size, scales=None, max_distort=1, fix_crop=True, more_fix_crop=True):\n",
        "        self.scales = scales if scales is not None else [1, 875, .75, .66]\n",
        "        self.max_distort = max_distort\n",
        "        self.fix_crop = fix_crop\n",
        "        self.more_fix_crop = more_fix_crop\n",
        "        self.input_size = input_size if not isinstance(input_size, int) else [input_size, input_size]\n",
        "        self.interpolation = Image.BILINEAR\n",
        "\n",
        "    def __call__(self, img):\n",
        "        im_size = img.size\n",
        "        crop_w, crop_h, offset_w, offset_h = self._sample_crop_size(im_size)\n",
        "        crop_img_group = img.crop((offset_w, offset_h, offset_w + crop_w, offset_h + crop_h))\n",
        "        ret_img_group = crop_img_group.resize((self.input_size[0], self.input_size[1]), self.interpolation)\n",
        "        return ret_img_group\n",
        "\n",
        "    def _sample_crop_size(self, im_size):\n",
        "        image_w, image_h = im_size[0], im_size[1]\n",
        "\n",
        "        # find a crop size\n",
        "        base_size = min(image_w, image_h)\n",
        "        crop_sizes = [int(base_size * x) for x in self.scales]\n",
        "        crop_h = [self.input_size[1] if abs(x - self.input_size[1]) < 3 else x for x in crop_sizes]\n",
        "        crop_w = [self.input_size[0] if abs(x - self.input_size[0]) < 3 else x for x in crop_sizes]\n",
        "\n",
        "        pairs = []\n",
        "        for i, h in enumerate(crop_h):\n",
        "            for j, w in enumerate(crop_w):\n",
        "                if abs(i - j) <= self.max_distort:\n",
        "                    pairs.append((w, h))\n",
        "\n",
        "        crop_pair = random.choice(pairs)\n",
        "        if not self.fix_crop:\n",
        "            w_offset = random.randint(0, image_w - crop_pair[0])\n",
        "            h_offset = random.randint(0, image_h - crop_pair[1])\n",
        "        else:\n",
        "            w_offset, h_offset = self._sample_fix_offset(image_w, image_h, crop_pair[0], crop_pair[1])\n",
        "\n",
        "        return crop_pair[0], crop_pair[1], w_offset, h_offset\n",
        "\n",
        "    def _sample_fix_offset(self, image_w, image_h, crop_w, crop_h):\n",
        "        offsets = self.fill_fix_offset(self.more_fix_crop, image_w, image_h, crop_w, crop_h)\n",
        "        return random.choice(offsets)\n",
        "\n",
        "    @staticmethod\n",
        "    def fill_fix_offset(more_fix_crop, image_w, image_h, crop_w, crop_h):\n",
        "        w_step = (image_w - crop_w) // 4\n",
        "        h_step = (image_h - crop_h) // 4\n",
        "\n",
        "        ret = list()\n",
        "        ret.append((0, 0))  # upper left\n",
        "        ret.append((4 * w_step, 0))  # upper right\n",
        "        ret.append((0, 4 * h_step))  # lower left\n",
        "        ret.append((4 * w_step, 4 * h_step))  # lower right\n",
        "        ret.append((2 * w_step, 2 * h_step))  # center\n",
        "\n",
        "        if more_fix_crop:\n",
        "            ret.append((0, 2 * h_step))  # center left\n",
        "            ret.append((4 * w_step, 2 * h_step))  # center right\n",
        "            ret.append((2 * w_step, 4 * h_step))  # lower center\n",
        "            ret.append((2 * w_step, 0 * h_step))  # upper center\n",
        "\n",
        "            ret.append((1 * w_step, 1 * h_step))  # upper left quarter\n",
        "            ret.append((3 * w_step, 1 * h_step))  # upper right quarter\n",
        "            ret.append((1 * w_step, 3 * h_step))  # lower left quarter\n",
        "            ret.append((3 * w_step, 3 * h_step))  # lower righ quarter\n",
        "\n",
        "        return ret\n",
        "\n",
        "\n",
        "    def __str__(self):\n",
        "        return self.__class__.__name__"
      ]
    },
    {
      "cell_type": "markdown",
      "metadata": {
        "id": "in1AbuKqF1Fn"
      },
      "source": [
        "# load data"
      ]
    },
    {
      "cell_type": "code",
      "execution_count": null,
      "metadata": {
        "id": "c7p5cmGaFVJk"
      },
      "outputs": [],
      "source": [
        "with open(\"/content/drive/MyDrive/pickle/train_color_data_annotation_v2.pkl\",\"rb\") as fr:\n",
        "    data_list = pickle.load(fr)"
      ]
    },
    {
      "cell_type": "code",
      "execution_count": null,
      "metadata": {
        "id": "1qLoIF8fJDg4"
      },
      "outputs": [],
      "source": [
        "encoding_label_category = {\n",
        "    \"상의\":0,\n",
        "    \"하의\":1,\n",
        "    \"아우터\":2,\n",
        "    \"원피스\":3\n",
        "}"
      ]
    },
    {
      "cell_type": "code",
      "execution_count": null,
      "metadata": {
        "id": "5hzytvUBG59v"
      },
      "outputs": [],
      "source": [
        "class CategoryDataset(Data.Dataset):\n",
        "    def __init__(self, data_list, transform, num_classes=4):\n",
        "        self.img_list = data_list\n",
        "        self.transform = transform\n",
        "        self.num_classes = num_classes\n",
        "\n",
        "    def __len__(self):\n",
        "        return len(self.img_list)\n",
        "\n",
        "    def __getitem__(self, index):\n",
        "        item = self.img_list[index]\n",
        "        return self.get(item)\n",
        "\n",
        "    def get(self, item):\n",
        "        filename = item['file_name']\n",
        "        labels = encoding_label_category[item['labels']]\n",
        "\n",
        "        img = Image.open(filename).convert('RGB')\n",
        "        if self.transform is not None:\n",
        "            img = self.transform(img)\n",
        "\n",
        "        target = torch.tensor([labels])\n",
        "\n",
        "        return img, target"
      ]
    },
    {
      "cell_type": "code",
      "execution_count": null,
      "metadata": {
        "id": "RW5Yta74J2XX"
      },
      "outputs": [],
      "source": [
        "normalize = transforms.Normalize(mean =IMAGENET_DEFAULT_MEAN, std = IMAGENET_DEFAULT_STD)\n",
        "\n",
        "train_transform = transforms.Compose([\n",
        "    MultiScaleCrop(image_size, scales = (1.0,0.875,0.75, 0.66,0.5), max_distort = 2),\n",
        "    #transforms.RandomHorizontalFlip(),\n",
        "    transforms.ToTensor(),\n",
        "    normalize,\n",
        "])\n",
        "\n",
        "val_transform = transforms.Compose([\n",
        "    Warp(image_size),\n",
        "    transforms.ToTensor(),\n",
        "    normalize,\n",
        "])"
      ]
    },
    {
      "cell_type": "code",
      "execution_count": null,
      "metadata": {
        "colab": {
          "base_uri": "https://localhost:8080/"
        },
        "id": "Qdz6GCPKIpxe",
        "outputId": "e40c2eb6-3456-414c-c44f-174cbe0dd19d"
      },
      "outputs": [
        {
          "data": {
            "text/plain": [
              "{'하의': '/content/drive/MyDrive/custom_fashion_data/category1/1.jpg',\n",
              " '상의': '/content/drive/MyDrive/custom_fashion_data/category1/2.jpg'}"
            ]
          },
          "execution_count": 121,
          "metadata": {},
          "output_type": "execute_result"
        }
      ],
      "source": [
        "data_list[0]"
      ]
    },
    {
      "cell_type": "code",
      "execution_count": null,
      "metadata": {
        "colab": {
          "base_uri": "https://localhost:8080/",
          "height": 67,
          "referenced_widgets": [
            "a0970cd9efba4b6b85ddb99e23d909e8",
            "354d18a3fba84304919538dbb278ffa6",
            "4652dd0d7a8a4da6a4decdfe076795b8",
            "0939b175caf64dc696483b01bd1df3cc",
            "f4a9aae34919443db544ce4136fad540",
            "11b3462c7822421d892146d947eed8cd",
            "e0ca458a8ab94c419905a687041afc08",
            "c7ae660210b64d6c83eb210935cb6a59",
            "276d96b3b16c4942b9a814f8b7517b62",
            "e31719f67094414988241e07f26d217c",
            "b1bcda619a044945a830a5ebb66fce59"
          ]
        },
        "id": "TPD6U7oWKvTC",
        "outputId": "8b87f7d7-39a1-4485-cde5-2f2acc5a195a"
      },
      "outputs": [
        {
          "data": {
            "application/vnd.jupyter.widget-view+json": {
              "model_id": "a0970cd9efba4b6b85ddb99e23d909e8",
              "version_major": 2,
              "version_minor": 0
            },
            "text/plain": [
              "  0%|          | 0/11843 [00:00<?, ?it/s]"
            ]
          },
          "metadata": {},
          "output_type": "display_data"
        },
        {
          "name": "stdout",
          "output_type": "stream",
          "text": [
            "17996\n"
          ]
        }
      ],
      "source": [
        "new_data_list = []\n",
        "\n",
        "for data in tqdm(data_list):\n",
        "\n",
        "    for key in data:\n",
        "        \n",
        "        train_data = {}\n",
        "\n",
        "        train_data['file_name'] = data[key]\n",
        "        train_data['labels'] = key\n",
        "\n",
        "        new_data_list.append(train_data)\n",
        "    \n",
        "print(len(new_data_list))"
      ]
    },
    {
      "cell_type": "code",
      "execution_count": null,
      "metadata": {
        "id": "fcJfNzVCLk0K"
      },
      "outputs": [],
      "source": [
        "with open(\"/content/drive/MyDrive/pickle/new_train_category_preprocess.pkl\",\"wb\") as fw:\n",
        "    pickle.dump(new_data_list, fw)"
      ]
    },
    {
      "cell_type": "code",
      "execution_count": null,
      "metadata": {
        "id": "AR_SkiQyQ6jn"
      },
      "outputs": [],
      "source": [
        "with open(\"/content/drive/MyDrive/pickle/new_train_category_preprocess.pkl\",\"rb\") as fr:\n",
        "    new_data_list = pickle.load(fr)"
      ]
    },
    {
      "cell_type": "code",
      "execution_count": null,
      "metadata": {
        "id": "nybdpSWZMNic"
      },
      "outputs": [],
      "source": [
        "#create dataset\n",
        "\n",
        "train_dataset = CategoryDataset(new_data_list,train_transform, num_classes = 4)\n",
        "\n",
        "train_loader = torch.utils.data.DataLoader(train_dataset,\n",
        "                                            batch_size=batch_size, shuffle=True,\n",
        "                                            num_workers=workers)"
      ]
    },
    {
      "cell_type": "code",
      "execution_count": null,
      "metadata": {
        "colab": {
          "base_uri": "https://localhost:8080/"
        },
        "id": "PBxEiFlQMnWf",
        "outputId": "28d0f255-4a08-4a9d-bd59-0408cea83a76"
      },
      "outputs": [
        {
          "data": {
            "text/plain": [
              "(tensor([[[-1.5014, -1.5014, -1.5185,  ...,  1.4783,  1.3413,  1.1187],\n",
              "          [-1.5014, -1.5014, -1.5185,  ...,  1.4612,  1.3413,  1.1187],\n",
              "          [-1.5014, -1.5014, -1.5185,  ...,  1.4440,  1.3413,  1.1187],\n",
              "          ...,\n",
              "          [ 1.2557,  1.2385,  1.2214,  ...,  1.5125,  1.5125,  1.5125],\n",
              "          [ 1.2728,  1.2557,  1.2385,  ...,  1.5125,  1.5125,  1.5125],\n",
              "          [ 1.2728,  1.2557,  1.2385,  ...,  1.5125,  1.5125,  1.5125]],\n",
              " \n",
              "         [[-1.4055, -1.4055, -1.4230,  ...,  1.6408,  1.5007,  1.2731],\n",
              "          [-1.4055, -1.4055, -1.4230,  ...,  1.6232,  1.5007,  1.2731],\n",
              "          [-1.4055, -1.4055, -1.4230,  ...,  1.6057,  1.5007,  1.2731],\n",
              "          ...,\n",
              "          [ 1.4132,  1.3957,  1.3782,  ...,  1.6758,  1.6758,  1.6758],\n",
              "          [ 1.4307,  1.4132,  1.3957,  ...,  1.6758,  1.6758,  1.6758],\n",
              "          [ 1.4307,  1.4132,  1.3957,  ...,  1.6758,  1.6758,  1.6758]],\n",
              " \n",
              "         [[-1.1421, -1.1421, -1.1596,  ...,  1.8557,  1.7163,  1.4897],\n",
              "          [-1.1421, -1.1421, -1.1596,  ...,  1.8383,  1.7163,  1.4897],\n",
              "          [-1.1421, -1.1421, -1.1596,  ...,  1.8208,  1.7163,  1.4897],\n",
              "          ...,\n",
              "          [ 1.6117,  1.6117,  1.5942,  ...,  1.9254,  1.9254,  1.9254],\n",
              "          [ 1.6117,  1.5942,  1.5768,  ...,  1.9254,  1.9254,  1.9254],\n",
              "          [ 1.6117,  1.5942,  1.5768,  ...,  1.9254,  1.9254,  1.9254]]]),\n",
              " tensor([1]))"
            ]
          },
          "execution_count": 11,
          "metadata": {},
          "output_type": "execute_result"
        }
      ],
      "source": [
        "train_dataset[0]"
      ]
    },
    {
      "cell_type": "markdown",
      "metadata": {
        "id": "N7trrvMUHpKF"
      },
      "source": [
        "# define model"
      ]
    },
    {
      "cell_type": "code",
      "execution_count": null,
      "metadata": {
        "id": "0CLYVYOgHaN8"
      },
      "outputs": [],
      "source": [
        "model_names = timm.list_models(pretrained=True)\n",
        "pprint(model_names)"
      ]
    },
    {
      "cell_type": "code",
      "execution_count": null,
      "metadata": {
        "colab": {
          "base_uri": "https://localhost:8080/"
        },
        "id": "JNHKJQF0Hagb",
        "outputId": "9723a615-98a5-419f-e62a-9158ddb41377"
      },
      "outputs": [
        {
          "output_type": "stream",
          "name": "stderr",
          "text": [
            "Downloading: \"https://github.com/rwightman/pytorch-image-models/releases/download/v0.1-weights/efficientnet_b0_ra-3dd342df.pth\" to /root/.cache/torch/hub/checkpoints/efficientnet_b0_ra-3dd342df.pth\n"
          ]
        }
      ],
      "source": [
        "model = timm.create_model('efficientnet_b0', pretrained=True, num_classes=4)"
      ]
    },
    {
      "cell_type": "markdown",
      "metadata": {
        "id": "HvykR9f7NDMN"
      },
      "source": [
        "# loss & optimizer"
      ]
    },
    {
      "cell_type": "code",
      "execution_count": null,
      "metadata": {
        "id": "6Ca-3YQjNEZ9"
      },
      "outputs": [],
      "source": [
        "criterion = torch.nn.CrossEntropyLoss()\n",
        "\n",
        "optimizer = torch.optim.Adam(model.parameters() , lr=0.0005)\n",
        "\n",
        "scheduler = optim.lr_scheduler.CosineAnnealingLR(optimizer, T_max=50, eta_min=0)"
      ]
    },
    {
      "cell_type": "code",
      "execution_count": null,
      "metadata": {
        "id": "D0PKPEN9OPbc"
      },
      "outputs": [],
      "source": []
    },
    {
      "cell_type": "markdown",
      "metadata": {
        "id": "9jJifTt0OdOn"
      },
      "source": [
        "# model training"
      ]
    },
    {
      "cell_type": "code",
      "execution_count": null,
      "metadata": {
        "id": "xfgkL43bOd8q"
      },
      "outputs": [],
      "source": [
        "save_path = '/content/drive/MyDrive/categorymodel_save/category_best_model1.pth'"
      ]
    },
    {
      "cell_type": "code",
      "execution_count": null,
      "metadata": {
        "id": "Bg27CkrbOrpO"
      },
      "outputs": [],
      "source": [
        "train_dataset[0]"
      ]
    },
    {
      "cell_type": "code",
      "execution_count": null,
      "metadata": {
        "id": "SApkhrz0Ouew"
      },
      "outputs": [],
      "source": [
        "input,target = train_dataset[0]"
      ]
    },
    {
      "cell_type": "code",
      "execution_count": null,
      "metadata": {
        "id": "QOLrDDW7Ow98"
      },
      "outputs": [],
      "source": [
        "input = input.unsqueeze(0)\n",
        "target = target.unsqueeze(0)"
      ]
    },
    {
      "cell_type": "code",
      "execution_count": null,
      "metadata": {
        "id": "lNCBmuMUO0aU"
      },
      "outputs": [],
      "source": [
        "output = model(input)"
      ]
    },
    {
      "cell_type": "code",
      "execution_count": null,
      "metadata": {
        "colab": {
          "base_uri": "https://localhost:8080/"
        },
        "id": "sbpMSuHiO2rj",
        "outputId": "daa413a0-809b-4596-9312-236b03f55ad8"
      },
      "outputs": [
        {
          "data": {
            "text/plain": [
              "tensor([[ 0.3516,  0.1830,  1.6507, -0.0834]], grad_fn=<AddmmBackward0>)"
            ]
          },
          "execution_count": 139,
          "metadata": {},
          "output_type": "execute_result"
        }
      ],
      "source": [
        "output"
      ]
    },
    {
      "cell_type": "code",
      "execution_count": null,
      "metadata": {
        "colab": {
          "base_uri": "https://localhost:8080/"
        },
        "id": "NH0kEhdwPlzh",
        "outputId": "41ef8061-4752-4335-a62f-736fcf796d4e"
      },
      "outputs": [
        {
          "data": {
            "text/plain": [
              "0"
            ]
          },
          "execution_count": 147,
          "metadata": {},
          "output_type": "execute_result"
        }
      ],
      "source": [
        "sum(torch.argmax(output, dim=-1) == target).item()"
      ]
    },
    {
      "cell_type": "code",
      "execution_count": null,
      "metadata": {
        "id": "Il7d8kn8PVSo"
      },
      "outputs": [],
      "source": [
        "pred = output.cpu().detach().numpy()\n",
        "real = target.cpu().detach().numpy()"
      ]
    },
    {
      "cell_type": "code",
      "execution_count": null,
      "metadata": {
        "colab": {
          "base_uri": "https://localhost:8080/"
        },
        "id": "HGY8xr5cPY0o",
        "outputId": "f107a532-2e35-457c-a837-03cc1c9774ea"
      },
      "outputs": [
        {
          "data": {
            "text/plain": [
              "array([[ 0.3516418 ,  0.18295833,  1.6506753 , -0.0834136 ]],\n",
              "      dtype=float32)"
            ]
          },
          "execution_count": 141,
          "metadata": {},
          "output_type": "execute_result"
        }
      ],
      "source": [
        "pred"
      ]
    },
    {
      "cell_type": "code",
      "execution_count": null,
      "metadata": {
        "colab": {
          "base_uri": "https://localhost:8080/"
        },
        "id": "WE_rYa_SPZsq",
        "outputId": "2eaf8e65-ddbf-4503-e81f-3364ffc5cb19"
      },
      "outputs": [
        {
          "data": {
            "text/plain": [
              "array([[1]])"
            ]
          },
          "execution_count": 142,
          "metadata": {},
          "output_type": "execute_result"
        }
      ],
      "source": [
        "real"
      ]
    },
    {
      "cell_type": "markdown",
      "metadata": {
        "id": "zWeNUjlyuyl2"
      },
      "source": [
        "#load best model"
      ]
    },
    {
      "cell_type": "code",
      "execution_count": null,
      "metadata": {
        "colab": {
          "base_uri": "https://localhost:8080/"
        },
        "id": "0qMRbdZluqrl",
        "outputId": "7f1efa5c-6245-49e3-aa7b-b4af5ac6cf61"
      },
      "outputs": [
        {
          "output_type": "execute_result",
          "data": {
            "text/plain": [
              "<All keys matched successfully>"
            ]
          },
          "metadata": {},
          "execution_count": 9
        }
      ],
      "source": [
        "resume = \"/content/drive/MyDrive/categorymodel_save/category_best_model1.pth\"\n",
        "\n",
        "checkpoint = torch.load(resume, map_location=torch.device('cpu'))\n",
        "\n",
        "model.load_state_dict(checkpoint)"
      ]
    },
    {
      "cell_type": "code",
      "execution_count": null,
      "metadata": {
        "colab": {
          "background_save": true,
          "base_uri": "https://localhost:8080/",
          "height": 1000,
          "referenced_widgets": [
            "e407be2cca2e4bb7a11769c83acc049b",
            "b1b3c78aebd54cb19839feff9d53ca49",
            "f6b064c2554e4b7a89b762f2b4fb6c14",
            "368d60c4e81f4b088fdaf2d5cd8eb446",
            "a41be2eee0aa414ea5d28594baa7ca98",
            "599f59d7a43b4371acc280f850d63773",
            "a30d898e9fd74ceb8007c1799d48ca1f",
            "d6504d6db36b4ee297c43497039a1f15",
            "75adfd54e40140d08e03fc89303d93b2",
            "79694b8f426e4051b83adede99b097e4",
            "aeb1fb60dc164063ab70a8f76f4d0152",
            "2ad620cbeb5e469db652d03968861e64",
            "1a8a2925f44e4158a7901c4bdd5a90e1",
            "c77b08d159ef4839b275291e3fc2ba81",
            "a51c9fb996fb4f1192932ccad073f074",
            "68ac393563f04c768c9bb661c78cce6f",
            "e00d762f4c2d40eb81341ef7f0fe3770",
            "e71d626d4d3e4687bb57f68efc880eec",
            "6bc3b4a4099e45ac904ec1accb2edbc0",
            "c5162e97b17647ed9a366abb4784cdde",
            "1d4cd76da6cd468080d278556c3411ea",
            "917f58b78b7c4d4da8e392615a2a9fa5",
            "3960899d71394d23b249fe3309a2d211",
            "f54fa862aaf440a3b0fcef4dcab3a03d",
            "0c51d1314439462ba4ab8fbe91d1db4d",
            "5487bb96548b471e92add6b6d90044d8",
            "812e2db396f3434dae20a29bfcf43a90",
            "bfbe1c462ec84f2087f7b3976e27ea13",
            "dbf8d51fe7e54841a301f4ffe31e6cde",
            "9bdca6bb29544b7ab72897c39156bf75",
            "fd68d856df444be49087eb8064543dc1",
            "c62c5ac98f7c4845b54365b0c17c4884",
            "6adac01b2e6d4df49637194ea5cffccc",
            "d4ab3f53b9bd4a61814780fa9c959bf7",
            "c801318d00b74087b2acf8c59b2aa088",
            "207ec297abb242dcba76cfb52432ed19",
            "943193c980ed4dabafed91f0b4531b42",
            "1bc850294bbb4cf2bb97dcc00c9f79e3",
            "ae64135beb7146f68a76f7d3ee308157",
            "61805a48ffe942a68a1689cb548aa95b",
            "974faf78e71b408292fa68604f24a437",
            "8810e251400e462b9d658d7b1cd1ef33",
            "dd82909f4d694c379c284ac52cf7aad6",
            "ef0eb34f4b86451388011ae5221202c5",
            "2a0822a616dd4c17a63aa1a8a5e70f39",
            "ab77d8c340b64bf8bce46d09edc9abfc",
            "c734792484834af5bfb3347db6b94877",
            "d3c28fe38af9435785760fa40b9487ac",
            "446411f969b5490d9d50cf8d5d24fdde",
            "72c4eef769a14d209a4af668f53f3937",
            "204ab8d828ee4ef58f229f7c3339718a",
            "3ee4fba577d449549d783b947d7854a4",
            "91d3e7b73f7041c7976c1434eb16695d",
            "8281095f834149c2869960de930884d3",
            "36b8f0674dc14b1fafc19dec4c4f89c0",
            "317867524e764eef84e3f45493db82d2",
            "22c0ddfbf8fb4073a42ae1a47830df1e",
            "2f5be91c37ff4540a4b57a5d538029d5",
            "a0c05fde1cc24402aade307b520216b9",
            "0ba0b9e61c664c109aace76c11880ef7",
            "b2e1e7aa11a14e73ac35f46445055a85",
            "0fd103f529b640dbb4ad36c294a5b299",
            "e53f8e7dbcec4a8285599260d617354f",
            "1fe876295bac4fa69204120f62a1cd07",
            "a296976c0cfe458e9c711c91e9499d09",
            "cb00d930f65b45338b92e41bc2d16bc0",
            "2d38aef909b24203a56a340e3012bafe",
            "7ddd175cdd2945b09f08fa331a1acaa2",
            "5a368dba514443cd967ca620f0260c59",
            "01034760a15142c4a90f68f655e0681a"
          ]
        },
        "id": "v8V6tk0YOihD",
        "outputId": "e5bac055-47aa-44cf-93dc-04d7235a737d"
      },
      "outputs": [
        {
          "name": "stdout",
          "output_type": "stream",
          "text": [
            "epoch: 0\n",
            "-------------------------------------------------------------\n"
          ]
        },
        {
          "data": {
            "application/vnd.jupyter.widget-view+json": {
              "model_id": "e407be2cca2e4bb7a11769c83acc049b",
              "version_major": 2,
              "version_minor": 0
            },
            "text/plain": [
              "  0%|          | 0/282 [00:00<?, ?it/s]"
            ]
          },
          "metadata": {},
          "output_type": "display_data"
        },
        {
          "name": "stdout",
          "output_type": "stream",
          "text": [
            "loss : 0.3728\n",
            "accuracy : 0.8547\n",
            "-------------------------------------------------------------\n",
            "\n",
            "loss : 0.3802\n",
            "accuracy : 0.8516\n",
            "-------------------------------------------------------------\n",
            "\n",
            "loss : 0.3782\n",
            "accuracy : 0.8534\n",
            "-------------------------------------------------------------\n",
            "\n",
            "loss : 0.3822\n",
            "accuracy : 0.8512\n",
            "-------------------------------------------------------------\n",
            "\n",
            "loss : 0.3825\n",
            "accuracy : 0.8495\n",
            "-------------------------------------------------------------\n",
            "\n",
            "loss : 0.3808\n",
            "accuracy : 0.8500\n",
            "-------------------------------------------------------------\n",
            "\n",
            "loss : 0.3798\n",
            "accuracy : 0.8502\n",
            "-------------------------------------------------------------\n",
            "\n",
            "loss : 0.3853\n",
            "accuracy : 0.8475\n",
            "-------------------------------------------------------------\n",
            "\n",
            "loss : 0.3890\n",
            "accuracy : 0.8467\n",
            "-------------------------------------------------------------\n",
            "\n",
            "loss : 0.3884\n",
            "accuracy : 0.8466\n",
            "-------------------------------------------------------------\n",
            "\n",
            "loss : 0.3873\n",
            "accuracy : 0.8474\n",
            "-------------------------------------------------------------\n",
            "\n",
            "loss : 0.3871\n",
            "accuracy : 0.8475\n",
            "-------------------------------------------------------------\n",
            "\n",
            "loss : 0.3859\n",
            "accuracy : 0.8477\n",
            "-------------------------------------------------------------\n",
            "\n",
            "loss : 0.3859\n",
            "accuracy : 0.8474\n",
            "-------------------------------------------------------------\n",
            "\n",
            "epoch loss : 0.3868\n",
            "accuracy : 0.8447\n",
            "epoch: 1\n",
            "-------------------------------------------------------------\n"
          ]
        },
        {
          "data": {
            "application/vnd.jupyter.widget-view+json": {
              "model_id": "2ad620cbeb5e469db652d03968861e64",
              "version_major": 2,
              "version_minor": 0
            },
            "text/plain": [
              "  0%|          | 0/282 [00:00<?, ?it/s]"
            ]
          },
          "metadata": {},
          "output_type": "display_data"
        },
        {
          "name": "stdout",
          "output_type": "stream",
          "text": [
            "loss : 0.3445\n",
            "accuracy : 0.8688\n",
            "-------------------------------------------------------------\n",
            "\n",
            "loss : 0.3580\n",
            "accuracy : 0.8645\n",
            "-------------------------------------------------------------\n",
            "\n",
            "loss : 0.3567\n",
            "accuracy : 0.8651\n",
            "-------------------------------------------------------------\n",
            "\n",
            "loss : 0.3568\n",
            "accuracy : 0.8627\n",
            "-------------------------------------------------------------\n",
            "\n",
            "loss : 0.3637\n",
            "accuracy : 0.8588\n",
            "-------------------------------------------------------------\n",
            "\n",
            "loss : 0.3672\n",
            "accuracy : 0.8589\n",
            "-------------------------------------------------------------\n",
            "\n",
            "loss : 0.3683\n",
            "accuracy : 0.8567\n",
            "-------------------------------------------------------------\n",
            "\n",
            "loss : 0.3695\n",
            "accuracy : 0.8562\n",
            "-------------------------------------------------------------\n",
            "\n",
            "loss : 0.3717\n",
            "accuracy : 0.8557\n",
            "-------------------------------------------------------------\n",
            "\n",
            "loss : 0.3687\n",
            "accuracy : 0.8562\n",
            "-------------------------------------------------------------\n",
            "\n",
            "loss : 0.3685\n",
            "accuracy : 0.8553\n",
            "-------------------------------------------------------------\n",
            "\n",
            "loss : 0.3710\n",
            "accuracy : 0.8545\n",
            "-------------------------------------------------------------\n",
            "\n",
            "loss : 0.3713\n",
            "accuracy : 0.8544\n",
            "-------------------------------------------------------------\n",
            "\n",
            "loss : 0.3731\n",
            "accuracy : 0.8546\n",
            "-------------------------------------------------------------\n",
            "\n",
            "epoch loss : 0.3734\n",
            "accuracy : 0.8523\n",
            "epoch: 2\n",
            "-------------------------------------------------------------\n"
          ]
        },
        {
          "data": {
            "application/vnd.jupyter.widget-view+json": {
              "model_id": "3960899d71394d23b249fe3309a2d211",
              "version_major": 2,
              "version_minor": 0
            },
            "text/plain": [
              "  0%|          | 0/282 [00:00<?, ?it/s]"
            ]
          },
          "metadata": {},
          "output_type": "display_data"
        },
        {
          "name": "stdout",
          "output_type": "stream",
          "text": [
            "loss : 0.3798\n",
            "accuracy : 0.8570\n",
            "-------------------------------------------------------------\n",
            "\n",
            "loss : 0.3781\n",
            "accuracy : 0.8586\n",
            "-------------------------------------------------------------\n",
            "\n",
            "loss : 0.3766\n",
            "accuracy : 0.8573\n",
            "-------------------------------------------------------------\n",
            "\n",
            "loss : 0.3725\n",
            "accuracy : 0.8555\n",
            "-------------------------------------------------------------\n",
            "\n",
            "loss : 0.3717\n",
            "accuracy : 0.8545\n",
            "-------------------------------------------------------------\n",
            "\n",
            "loss : 0.3771\n",
            "accuracy : 0.8543\n",
            "-------------------------------------------------------------\n",
            "\n",
            "loss : 0.3765\n",
            "accuracy : 0.8540\n",
            "-------------------------------------------------------------\n",
            "\n",
            "loss : 0.3722\n",
            "accuracy : 0.8553\n",
            "-------------------------------------------------------------\n",
            "\n",
            "loss : 0.3732\n",
            "accuracy : 0.8537\n",
            "-------------------------------------------------------------\n",
            "\n",
            "loss : 0.3735\n",
            "accuracy : 0.8526\n",
            "-------------------------------------------------------------\n",
            "\n",
            "loss : 0.3757\n",
            "accuracy : 0.8522\n",
            "-------------------------------------------------------------\n",
            "\n",
            "loss : 0.3738\n",
            "accuracy : 0.8533\n",
            "-------------------------------------------------------------\n",
            "\n",
            "loss : 0.3717\n",
            "accuracy : 0.8535\n",
            "-------------------------------------------------------------\n",
            "\n",
            "loss : 0.3749\n",
            "accuracy : 0.8530\n",
            "-------------------------------------------------------------\n",
            "\n",
            "epoch loss : 0.3750\n",
            "accuracy : 0.8506\n",
            "epoch: 3\n",
            "-------------------------------------------------------------\n"
          ]
        },
        {
          "data": {
            "application/vnd.jupyter.widget-view+json": {
              "model_id": "d4ab3f53b9bd4a61814780fa9c959bf7",
              "version_major": 2,
              "version_minor": 0
            },
            "text/plain": [
              "  0%|          | 0/282 [00:00<?, ?it/s]"
            ]
          },
          "metadata": {},
          "output_type": "display_data"
        },
        {
          "name": "stdout",
          "output_type": "stream",
          "text": [
            "loss : 0.3489\n",
            "accuracy : 0.8594\n",
            "-------------------------------------------------------------\n",
            "\n",
            "loss : 0.3481\n",
            "accuracy : 0.8680\n",
            "-------------------------------------------------------------\n",
            "\n",
            "loss : 0.3446\n",
            "accuracy : 0.8664\n",
            "-------------------------------------------------------------\n",
            "\n",
            "loss : 0.3489\n",
            "accuracy : 0.8639\n",
            "-------------------------------------------------------------\n",
            "\n",
            "loss : 0.3557\n",
            "accuracy : 0.8605\n",
            "-------------------------------------------------------------\n",
            "\n",
            "loss : 0.3610\n",
            "accuracy : 0.8585\n",
            "-------------------------------------------------------------\n",
            "\n",
            "loss : 0.3639\n",
            "accuracy : 0.8587\n",
            "-------------------------------------------------------------\n",
            "\n",
            "loss : 0.3638\n",
            "accuracy : 0.8598\n",
            "-------------------------------------------------------------\n",
            "\n",
            "loss : 0.3616\n",
            "accuracy : 0.8601\n",
            "-------------------------------------------------------------\n",
            "\n",
            "loss : 0.3594\n",
            "accuracy : 0.8605\n",
            "-------------------------------------------------------------\n",
            "\n",
            "loss : 0.3601\n",
            "accuracy : 0.8599\n",
            "-------------------------------------------------------------\n",
            "\n",
            "loss : 0.3633\n",
            "accuracy : 0.8581\n",
            "-------------------------------------------------------------\n",
            "\n",
            "loss : 0.3613\n",
            "accuracy : 0.8587\n",
            "-------------------------------------------------------------\n",
            "\n",
            "loss : 0.3601\n",
            "accuracy : 0.8586\n",
            "-------------------------------------------------------------\n",
            "\n",
            "epoch loss : 0.3611\n",
            "accuracy : 0.8562\n",
            "epoch: 4\n",
            "-------------------------------------------------------------\n"
          ]
        },
        {
          "data": {
            "application/vnd.jupyter.widget-view+json": {
              "model_id": "2a0822a616dd4c17a63aa1a8a5e70f39",
              "version_major": 2,
              "version_minor": 0
            },
            "text/plain": [
              "  0%|          | 0/282 [00:00<?, ?it/s]"
            ]
          },
          "metadata": {},
          "output_type": "display_data"
        },
        {
          "name": "stdout",
          "output_type": "stream",
          "text": [
            "loss : 0.3248\n",
            "accuracy : 0.8695\n",
            "-------------------------------------------------------------\n",
            "\n",
            "loss : 0.3359\n",
            "accuracy : 0.8680\n",
            "-------------------------------------------------------------\n",
            "\n",
            "loss : 0.3391\n",
            "accuracy : 0.8664\n",
            "-------------------------------------------------------------\n",
            "\n",
            "loss : 0.3493\n",
            "accuracy : 0.8635\n",
            "-------------------------------------------------------------\n",
            "\n",
            "loss : 0.3539\n",
            "accuracy : 0.8619\n",
            "-------------------------------------------------------------\n",
            "\n",
            "loss : 0.3540\n",
            "accuracy : 0.8602\n",
            "-------------------------------------------------------------\n",
            "\n",
            "loss : 0.3570\n",
            "accuracy : 0.8596\n",
            "-------------------------------------------------------------\n",
            "\n",
            "loss : 0.3557\n",
            "accuracy : 0.8585\n",
            "-------------------------------------------------------------\n",
            "\n",
            "loss : 0.3548\n",
            "accuracy : 0.8584\n",
            "-------------------------------------------------------------\n",
            "\n",
            "loss : 0.3555\n",
            "accuracy : 0.8588\n",
            "-------------------------------------------------------------\n",
            "\n",
            "loss : 0.3577\n",
            "accuracy : 0.8586\n",
            "-------------------------------------------------------------\n",
            "\n",
            "loss : 0.3571\n",
            "accuracy : 0.8581\n",
            "-------------------------------------------------------------\n",
            "\n",
            "loss : 0.3566\n",
            "accuracy : 0.8586\n",
            "-------------------------------------------------------------\n",
            "\n",
            "loss : 0.3590\n",
            "accuracy : 0.8586\n",
            "-------------------------------------------------------------\n",
            "\n",
            "epoch loss : 0.3596\n",
            "accuracy : 0.8558\n",
            "epoch: 5\n",
            "-------------------------------------------------------------\n"
          ]
        },
        {
          "data": {
            "application/vnd.jupyter.widget-view+json": {
              "model_id": "317867524e764eef84e3f45493db82d2",
              "version_major": 2,
              "version_minor": 0
            },
            "text/plain": [
              "  0%|          | 0/282 [00:00<?, ?it/s]"
            ]
          },
          "metadata": {},
          "output_type": "display_data"
        },
        {
          "name": "stdout",
          "output_type": "stream",
          "text": [
            "loss : 0.3467\n",
            "accuracy : 0.8617\n",
            "-------------------------------------------------------------\n",
            "\n",
            "loss : 0.3365\n",
            "accuracy : 0.8699\n",
            "-------------------------------------------------------------\n",
            "\n",
            "loss : 0.3414\n",
            "accuracy : 0.8716\n",
            "-------------------------------------------------------------\n",
            "\n",
            "loss : 0.3411\n",
            "accuracy : 0.8701\n",
            "-------------------------------------------------------------\n",
            "\n",
            "loss : 0.3451\n",
            "accuracy : 0.8670\n",
            "-------------------------------------------------------------\n",
            "\n",
            "loss : 0.3491\n",
            "accuracy : 0.8646\n",
            "-------------------------------------------------------------\n",
            "\n",
            "loss : 0.3497\n",
            "accuracy : 0.8651\n",
            "-------------------------------------------------------------\n",
            "\n",
            "loss : 0.3516\n",
            "accuracy : 0.8639\n",
            "-------------------------------------------------------------\n",
            "\n",
            "loss : 0.3524\n",
            "accuracy : 0.8622\n",
            "-------------------------------------------------------------\n",
            "\n",
            "loss : 0.3560\n",
            "accuracy : 0.8608\n",
            "-------------------------------------------------------------\n",
            "\n",
            "loss : 0.3572\n",
            "accuracy : 0.8601\n",
            "-------------------------------------------------------------\n",
            "\n",
            "loss : 0.3541\n",
            "accuracy : 0.8613\n",
            "-------------------------------------------------------------\n",
            "\n",
            "loss : 0.3548\n",
            "accuracy : 0.8613\n",
            "-------------------------------------------------------------\n",
            "\n",
            "loss : 0.3531\n",
            "accuracy : 0.8627\n",
            "-------------------------------------------------------------\n",
            "\n",
            "epoch loss : 0.3552\n",
            "accuracy : 0.8598\n",
            "epoch: 6\n",
            "-------------------------------------------------------------\n"
          ]
        },
        {
          "data": {
            "application/vnd.jupyter.widget-view+json": {
              "model_id": "22c0ddfbf8fb4073a42ae1a47830df1e",
              "version_major": 2,
              "version_minor": 0
            },
            "text/plain": [
              "  0%|          | 0/282 [00:00<?, ?it/s]"
            ]
          },
          "metadata": {},
          "output_type": "display_data"
        },
        {
          "name": "stdout",
          "output_type": "stream",
          "text": [
            "loss : 0.3259\n",
            "accuracy : 0.8711\n",
            "-------------------------------------------------------------\n",
            "\n",
            "loss : 0.3446\n",
            "accuracy : 0.8695\n",
            "-------------------------------------------------------------\n",
            "\n",
            "loss : 0.3437\n",
            "accuracy : 0.8664\n",
            "-------------------------------------------------------------\n",
            "\n",
            "loss : 0.3545\n",
            "accuracy : 0.8615\n",
            "-------------------------------------------------------------\n",
            "\n",
            "loss : 0.3511\n",
            "accuracy : 0.8614\n",
            "-------------------------------------------------------------\n",
            "\n",
            "loss : 0.3518\n",
            "accuracy : 0.8616\n",
            "-------------------------------------------------------------\n",
            "\n",
            "loss : 0.3503\n",
            "accuracy : 0.8627\n",
            "-------------------------------------------------------------\n",
            "\n",
            "loss : 0.3486\n",
            "accuracy : 0.8635\n",
            "-------------------------------------------------------------\n",
            "\n",
            "loss : 0.3503\n",
            "accuracy : 0.8630\n",
            "-------------------------------------------------------------\n",
            "\n",
            "loss : 0.3514\n",
            "accuracy : 0.8624\n",
            "-------------------------------------------------------------\n",
            "\n",
            "loss : 0.3556\n",
            "accuracy : 0.8610\n",
            "-------------------------------------------------------------\n",
            "\n",
            "loss : 0.3569\n",
            "accuracy : 0.8599\n",
            "-------------------------------------------------------------\n",
            "\n",
            "loss : 0.3576\n",
            "accuracy : 0.8600\n",
            "-------------------------------------------------------------\n",
            "\n",
            "loss : 0.3594\n",
            "accuracy : 0.8599\n",
            "-------------------------------------------------------------\n",
            "\n",
            "epoch loss : 0.3593\n",
            "accuracy : 0.8574\n",
            "epoch: 7\n",
            "-------------------------------------------------------------\n"
          ]
        },
        {
          "data": {
            "application/vnd.jupyter.widget-view+json": {
              "model_id": "2f5be91c37ff4540a4b57a5d538029d5",
              "version_major": 2,
              "version_minor": 0
            },
            "text/plain": [
              "  0%|          | 0/282 [00:00<?, ?it/s]"
            ]
          },
          "metadata": {},
          "output_type": "display_data"
        },
        {
          "name": "stdout",
          "output_type": "stream",
          "text": [
            "loss : 0.3102\n",
            "accuracy : 0.8875\n",
            "-------------------------------------------------------------\n",
            "\n",
            "loss : 0.2973\n",
            "accuracy : 0.8930\n",
            "-------------------------------------------------------------\n",
            "\n",
            "loss : 0.3011\n",
            "accuracy : 0.8870\n",
            "-------------------------------------------------------------\n",
            "\n",
            "loss : 0.3056\n",
            "accuracy : 0.8836\n",
            "-------------------------------------------------------------\n",
            "\n",
            "loss : 0.3072\n",
            "accuracy : 0.8819\n",
            "-------------------------------------------------------------\n",
            "\n",
            "loss : 0.3122\n",
            "accuracy : 0.8801\n",
            "-------------------------------------------------------------\n",
            "\n",
            "loss : 0.3152\n",
            "accuracy : 0.8781\n",
            "-------------------------------------------------------------\n",
            "\n",
            "loss : 0.3194\n",
            "accuracy : 0.8763\n",
            "-------------------------------------------------------------\n",
            "\n",
            "loss : 0.3226\n",
            "accuracy : 0.8755\n",
            "-------------------------------------------------------------\n",
            "\n",
            "loss : 0.3241\n",
            "accuracy : 0.8757\n",
            "-------------------------------------------------------------\n",
            "\n",
            "loss : 0.3253\n",
            "accuracy : 0.8752\n",
            "-------------------------------------------------------------\n",
            "\n",
            "loss : 0.3305\n",
            "accuracy : 0.8729\n",
            "-------------------------------------------------------------\n",
            "\n",
            "loss : 0.3315\n",
            "accuracy : 0.8725\n",
            "-------------------------------------------------------------\n",
            "\n",
            "loss : 0.3328\n",
            "accuracy : 0.8717\n",
            "-------------------------------------------------------------\n",
            "\n",
            "epoch loss : 0.3358\n",
            "accuracy : 0.8687\n",
            "epoch: 8\n",
            "-------------------------------------------------------------\n"
          ]
        },
        {
          "data": {
            "application/vnd.jupyter.widget-view+json": {
              "model_id": "a0c05fde1cc24402aade307b520216b9",
              "version_major": 2,
              "version_minor": 0
            },
            "text/plain": [
              "  0%|          | 0/282 [00:00<?, ?it/s]"
            ]
          },
          "metadata": {},
          "output_type": "display_data"
        },
        {
          "name": "stdout",
          "output_type": "stream",
          "text": [
            "loss : 0.3357\n",
            "accuracy : 0.8688\n",
            "-------------------------------------------------------------\n",
            "\n",
            "loss : 0.3462\n",
            "accuracy : 0.8578\n",
            "-------------------------------------------------------------\n",
            "\n",
            "loss : 0.3336\n",
            "accuracy : 0.8630\n",
            "-------------------------------------------------------------\n",
            "\n",
            "loss : 0.3341\n",
            "accuracy : 0.8641\n",
            "-------------------------------------------------------------\n",
            "\n",
            "loss : 0.3291\n",
            "accuracy : 0.8658\n",
            "-------------------------------------------------------------\n",
            "\n",
            "loss : 0.3316\n",
            "accuracy : 0.8654\n",
            "-------------------------------------------------------------\n",
            "\n",
            "loss : 0.3370\n",
            "accuracy : 0.8643\n",
            "-------------------------------------------------------------\n",
            "\n",
            "loss : 0.3369\n",
            "accuracy : 0.8646\n",
            "-------------------------------------------------------------\n",
            "\n",
            "loss : 0.3412\n",
            "accuracy : 0.8632\n",
            "-------------------------------------------------------------\n",
            "\n",
            "loss : 0.3406\n",
            "accuracy : 0.8637\n",
            "-------------------------------------------------------------\n",
            "\n",
            "loss : 0.3400\n",
            "accuracy : 0.8642\n",
            "-------------------------------------------------------------\n",
            "\n",
            "loss : 0.3388\n",
            "accuracy : 0.8656\n",
            "-------------------------------------------------------------\n",
            "\n",
            "loss : 0.3401\n",
            "accuracy : 0.8642\n",
            "-------------------------------------------------------------\n",
            "\n",
            "loss : 0.3414\n",
            "accuracy : 0.8632\n",
            "-------------------------------------------------------------\n",
            "\n",
            "epoch loss : 0.3407\n",
            "accuracy : 0.8607\n",
            "epoch: 9\n",
            "-------------------------------------------------------------\n"
          ]
        },
        {
          "data": {
            "application/vnd.jupyter.widget-view+json": {
              "model_id": "0ba0b9e61c664c109aace76c11880ef7",
              "version_major": 2,
              "version_minor": 0
            },
            "text/plain": [
              "  0%|          | 0/282 [00:00<?, ?it/s]"
            ]
          },
          "metadata": {},
          "output_type": "display_data"
        },
        {
          "name": "stdout",
          "output_type": "stream",
          "text": [
            "loss : 0.3435\n",
            "accuracy : 0.8625\n",
            "-------------------------------------------------------------\n",
            "\n",
            "loss : 0.3301\n",
            "accuracy : 0.8695\n",
            "-------------------------------------------------------------\n",
            "\n",
            "loss : 0.3250\n",
            "accuracy : 0.8714\n",
            "-------------------------------------------------------------\n",
            "\n",
            "loss : 0.3253\n",
            "accuracy : 0.8701\n",
            "-------------------------------------------------------------\n",
            "\n",
            "loss : 0.3246\n",
            "accuracy : 0.8684\n",
            "-------------------------------------------------------------\n",
            "\n",
            "loss : 0.3213\n",
            "accuracy : 0.8697\n",
            "-------------------------------------------------------------\n",
            "\n",
            "loss : 0.3233\n",
            "accuracy : 0.8712\n",
            "-------------------------------------------------------------\n",
            "\n",
            "loss : 0.3190\n",
            "accuracy : 0.8726\n",
            "-------------------------------------------------------------\n",
            "\n",
            "loss : 0.3167\n",
            "accuracy : 0.8730\n",
            "-------------------------------------------------------------\n",
            "\n",
            "loss : 0.3200\n",
            "accuracy : 0.8707\n",
            "-------------------------------------------------------------\n",
            "\n",
            "loss : 0.3214\n",
            "accuracy : 0.8702\n",
            "-------------------------------------------------------------\n",
            "\n",
            "loss : 0.3204\n",
            "accuracy : 0.8706\n",
            "-------------------------------------------------------------\n",
            "\n",
            "loss : 0.3225\n",
            "accuracy : 0.8701\n",
            "-------------------------------------------------------------\n",
            "\n",
            "loss : 0.3247\n",
            "accuracy : 0.8688\n",
            "-------------------------------------------------------------\n",
            "\n",
            "epoch loss : 0.3271\n",
            "accuracy : 0.8659\n",
            "epoch: 10\n",
            "-------------------------------------------------------------\n"
          ]
        },
        {
          "data": {
            "application/vnd.jupyter.widget-view+json": {
              "model_id": "b2e1e7aa11a14e73ac35f46445055a85",
              "version_major": 2,
              "version_minor": 0
            },
            "text/plain": [
              "  0%|          | 0/282 [00:00<?, ?it/s]"
            ]
          },
          "metadata": {},
          "output_type": "display_data"
        },
        {
          "name": "stdout",
          "output_type": "stream",
          "text": [
            "loss : 0.3309\n",
            "accuracy : 0.8609\n",
            "-------------------------------------------------------------\n",
            "\n",
            "loss : 0.3314\n",
            "accuracy : 0.8688\n",
            "-------------------------------------------------------------\n",
            "\n",
            "loss : 0.3236\n",
            "accuracy : 0.8740\n",
            "-------------------------------------------------------------\n",
            "\n",
            "loss : 0.3222\n",
            "accuracy : 0.8760\n",
            "-------------------------------------------------------------\n",
            "\n",
            "loss : 0.3283\n",
            "accuracy : 0.8739\n",
            "-------------------------------------------------------------\n",
            "\n",
            "loss : 0.3338\n",
            "accuracy : 0.8724\n",
            "-------------------------------------------------------------\n",
            "\n",
            "loss : 0.3366\n",
            "accuracy : 0.8706\n",
            "-------------------------------------------------------------\n",
            "\n",
            "loss : 0.3386\n",
            "accuracy : 0.8695\n",
            "-------------------------------------------------------------\n",
            "\n",
            "loss : 0.3376\n",
            "accuracy : 0.8691\n",
            "-------------------------------------------------------------\n",
            "\n",
            "loss : 0.3344\n",
            "accuracy : 0.8712\n",
            "-------------------------------------------------------------\n",
            "\n",
            "loss : 0.3356\n",
            "accuracy : 0.8697\n",
            "-------------------------------------------------------------\n",
            "\n",
            "loss : 0.3360\n",
            "accuracy : 0.8694\n",
            "-------------------------------------------------------------\n",
            "\n",
            "loss : 0.3344\n",
            "accuracy : 0.8694\n",
            "-------------------------------------------------------------\n",
            "\n",
            "loss : 0.3344\n",
            "accuracy : 0.8695\n",
            "-------------------------------------------------------------\n",
            "\n",
            "epoch loss : 0.3334\n",
            "accuracy : 0.8672\n",
            "epoch: 11\n",
            "-------------------------------------------------------------\n"
          ]
        },
        {
          "data": {
            "application/vnd.jupyter.widget-view+json": {
              "model_id": "0fd103f529b640dbb4ad36c294a5b299",
              "version_major": 2,
              "version_minor": 0
            },
            "text/plain": [
              "  0%|          | 0/282 [00:00<?, ?it/s]"
            ]
          },
          "metadata": {},
          "output_type": "display_data"
        },
        {
          "name": "stdout",
          "output_type": "stream",
          "text": [
            "loss : 0.3470\n",
            "accuracy : 0.8633\n",
            "-------------------------------------------------------------\n",
            "\n",
            "loss : 0.3267\n",
            "accuracy : 0.8719\n",
            "-------------------------------------------------------------\n",
            "\n",
            "loss : 0.3170\n",
            "accuracy : 0.8753\n",
            "-------------------------------------------------------------\n",
            "\n",
            "loss : 0.3253\n",
            "accuracy : 0.8754\n",
            "-------------------------------------------------------------\n",
            "\n",
            "loss : 0.3216\n",
            "accuracy : 0.8772\n",
            "-------------------------------------------------------------\n",
            "\n",
            "loss : 0.3235\n",
            "accuracy : 0.8757\n",
            "-------------------------------------------------------------\n",
            "\n",
            "loss : 0.3219\n",
            "accuracy : 0.8753\n",
            "-------------------------------------------------------------\n",
            "\n",
            "loss : 0.3191\n",
            "accuracy : 0.8761\n",
            "-------------------------------------------------------------\n",
            "\n",
            "loss : 0.3187\n",
            "accuracy : 0.8761\n",
            "-------------------------------------------------------------\n",
            "\n",
            "loss : 0.3196\n",
            "accuracy : 0.8756\n",
            "-------------------------------------------------------------\n",
            "\n",
            "loss : 0.3241\n",
            "accuracy : 0.8744\n",
            "-------------------------------------------------------------\n",
            "\n",
            "loss : 0.3238\n",
            "accuracy : 0.8745\n",
            "-------------------------------------------------------------\n",
            "\n",
            "loss : 0.3221\n",
            "accuracy : 0.8746\n",
            "-------------------------------------------------------------\n",
            "\n",
            "loss : 0.3229\n",
            "accuracy : 0.8744\n",
            "-------------------------------------------------------------\n",
            "\n",
            "epoch loss : 0.3227\n",
            "accuracy : 0.8720\n",
            "epoch: 12\n",
            "-------------------------------------------------------------\n"
          ]
        },
        {
          "data": {
            "application/vnd.jupyter.widget-view+json": {
              "model_id": "e53f8e7dbcec4a8285599260d617354f",
              "version_major": 2,
              "version_minor": 0
            },
            "text/plain": [
              "  0%|          | 0/282 [00:00<?, ?it/s]"
            ]
          },
          "metadata": {},
          "output_type": "display_data"
        },
        {
          "name": "stdout",
          "output_type": "stream",
          "text": [
            "loss : 0.2986\n",
            "accuracy : 0.8883\n",
            "-------------------------------------------------------------\n",
            "\n",
            "loss : 0.2890\n",
            "accuracy : 0.8898\n",
            "-------------------------------------------------------------\n",
            "\n",
            "loss : 0.3057\n",
            "accuracy : 0.8799\n",
            "-------------------------------------------------------------\n",
            "\n",
            "loss : 0.3195\n",
            "accuracy : 0.8723\n",
            "-------------------------------------------------------------\n",
            "\n",
            "loss : 0.3244\n",
            "accuracy : 0.8722\n",
            "-------------------------------------------------------------\n",
            "\n",
            "loss : 0.3254\n",
            "accuracy : 0.8734\n",
            "-------------------------------------------------------------\n",
            "\n",
            "loss : 0.3204\n",
            "accuracy : 0.8759\n",
            "-------------------------------------------------------------\n",
            "\n",
            "loss : 0.3226\n",
            "accuracy : 0.8754\n",
            "-------------------------------------------------------------\n",
            "\n",
            "loss : 0.3219\n",
            "accuracy : 0.8752\n",
            "-------------------------------------------------------------\n",
            "\n",
            "loss : 0.3218\n",
            "accuracy : 0.8752\n",
            "-------------------------------------------------------------\n",
            "\n",
            "loss : 0.3198\n",
            "accuracy : 0.8759\n",
            "-------------------------------------------------------------\n",
            "\n",
            "loss : 0.3185\n",
            "accuracy : 0.8764\n",
            "-------------------------------------------------------------\n",
            "\n",
            "loss : 0.3222\n",
            "accuracy : 0.8745\n",
            "-------------------------------------------------------------\n",
            "\n",
            "loss : 0.3228\n",
            "accuracy : 0.8748\n",
            "-------------------------------------------------------------\n",
            "\n",
            "epoch loss : 0.3225\n",
            "accuracy : 0.8722\n",
            "epoch: 13\n",
            "-------------------------------------------------------------\n"
          ]
        },
        {
          "data": {
            "application/vnd.jupyter.widget-view+json": {
              "model_id": "1fe876295bac4fa69204120f62a1cd07",
              "version_major": 2,
              "version_minor": 0
            },
            "text/plain": [
              "  0%|          | 0/282 [00:00<?, ?it/s]"
            ]
          },
          "metadata": {},
          "output_type": "display_data"
        },
        {
          "name": "stdout",
          "output_type": "stream",
          "text": [
            "loss : 0.3131\n",
            "accuracy : 0.8805\n",
            "-------------------------------------------------------------\n",
            "\n",
            "loss : 0.3185\n",
            "accuracy : 0.8770\n",
            "-------------------------------------------------------------\n",
            "\n",
            "loss : 0.3164\n",
            "accuracy : 0.8766\n",
            "-------------------------------------------------------------\n",
            "\n",
            "loss : 0.3108\n",
            "accuracy : 0.8797\n",
            "-------------------------------------------------------------\n",
            "\n",
            "loss : 0.3106\n",
            "accuracy : 0.8783\n",
            "-------------------------------------------------------------\n",
            "\n",
            "loss : 0.3156\n",
            "accuracy : 0.8777\n",
            "-------------------------------------------------------------\n",
            "\n",
            "loss : 0.3161\n",
            "accuracy : 0.8780\n",
            "-------------------------------------------------------------\n",
            "\n",
            "loss : 0.3165\n",
            "accuracy : 0.8776\n",
            "-------------------------------------------------------------\n",
            "\n",
            "loss : 0.3198\n",
            "accuracy : 0.8762\n",
            "-------------------------------------------------------------\n",
            "\n",
            "loss : 0.3198\n",
            "accuracy : 0.8746\n",
            "-------------------------------------------------------------\n",
            "\n",
            "loss : 0.3219\n",
            "accuracy : 0.8735\n",
            "-------------------------------------------------------------\n",
            "\n",
            "loss : 0.3217\n",
            "accuracy : 0.8735\n",
            "-------------------------------------------------------------\n",
            "\n",
            "loss : 0.3218\n",
            "accuracy : 0.8733\n",
            "-------------------------------------------------------------\n",
            "\n",
            "loss : 0.3254\n",
            "accuracy : 0.8720\n",
            "-------------------------------------------------------------\n",
            "\n",
            "epoch loss : 0.3258\n",
            "accuracy : 0.8693\n",
            "epoch: 14\n",
            "-------------------------------------------------------------\n"
          ]
        },
        {
          "data": {
            "application/vnd.jupyter.widget-view+json": {
              "model_id": "a296976c0cfe458e9c711c91e9499d09",
              "version_major": 2,
              "version_minor": 0
            },
            "text/plain": [
              "  0%|          | 0/282 [00:00<?, ?it/s]"
            ]
          },
          "metadata": {},
          "output_type": "display_data"
        },
        {
          "name": "stdout",
          "output_type": "stream",
          "text": [
            "loss : 0.3097\n",
            "accuracy : 0.8828\n",
            "-------------------------------------------------------------\n",
            "\n",
            "loss : 0.3095\n",
            "accuracy : 0.8805\n",
            "-------------------------------------------------------------\n",
            "\n",
            "loss : 0.2987\n",
            "accuracy : 0.8849\n",
            "-------------------------------------------------------------\n",
            "\n",
            "loss : 0.3011\n",
            "accuracy : 0.8818\n",
            "-------------------------------------------------------------\n",
            "\n",
            "loss : 0.3008\n",
            "accuracy : 0.8825\n",
            "-------------------------------------------------------------\n",
            "\n",
            "loss : 0.3007\n",
            "accuracy : 0.8844\n",
            "-------------------------------------------------------------\n",
            "\n",
            "loss : 0.3010\n",
            "accuracy : 0.8854\n",
            "-------------------------------------------------------------\n",
            "\n",
            "loss : 0.3069\n",
            "accuracy : 0.8823\n",
            "-------------------------------------------------------------\n",
            "\n",
            "loss : 0.3065\n",
            "accuracy : 0.8820\n",
            "-------------------------------------------------------------\n",
            "\n",
            "loss : 0.3107\n",
            "accuracy : 0.8812\n",
            "-------------------------------------------------------------\n",
            "\n",
            "loss : 0.3127\n",
            "accuracy : 0.8795\n",
            "-------------------------------------------------------------\n",
            "\n",
            "loss : 0.3160\n",
            "accuracy : 0.8773\n",
            "-------------------------------------------------------------\n",
            "\n",
            "loss : 0.3189\n",
            "accuracy : 0.8764\n",
            "-------------------------------------------------------------\n",
            "\n",
            "loss : 0.3187\n",
            "accuracy : 0.8763\n",
            "-------------------------------------------------------------\n",
            "\n",
            "epoch loss : 0.3203\n",
            "accuracy : 0.8735\n",
            "epoch: 15\n",
            "-------------------------------------------------------------\n"
          ]
        },
        {
          "data": {
            "application/vnd.jupyter.widget-view+json": {
              "model_id": "cb00d930f65b45338b92e41bc2d16bc0",
              "version_major": 2,
              "version_minor": 0
            },
            "text/plain": [
              "  0%|          | 0/282 [00:00<?, ?it/s]"
            ]
          },
          "metadata": {},
          "output_type": "display_data"
        },
        {
          "name": "stdout",
          "output_type": "stream",
          "text": [
            "loss : 0.3590\n",
            "accuracy : 0.8586\n",
            "-------------------------------------------------------------\n",
            "\n",
            "loss : 0.3308\n",
            "accuracy : 0.8758\n",
            "-------------------------------------------------------------\n",
            "\n",
            "loss : 0.3290\n",
            "accuracy : 0.8755\n",
            "-------------------------------------------------------------\n",
            "\n",
            "loss : 0.3141\n",
            "accuracy : 0.8807\n",
            "-------------------------------------------------------------\n",
            "\n",
            "loss : 0.3092\n",
            "accuracy : 0.8811\n",
            "-------------------------------------------------------------\n",
            "\n",
            "loss : 0.3108\n",
            "accuracy : 0.8803\n",
            "-------------------------------------------------------------\n",
            "\n",
            "loss : 0.3112\n",
            "accuracy : 0.8789\n",
            "-------------------------------------------------------------\n",
            "\n",
            "loss : 0.3145\n",
            "accuracy : 0.8770\n",
            "-------------------------------------------------------------\n",
            "\n",
            "loss : 0.3150\n",
            "accuracy : 0.8777\n",
            "-------------------------------------------------------------\n",
            "\n",
            "loss : 0.3142\n",
            "accuracy : 0.8777\n",
            "-------------------------------------------------------------\n",
            "\n",
            "loss : 0.3153\n",
            "accuracy : 0.8766\n",
            "-------------------------------------------------------------\n",
            "\n",
            "loss : 0.3148\n",
            "accuracy : 0.8760\n",
            "-------------------------------------------------------------\n",
            "\n",
            "loss : 0.3145\n",
            "accuracy : 0.8767\n",
            "-------------------------------------------------------------\n",
            "\n",
            "loss : 0.3154\n",
            "accuracy : 0.8761\n",
            "-------------------------------------------------------------\n",
            "\n",
            "epoch loss : 0.3161\n",
            "accuracy : 0.8733\n",
            "epoch: 16\n",
            "-------------------------------------------------------------\n"
          ]
        },
        {
          "data": {
            "application/vnd.jupyter.widget-view+json": {
              "model_id": "2d38aef909b24203a56a340e3012bafe",
              "version_major": 2,
              "version_minor": 0
            },
            "text/plain": [
              "  0%|          | 0/282 [00:00<?, ?it/s]"
            ]
          },
          "metadata": {},
          "output_type": "display_data"
        },
        {
          "name": "stdout",
          "output_type": "stream",
          "text": [
            "loss : 0.2895\n",
            "accuracy : 0.8867\n",
            "-------------------------------------------------------------\n",
            "\n",
            "loss : 0.3095\n",
            "accuracy : 0.8824\n",
            "-------------------------------------------------------------\n",
            "\n",
            "loss : 0.2991\n",
            "accuracy : 0.8878\n",
            "-------------------------------------------------------------\n",
            "\n",
            "loss : 0.2999\n",
            "accuracy : 0.8873\n",
            "-------------------------------------------------------------\n",
            "\n",
            "loss : 0.2988\n",
            "accuracy : 0.8862\n",
            "-------------------------------------------------------------\n",
            "\n",
            "loss : 0.3003\n",
            "accuracy : 0.8848\n",
            "-------------------------------------------------------------\n",
            "\n",
            "loss : 0.3041\n",
            "accuracy : 0.8820\n",
            "-------------------------------------------------------------\n",
            "\n",
            "loss : 0.3044\n",
            "accuracy : 0.8812\n",
            "-------------------------------------------------------------\n",
            "\n",
            "loss : 0.3063\n",
            "accuracy : 0.8817\n",
            "-------------------------------------------------------------\n",
            "\n",
            "loss : 0.3105\n",
            "accuracy : 0.8798\n",
            "-------------------------------------------------------------\n",
            "\n",
            "loss : 0.3105\n",
            "accuracy : 0.8793\n",
            "-------------------------------------------------------------\n",
            "\n",
            "loss : 0.3119\n",
            "accuracy : 0.8779\n",
            "-------------------------------------------------------------\n",
            "\n",
            "loss : 0.3127\n",
            "accuracy : 0.8775\n",
            "-------------------------------------------------------------\n",
            "\n",
            "loss : 0.3139\n",
            "accuracy : 0.8773\n",
            "-------------------------------------------------------------\n",
            "\n",
            "epoch loss : 0.3131\n",
            "accuracy : 0.8750\n",
            "epoch: 17\n",
            "-------------------------------------------------------------\n"
          ]
        },
        {
          "data": {
            "application/vnd.jupyter.widget-view+json": {
              "model_id": "7ddd175cdd2945b09f08fa331a1acaa2",
              "version_major": 2,
              "version_minor": 0
            },
            "text/plain": [
              "  0%|          | 0/282 [00:00<?, ?it/s]"
            ]
          },
          "metadata": {},
          "output_type": "display_data"
        },
        {
          "name": "stdout",
          "output_type": "stream",
          "text": [
            "loss : 0.3038\n",
            "accuracy : 0.8789\n",
            "-------------------------------------------------------------\n",
            "\n",
            "loss : 0.3112\n",
            "accuracy : 0.8777\n",
            "-------------------------------------------------------------\n",
            "\n",
            "loss : 0.3035\n",
            "accuracy : 0.8831\n",
            "-------------------------------------------------------------\n",
            "\n",
            "loss : 0.3007\n",
            "accuracy : 0.8832\n",
            "-------------------------------------------------------------\n",
            "\n",
            "loss : 0.2998\n",
            "accuracy : 0.8828\n",
            "-------------------------------------------------------------\n",
            "\n",
            "loss : 0.2936\n",
            "accuracy : 0.8840\n",
            "-------------------------------------------------------------\n",
            "\n",
            "loss : 0.2920\n",
            "accuracy : 0.8850\n",
            "-------------------------------------------------------------\n",
            "\n",
            "loss : 0.2955\n",
            "accuracy : 0.8834\n",
            "-------------------------------------------------------------\n",
            "\n",
            "loss : 0.2934\n",
            "accuracy : 0.8842\n",
            "-------------------------------------------------------------\n",
            "\n",
            "loss : 0.2952\n",
            "accuracy : 0.8829\n",
            "-------------------------------------------------------------\n",
            "\n",
            "loss : 0.2946\n",
            "accuracy : 0.8837\n",
            "-------------------------------------------------------------\n",
            "\n",
            "loss : 0.2976\n",
            "accuracy : 0.8826\n",
            "-------------------------------------------------------------\n",
            "\n",
            "loss : 0.2975\n",
            "accuracy : 0.8833\n",
            "-------------------------------------------------------------\n",
            "\n",
            "loss : 0.2992\n",
            "accuracy : 0.8829\n",
            "-------------------------------------------------------------\n",
            "\n",
            "epoch loss : 0.3004\n",
            "accuracy : 0.8803\n",
            "epoch: 18\n",
            "-------------------------------------------------------------\n"
          ]
        },
        {
          "data": {
            "application/vnd.jupyter.widget-view+json": {
              "model_id": "5a368dba514443cd967ca620f0260c59",
              "version_major": 2,
              "version_minor": 0
            },
            "text/plain": [
              "  0%|          | 0/282 [00:00<?, ?it/s]"
            ]
          },
          "metadata": {},
          "output_type": "display_data"
        },
        {
          "name": "stdout",
          "output_type": "stream",
          "text": [
            "loss : 0.2804\n",
            "accuracy : 0.8891\n",
            "-------------------------------------------------------------\n",
            "\n",
            "loss : 0.2947\n",
            "accuracy : 0.8840\n",
            "-------------------------------------------------------------\n",
            "\n",
            "loss : 0.2924\n",
            "accuracy : 0.8818\n",
            "-------------------------------------------------------------\n",
            "\n",
            "loss : 0.2896\n",
            "accuracy : 0.8818\n",
            "-------------------------------------------------------------\n",
            "\n",
            "loss : 0.2974\n",
            "accuracy : 0.8798\n",
            "-------------------------------------------------------------\n",
            "\n",
            "loss : 0.3023\n",
            "accuracy : 0.8781\n",
            "-------------------------------------------------------------\n",
            "\n",
            "loss : 0.3022\n",
            "accuracy : 0.8776\n",
            "-------------------------------------------------------------\n",
            "\n",
            "loss : 0.3027\n",
            "accuracy : 0.8780\n",
            "-------------------------------------------------------------\n",
            "\n",
            "loss : 0.3011\n",
            "accuracy : 0.8789\n",
            "-------------------------------------------------------------\n",
            "\n",
            "loss : 0.3018\n",
            "accuracy : 0.8784\n",
            "-------------------------------------------------------------\n",
            "\n",
            "loss : 0.3037\n",
            "accuracy : 0.8786\n",
            "-------------------------------------------------------------\n",
            "\n",
            "loss : 0.3056\n",
            "accuracy : 0.8783\n",
            "-------------------------------------------------------------\n",
            "\n",
            "loss : 0.3049\n",
            "accuracy : 0.8782\n",
            "-------------------------------------------------------------\n",
            "\n",
            "loss : 0.3043\n",
            "accuracy : 0.8786\n",
            "-------------------------------------------------------------\n",
            "\n",
            "epoch loss : 0.3054\n",
            "accuracy : 0.8760\n",
            "epoch: 19\n",
            "-------------------------------------------------------------\n"
          ]
        },
        {
          "data": {
            "application/vnd.jupyter.widget-view+json": {
              "model_id": "01034760a15142c4a90f68f655e0681a",
              "version_major": 2,
              "version_minor": 0
            },
            "text/plain": [
              "  0%|          | 0/282 [00:00<?, ?it/s]"
            ]
          },
          "metadata": {},
          "output_type": "display_data"
        },
        {
          "name": "stdout",
          "output_type": "stream",
          "text": [
            "loss : 0.2656\n",
            "accuracy : 0.8977\n",
            "-------------------------------------------------------------\n",
            "\n",
            "loss : 0.2777\n",
            "accuracy : 0.8926\n",
            "-------------------------------------------------------------\n",
            "\n",
            "loss : 0.2888\n",
            "accuracy : 0.8914\n",
            "-------------------------------------------------------------\n",
            "\n",
            "loss : 0.2970\n",
            "accuracy : 0.8869\n",
            "-------------------------------------------------------------\n",
            "\n",
            "loss : 0.2954\n",
            "accuracy : 0.8867\n",
            "-------------------------------------------------------------\n",
            "\n",
            "loss : 0.2916\n",
            "accuracy : 0.8861\n",
            "-------------------------------------------------------------\n",
            "\n",
            "loss : 0.2969\n",
            "accuracy : 0.8846\n",
            "-------------------------------------------------------------\n",
            "\n",
            "loss : 0.2978\n",
            "accuracy : 0.8847\n",
            "-------------------------------------------------------------\n",
            "\n",
            "loss : 0.2975\n",
            "accuracy : 0.8852\n",
            "-------------------------------------------------------------\n",
            "\n",
            "loss : 0.2986\n",
            "accuracy : 0.8852\n",
            "-------------------------------------------------------------\n",
            "\n",
            "loss : 0.3000\n",
            "accuracy : 0.8846\n",
            "-------------------------------------------------------------\n",
            "\n",
            "loss : 0.2990\n",
            "accuracy : 0.8849\n",
            "-------------------------------------------------------------\n",
            "\n",
            "loss : 0.3003\n",
            "accuracy : 0.8851\n",
            "-------------------------------------------------------------\n",
            "\n",
            "loss : 0.2998\n",
            "accuracy : 0.8840\n",
            "-------------------------------------------------------------\n",
            "\n",
            "epoch loss : 0.3027\n",
            "accuracy : 0.8812\n"
          ]
        }
      ],
      "source": [
        "#acclerating gpu\n",
        "torch.backends.cudnn.benchmark = True\n",
        "\n",
        "model = model.cuda()\n",
        "\n",
        "# switch to train mode\n",
        "model.train()\n",
        "\n",
        "max_epochs = 20\n",
        "\n",
        "for epoch in range(max_epochs):\n",
        "    \n",
        "    epoch_loss = 0.0\n",
        "    epoch_acc = 0\n",
        "\n",
        "    print(f\"epoch: {epoch}\")\n",
        "    print(\"-------------------------------------------------------------\")\n",
        "\n",
        "    for i,(input,target) in enumerate(tqdm(train_loader),start = 1):\n",
        "        \n",
        "        input = input.cuda()\n",
        "        target = target.cuda()\n",
        "\n",
        "        output = model(input)\n",
        "\n",
        "        loss = criterion(output,target.squeeze(dim=-1))\n",
        "        \n",
        "        optimizer.zero_grad()\n",
        "        loss.backward()\n",
        "        optimizer.step()\n",
        "\n",
        "        epoch_loss += loss.item()\n",
        "\n",
        "        epoch_acc += sum(torch.argmax(output, dim=-1) == target.squeeze(dim=-1)).item()\n",
        "\n",
        "        if i % 20 == 0:\n",
        "            \n",
        "            print(f\"loss : {epoch_loss/i:.4f}\")\n",
        "            print(f\"accuracy : {epoch_acc/(i*batch_size):.4f}\")\n",
        "\n",
        "            torch.save(model.state_dict(), save_path)\n",
        "\n",
        "            print(\"-------------------------------------------------------------\")\n",
        "            print()\n",
        "\n",
        "    epoch_loss = epoch_loss/len(train_loader)\n",
        "    epoch_acc = epoch_acc/(len(train_loader)*batch_size)\n",
        "\n",
        "    print(f\"epoch loss : {epoch_loss:.4f}\")\n",
        "    print(f\"accuracy : {epoch_acc:.4f}\")\n",
        "\n",
        "    torch.save(model.state_dict(), save_path)"
      ]
    },
    {
      "cell_type": "code",
      "source": [
        "img = Image.open(\"/content/캡처.JPG\").convert('RGB')"
      ],
      "metadata": {
        "id": "1uHvAWCjadTo"
      },
      "execution_count": null,
      "outputs": []
    },
    {
      "cell_type": "code",
      "source": [
        "img = val_transform(img)"
      ],
      "metadata": {
        "id": "JXasrcj3arZk"
      },
      "execution_count": null,
      "outputs": []
    },
    {
      "cell_type": "code",
      "source": [
        "img = img.unsqueeze(0)"
      ],
      "metadata": {
        "id": "evQ1tb8Ka5YT"
      },
      "execution_count": null,
      "outputs": []
    },
    {
      "cell_type": "code",
      "source": [
        "output = model(img)"
      ],
      "metadata": {
        "id": "2Xs5iCtaa-uk"
      },
      "execution_count": null,
      "outputs": []
    },
    {
      "cell_type": "code",
      "source": [
        "torch.argmax(output,dim=-1)"
      ],
      "metadata": {
        "colab": {
          "base_uri": "https://localhost:8080/"
        },
        "id": "5pjWQpKfbBiC",
        "outputId": "76cf3453-95e3-4a75-fd9f-0e302b86ff39"
      },
      "execution_count": null,
      "outputs": [
        {
          "output_type": "execute_result",
          "data": {
            "text/plain": [
              "tensor([1])"
            ]
          },
          "metadata": {},
          "execution_count": 44
        }
      ]
    },
    {
      "cell_type": "code",
      "source": [
        "encoding_label_category = {\n",
        "    \"상의\":0,\n",
        "    \"하의\":1,\n",
        "    \"아우터\":2,\n",
        "    \"원피스\":3\n",
        "}"
      ],
      "metadata": {
        "id": "nKr0NuZtbKRO"
      },
      "execution_count": null,
      "outputs": []
    },
    {
      "cell_type": "code",
      "execution_count": null,
      "metadata": {
        "colab": {
          "base_uri": "https://localhost:8080/"
        },
        "id": "1hhIF5wgSh35",
        "outputId": "6b7fa212-2635-4437-fcb6-1573682917d9"
      },
      "outputs": [
        {
          "data": {
            "text/plain": [
              "21"
            ]
          },
          "execution_count": 30,
          "metadata": {},
          "output_type": "execute_result"
        }
      ],
      "source": [
        "sum(torch.argmax(output, dim=-1) == target.squeeze(dim=-1)).item()"
      ]
    },
    {
      "cell_type": "code",
      "execution_count": null,
      "metadata": {
        "colab": {
          "base_uri": "https://localhost:8080/"
        },
        "id": "hEciC4Q9Slsl",
        "outputId": "ff7aa3c9-e4d9-4e42-bf45-e2f638b9450f"
      },
      "outputs": [
        {
          "data": {
            "text/plain": [
              "tensor([2, 1, 1, 1, 0, 1, 0, 0, 1, 0, 0, 2, 0, 1, 2, 3, 0, 0, 1, 3, 3, 1, 0, 0,\n",
              "        3, 3, 0, 0, 1, 1, 1, 2, 1, 2, 3, 2, 1, 0, 1, 0, 3, 0, 0, 1, 1, 1, 3, 1,\n",
              "        0, 1, 2, 0, 3, 1, 1, 0, 2, 1, 1, 0, 1, 1, 2, 3], device='cuda:0')"
            ]
          },
          "execution_count": 26,
          "metadata": {},
          "output_type": "execute_result"
        }
      ],
      "source": [
        "target.squeeze(dim=-1)"
      ]
    },
    {
      "cell_type": "code",
      "execution_count": null,
      "metadata": {
        "colab": {
          "base_uri": "https://localhost:8080/"
        },
        "id": "99tE2ECjS4ad",
        "outputId": "4517bd88-f8ac-43cb-8aee-2d962efe2080"
      },
      "outputs": [
        {
          "data": {
            "text/plain": [
              "tensor([0, 2, 0, 2, 0, 0, 1, 3, 2, 2, 0, 0, 2, 0, 2, 0, 3, 0, 1, 2, 2, 2, 0, 0,\n",
              "        2, 3, 3, 0, 1, 0, 3, 2, 0, 2, 3, 0, 3, 3, 1, 0, 0, 0, 3, 3, 3, 0, 0, 3,\n",
              "        3, 0, 3, 0, 0, 0, 2, 0, 2, 0, 2, 0, 0, 1, 3, 0], device='cuda:0')"
            ]
          },
          "execution_count": 25,
          "metadata": {},
          "output_type": "execute_result"
        }
      ],
      "source": [
        "torch.argmax(output, dim=-1)"
      ]
    },
    {
      "cell_type": "code",
      "execution_count": null,
      "metadata": {
        "id": "HqcimiPrS7wd"
      },
      "outputs": [],
      "source": []
    }
  ],
  "metadata": {
    "colab": {
      "provenance": []
    },
    "gpuClass": "premium",
    "kernelspec": {
      "display_name": "Python 3",
      "name": "python3"
    },
    "language_info": {
      "name": "python"
    },
    "widgets": {
      "application/vnd.jupyter.widget-state+json": {
        "0939b175caf64dc696483b01bd1df3cc": {
          "model_module": "@jupyter-widgets/controls",
          "model_module_version": "1.5.0",
          "model_name": "HTMLModel",
          "state": {
            "_dom_classes": [],
            "_model_module": "@jupyter-widgets/controls",
            "_model_module_version": "1.5.0",
            "_model_name": "HTMLModel",
            "_view_count": null,
            "_view_module": "@jupyter-widgets/controls",
            "_view_module_version": "1.5.0",
            "_view_name": "HTMLView",
            "description": "",
            "description_tooltip": null,
            "layout": "IPY_MODEL_e31719f67094414988241e07f26d217c",
            "placeholder": "​",
            "style": "IPY_MODEL_b1bcda619a044945a830a5ebb66fce59",
            "value": " 11843/11843 [00:00&lt;00:00, 230599.20it/s]"
          }
        },
        "0c51d1314439462ba4ab8fbe91d1db4d": {
          "model_module": "@jupyter-widgets/controls",
          "model_module_version": "1.5.0",
          "model_name": "FloatProgressModel",
          "state": {
            "_dom_classes": [],
            "_model_module": "@jupyter-widgets/controls",
            "_model_module_version": "1.5.0",
            "_model_name": "FloatProgressModel",
            "_view_count": null,
            "_view_module": "@jupyter-widgets/controls",
            "_view_module_version": "1.5.0",
            "_view_name": "ProgressView",
            "bar_style": "success",
            "description": "",
            "description_tooltip": null,
            "layout": "IPY_MODEL_9bdca6bb29544b7ab72897c39156bf75",
            "max": 282,
            "min": 0,
            "orientation": "horizontal",
            "style": "IPY_MODEL_fd68d856df444be49087eb8064543dc1",
            "value": 282
          }
        },
        "11b3462c7822421d892146d947eed8cd": {
          "model_module": "@jupyter-widgets/base",
          "model_module_version": "1.2.0",
          "model_name": "LayoutModel",
          "state": {
            "_model_module": "@jupyter-widgets/base",
            "_model_module_version": "1.2.0",
            "_model_name": "LayoutModel",
            "_view_count": null,
            "_view_module": "@jupyter-widgets/base",
            "_view_module_version": "1.2.0",
            "_view_name": "LayoutView",
            "align_content": null,
            "align_items": null,
            "align_self": null,
            "border": null,
            "bottom": null,
            "display": null,
            "flex": null,
            "flex_flow": null,
            "grid_area": null,
            "grid_auto_columns": null,
            "grid_auto_flow": null,
            "grid_auto_rows": null,
            "grid_column": null,
            "grid_gap": null,
            "grid_row": null,
            "grid_template_areas": null,
            "grid_template_columns": null,
            "grid_template_rows": null,
            "height": null,
            "justify_content": null,
            "justify_items": null,
            "left": null,
            "margin": null,
            "max_height": null,
            "max_width": null,
            "min_height": null,
            "min_width": null,
            "object_fit": null,
            "object_position": null,
            "order": null,
            "overflow": null,
            "overflow_x": null,
            "overflow_y": null,
            "padding": null,
            "right": null,
            "top": null,
            "visibility": null,
            "width": null
          }
        },
        "1a8a2925f44e4158a7901c4bdd5a90e1": {
          "model_module": "@jupyter-widgets/controls",
          "model_module_version": "1.5.0",
          "model_name": "HTMLModel",
          "state": {
            "_dom_classes": [],
            "_model_module": "@jupyter-widgets/controls",
            "_model_module_version": "1.5.0",
            "_model_name": "HTMLModel",
            "_view_count": null,
            "_view_module": "@jupyter-widgets/controls",
            "_view_module_version": "1.5.0",
            "_view_name": "HTMLView",
            "description": "",
            "description_tooltip": null,
            "layout": "IPY_MODEL_e00d762f4c2d40eb81341ef7f0fe3770",
            "placeholder": "​",
            "style": "IPY_MODEL_e71d626d4d3e4687bb57f68efc880eec",
            "value": "100%"
          }
        },
        "1bc850294bbb4cf2bb97dcc00c9f79e3": {
          "model_module": "@jupyter-widgets/base",
          "model_module_version": "1.2.0",
          "model_name": "LayoutModel",
          "state": {
            "_model_module": "@jupyter-widgets/base",
            "_model_module_version": "1.2.0",
            "_model_name": "LayoutModel",
            "_view_count": null,
            "_view_module": "@jupyter-widgets/base",
            "_view_module_version": "1.2.0",
            "_view_name": "LayoutView",
            "align_content": null,
            "align_items": null,
            "align_self": null,
            "border": null,
            "bottom": null,
            "display": null,
            "flex": null,
            "flex_flow": null,
            "grid_area": null,
            "grid_auto_columns": null,
            "grid_auto_flow": null,
            "grid_auto_rows": null,
            "grid_column": null,
            "grid_gap": null,
            "grid_row": null,
            "grid_template_areas": null,
            "grid_template_columns": null,
            "grid_template_rows": null,
            "height": null,
            "justify_content": null,
            "justify_items": null,
            "left": null,
            "margin": null,
            "max_height": null,
            "max_width": null,
            "min_height": null,
            "min_width": null,
            "object_fit": null,
            "object_position": null,
            "order": null,
            "overflow": null,
            "overflow_x": null,
            "overflow_y": null,
            "padding": null,
            "right": null,
            "top": null,
            "visibility": null,
            "width": null
          }
        },
        "1d4cd76da6cd468080d278556c3411ea": {
          "model_module": "@jupyter-widgets/base",
          "model_module_version": "1.2.0",
          "model_name": "LayoutModel",
          "state": {
            "_model_module": "@jupyter-widgets/base",
            "_model_module_version": "1.2.0",
            "_model_name": "LayoutModel",
            "_view_count": null,
            "_view_module": "@jupyter-widgets/base",
            "_view_module_version": "1.2.0",
            "_view_name": "LayoutView",
            "align_content": null,
            "align_items": null,
            "align_self": null,
            "border": null,
            "bottom": null,
            "display": null,
            "flex": null,
            "flex_flow": null,
            "grid_area": null,
            "grid_auto_columns": null,
            "grid_auto_flow": null,
            "grid_auto_rows": null,
            "grid_column": null,
            "grid_gap": null,
            "grid_row": null,
            "grid_template_areas": null,
            "grid_template_columns": null,
            "grid_template_rows": null,
            "height": null,
            "justify_content": null,
            "justify_items": null,
            "left": null,
            "margin": null,
            "max_height": null,
            "max_width": null,
            "min_height": null,
            "min_width": null,
            "object_fit": null,
            "object_position": null,
            "order": null,
            "overflow": null,
            "overflow_x": null,
            "overflow_y": null,
            "padding": null,
            "right": null,
            "top": null,
            "visibility": null,
            "width": null
          }
        },
        "204ab8d828ee4ef58f229f7c3339718a": {
          "model_module": "@jupyter-widgets/controls",
          "model_module_version": "1.5.0",
          "model_name": "DescriptionStyleModel",
          "state": {
            "_model_module": "@jupyter-widgets/controls",
            "_model_module_version": "1.5.0",
            "_model_name": "DescriptionStyleModel",
            "_view_count": null,
            "_view_module": "@jupyter-widgets/base",
            "_view_module_version": "1.2.0",
            "_view_name": "StyleView",
            "description_width": ""
          }
        },
        "207ec297abb242dcba76cfb52432ed19": {
          "model_module": "@jupyter-widgets/controls",
          "model_module_version": "1.5.0",
          "model_name": "FloatProgressModel",
          "state": {
            "_dom_classes": [],
            "_model_module": "@jupyter-widgets/controls",
            "_model_module_version": "1.5.0",
            "_model_name": "FloatProgressModel",
            "_view_count": null,
            "_view_module": "@jupyter-widgets/controls",
            "_view_module_version": "1.5.0",
            "_view_name": "ProgressView",
            "bar_style": "success",
            "description": "",
            "description_tooltip": null,
            "layout": "IPY_MODEL_974faf78e71b408292fa68604f24a437",
            "max": 282,
            "min": 0,
            "orientation": "horizontal",
            "style": "IPY_MODEL_8810e251400e462b9d658d7b1cd1ef33",
            "value": 282
          }
        },
        "276d96b3b16c4942b9a814f8b7517b62": {
          "model_module": "@jupyter-widgets/controls",
          "model_module_version": "1.5.0",
          "model_name": "ProgressStyleModel",
          "state": {
            "_model_module": "@jupyter-widgets/controls",
            "_model_module_version": "1.5.0",
            "_model_name": "ProgressStyleModel",
            "_view_count": null,
            "_view_module": "@jupyter-widgets/base",
            "_view_module_version": "1.2.0",
            "_view_name": "StyleView",
            "bar_color": null,
            "description_width": ""
          }
        },
        "2a0822a616dd4c17a63aa1a8a5e70f39": {
          "model_module": "@jupyter-widgets/controls",
          "model_module_version": "1.5.0",
          "model_name": "HBoxModel",
          "state": {
            "_dom_classes": [],
            "_model_module": "@jupyter-widgets/controls",
            "_model_module_version": "1.5.0",
            "_model_name": "HBoxModel",
            "_view_count": null,
            "_view_module": "@jupyter-widgets/controls",
            "_view_module_version": "1.5.0",
            "_view_name": "HBoxView",
            "box_style": "",
            "children": [
              "IPY_MODEL_ab77d8c340b64bf8bce46d09edc9abfc",
              "IPY_MODEL_c734792484834af5bfb3347db6b94877",
              "IPY_MODEL_d3c28fe38af9435785760fa40b9487ac"
            ],
            "layout": "IPY_MODEL_446411f969b5490d9d50cf8d5d24fdde"
          }
        },
        "2ad620cbeb5e469db652d03968861e64": {
          "model_module": "@jupyter-widgets/controls",
          "model_module_version": "1.5.0",
          "model_name": "HBoxModel",
          "state": {
            "_dom_classes": [],
            "_model_module": "@jupyter-widgets/controls",
            "_model_module_version": "1.5.0",
            "_model_name": "HBoxModel",
            "_view_count": null,
            "_view_module": "@jupyter-widgets/controls",
            "_view_module_version": "1.5.0",
            "_view_name": "HBoxView",
            "box_style": "",
            "children": [
              "IPY_MODEL_1a8a2925f44e4158a7901c4bdd5a90e1",
              "IPY_MODEL_c77b08d159ef4839b275291e3fc2ba81",
              "IPY_MODEL_a51c9fb996fb4f1192932ccad073f074"
            ],
            "layout": "IPY_MODEL_68ac393563f04c768c9bb661c78cce6f"
          }
        },
        "354d18a3fba84304919538dbb278ffa6": {
          "model_module": "@jupyter-widgets/controls",
          "model_module_version": "1.5.0",
          "model_name": "HTMLModel",
          "state": {
            "_dom_classes": [],
            "_model_module": "@jupyter-widgets/controls",
            "_model_module_version": "1.5.0",
            "_model_name": "HTMLModel",
            "_view_count": null,
            "_view_module": "@jupyter-widgets/controls",
            "_view_module_version": "1.5.0",
            "_view_name": "HTMLView",
            "description": "",
            "description_tooltip": null,
            "layout": "IPY_MODEL_11b3462c7822421d892146d947eed8cd",
            "placeholder": "​",
            "style": "IPY_MODEL_e0ca458a8ab94c419905a687041afc08",
            "value": "100%"
          }
        },
        "368d60c4e81f4b088fdaf2d5cd8eb446": {
          "model_module": "@jupyter-widgets/controls",
          "model_module_version": "1.5.0",
          "model_name": "HTMLModel",
          "state": {
            "_dom_classes": [],
            "_model_module": "@jupyter-widgets/controls",
            "_model_module_version": "1.5.0",
            "_model_name": "HTMLModel",
            "_view_count": null,
            "_view_module": "@jupyter-widgets/controls",
            "_view_module_version": "1.5.0",
            "_view_name": "HTMLView",
            "description": "",
            "description_tooltip": null,
            "layout": "IPY_MODEL_79694b8f426e4051b83adede99b097e4",
            "placeholder": "​",
            "style": "IPY_MODEL_aeb1fb60dc164063ab70a8f76f4d0152",
            "value": " 282/282 [00:32&lt;00:00,  9.64it/s]"
          }
        },
        "36b8f0674dc14b1fafc19dec4c4f89c0": {
          "model_module": "@jupyter-widgets/controls",
          "model_module_version": "1.5.0",
          "model_name": "DescriptionStyleModel",
          "state": {
            "_model_module": "@jupyter-widgets/controls",
            "_model_module_version": "1.5.0",
            "_model_name": "DescriptionStyleModel",
            "_view_count": null,
            "_view_module": "@jupyter-widgets/base",
            "_view_module_version": "1.2.0",
            "_view_name": "StyleView",
            "description_width": ""
          }
        },
        "3960899d71394d23b249fe3309a2d211": {
          "model_module": "@jupyter-widgets/controls",
          "model_module_version": "1.5.0",
          "model_name": "HBoxModel",
          "state": {
            "_dom_classes": [],
            "_model_module": "@jupyter-widgets/controls",
            "_model_module_version": "1.5.0",
            "_model_name": "HBoxModel",
            "_view_count": null,
            "_view_module": "@jupyter-widgets/controls",
            "_view_module_version": "1.5.0",
            "_view_name": "HBoxView",
            "box_style": "",
            "children": [
              "IPY_MODEL_f54fa862aaf440a3b0fcef4dcab3a03d",
              "IPY_MODEL_0c51d1314439462ba4ab8fbe91d1db4d",
              "IPY_MODEL_5487bb96548b471e92add6b6d90044d8"
            ],
            "layout": "IPY_MODEL_812e2db396f3434dae20a29bfcf43a90"
          }
        },
        "3ee4fba577d449549d783b947d7854a4": {
          "model_module": "@jupyter-widgets/base",
          "model_module_version": "1.2.0",
          "model_name": "LayoutModel",
          "state": {
            "_model_module": "@jupyter-widgets/base",
            "_model_module_version": "1.2.0",
            "_model_name": "LayoutModel",
            "_view_count": null,
            "_view_module": "@jupyter-widgets/base",
            "_view_module_version": "1.2.0",
            "_view_name": "LayoutView",
            "align_content": null,
            "align_items": null,
            "align_self": null,
            "border": null,
            "bottom": null,
            "display": null,
            "flex": null,
            "flex_flow": null,
            "grid_area": null,
            "grid_auto_columns": null,
            "grid_auto_flow": null,
            "grid_auto_rows": null,
            "grid_column": null,
            "grid_gap": null,
            "grid_row": null,
            "grid_template_areas": null,
            "grid_template_columns": null,
            "grid_template_rows": null,
            "height": null,
            "justify_content": null,
            "justify_items": null,
            "left": null,
            "margin": null,
            "max_height": null,
            "max_width": null,
            "min_height": null,
            "min_width": null,
            "object_fit": null,
            "object_position": null,
            "order": null,
            "overflow": null,
            "overflow_x": null,
            "overflow_y": null,
            "padding": null,
            "right": null,
            "top": null,
            "visibility": null,
            "width": null
          }
        },
        "446411f969b5490d9d50cf8d5d24fdde": {
          "model_module": "@jupyter-widgets/base",
          "model_module_version": "1.2.0",
          "model_name": "LayoutModel",
          "state": {
            "_model_module": "@jupyter-widgets/base",
            "_model_module_version": "1.2.0",
            "_model_name": "LayoutModel",
            "_view_count": null,
            "_view_module": "@jupyter-widgets/base",
            "_view_module_version": "1.2.0",
            "_view_name": "LayoutView",
            "align_content": null,
            "align_items": null,
            "align_self": null,
            "border": null,
            "bottom": null,
            "display": null,
            "flex": null,
            "flex_flow": null,
            "grid_area": null,
            "grid_auto_columns": null,
            "grid_auto_flow": null,
            "grid_auto_rows": null,
            "grid_column": null,
            "grid_gap": null,
            "grid_row": null,
            "grid_template_areas": null,
            "grid_template_columns": null,
            "grid_template_rows": null,
            "height": null,
            "justify_content": null,
            "justify_items": null,
            "left": null,
            "margin": null,
            "max_height": null,
            "max_width": null,
            "min_height": null,
            "min_width": null,
            "object_fit": null,
            "object_position": null,
            "order": null,
            "overflow": null,
            "overflow_x": null,
            "overflow_y": null,
            "padding": null,
            "right": null,
            "top": null,
            "visibility": null,
            "width": null
          }
        },
        "4652dd0d7a8a4da6a4decdfe076795b8": {
          "model_module": "@jupyter-widgets/controls",
          "model_module_version": "1.5.0",
          "model_name": "FloatProgressModel",
          "state": {
            "_dom_classes": [],
            "_model_module": "@jupyter-widgets/controls",
            "_model_module_version": "1.5.0",
            "_model_name": "FloatProgressModel",
            "_view_count": null,
            "_view_module": "@jupyter-widgets/controls",
            "_view_module_version": "1.5.0",
            "_view_name": "ProgressView",
            "bar_style": "success",
            "description": "",
            "description_tooltip": null,
            "layout": "IPY_MODEL_c7ae660210b64d6c83eb210935cb6a59",
            "max": 11843,
            "min": 0,
            "orientation": "horizontal",
            "style": "IPY_MODEL_276d96b3b16c4942b9a814f8b7517b62",
            "value": 11843
          }
        },
        "5487bb96548b471e92add6b6d90044d8": {
          "model_module": "@jupyter-widgets/controls",
          "model_module_version": "1.5.0",
          "model_name": "HTMLModel",
          "state": {
            "_dom_classes": [],
            "_model_module": "@jupyter-widgets/controls",
            "_model_module_version": "1.5.0",
            "_model_name": "HTMLModel",
            "_view_count": null,
            "_view_module": "@jupyter-widgets/controls",
            "_view_module_version": "1.5.0",
            "_view_name": "HTMLView",
            "description": "",
            "description_tooltip": null,
            "layout": "IPY_MODEL_c62c5ac98f7c4845b54365b0c17c4884",
            "placeholder": "​",
            "style": "IPY_MODEL_6adac01b2e6d4df49637194ea5cffccc",
            "value": " 282/282 [03:32&lt;00:00,  8.45it/s]"
          }
        },
        "599f59d7a43b4371acc280f850d63773": {
          "model_module": "@jupyter-widgets/base",
          "model_module_version": "1.2.0",
          "model_name": "LayoutModel",
          "state": {
            "_model_module": "@jupyter-widgets/base",
            "_model_module_version": "1.2.0",
            "_model_name": "LayoutModel",
            "_view_count": null,
            "_view_module": "@jupyter-widgets/base",
            "_view_module_version": "1.2.0",
            "_view_name": "LayoutView",
            "align_content": null,
            "align_items": null,
            "align_self": null,
            "border": null,
            "bottom": null,
            "display": null,
            "flex": null,
            "flex_flow": null,
            "grid_area": null,
            "grid_auto_columns": null,
            "grid_auto_flow": null,
            "grid_auto_rows": null,
            "grid_column": null,
            "grid_gap": null,
            "grid_row": null,
            "grid_template_areas": null,
            "grid_template_columns": null,
            "grid_template_rows": null,
            "height": null,
            "justify_content": null,
            "justify_items": null,
            "left": null,
            "margin": null,
            "max_height": null,
            "max_width": null,
            "min_height": null,
            "min_width": null,
            "object_fit": null,
            "object_position": null,
            "order": null,
            "overflow": null,
            "overflow_x": null,
            "overflow_y": null,
            "padding": null,
            "right": null,
            "top": null,
            "visibility": null,
            "width": null
          }
        },
        "61805a48ffe942a68a1689cb548aa95b": {
          "model_module": "@jupyter-widgets/controls",
          "model_module_version": "1.5.0",
          "model_name": "DescriptionStyleModel",
          "state": {
            "_model_module": "@jupyter-widgets/controls",
            "_model_module_version": "1.5.0",
            "_model_name": "DescriptionStyleModel",
            "_view_count": null,
            "_view_module": "@jupyter-widgets/base",
            "_view_module_version": "1.2.0",
            "_view_name": "StyleView",
            "description_width": ""
          }
        },
        "68ac393563f04c768c9bb661c78cce6f": {
          "model_module": "@jupyter-widgets/base",
          "model_module_version": "1.2.0",
          "model_name": "LayoutModel",
          "state": {
            "_model_module": "@jupyter-widgets/base",
            "_model_module_version": "1.2.0",
            "_model_name": "LayoutModel",
            "_view_count": null,
            "_view_module": "@jupyter-widgets/base",
            "_view_module_version": "1.2.0",
            "_view_name": "LayoutView",
            "align_content": null,
            "align_items": null,
            "align_self": null,
            "border": null,
            "bottom": null,
            "display": null,
            "flex": null,
            "flex_flow": null,
            "grid_area": null,
            "grid_auto_columns": null,
            "grid_auto_flow": null,
            "grid_auto_rows": null,
            "grid_column": null,
            "grid_gap": null,
            "grid_row": null,
            "grid_template_areas": null,
            "grid_template_columns": null,
            "grid_template_rows": null,
            "height": null,
            "justify_content": null,
            "justify_items": null,
            "left": null,
            "margin": null,
            "max_height": null,
            "max_width": null,
            "min_height": null,
            "min_width": null,
            "object_fit": null,
            "object_position": null,
            "order": null,
            "overflow": null,
            "overflow_x": null,
            "overflow_y": null,
            "padding": null,
            "right": null,
            "top": null,
            "visibility": null,
            "width": null
          }
        },
        "6adac01b2e6d4df49637194ea5cffccc": {
          "model_module": "@jupyter-widgets/controls",
          "model_module_version": "1.5.0",
          "model_name": "DescriptionStyleModel",
          "state": {
            "_model_module": "@jupyter-widgets/controls",
            "_model_module_version": "1.5.0",
            "_model_name": "DescriptionStyleModel",
            "_view_count": null,
            "_view_module": "@jupyter-widgets/base",
            "_view_module_version": "1.2.0",
            "_view_name": "StyleView",
            "description_width": ""
          }
        },
        "6bc3b4a4099e45ac904ec1accb2edbc0": {
          "model_module": "@jupyter-widgets/base",
          "model_module_version": "1.2.0",
          "model_name": "LayoutModel",
          "state": {
            "_model_module": "@jupyter-widgets/base",
            "_model_module_version": "1.2.0",
            "_model_name": "LayoutModel",
            "_view_count": null,
            "_view_module": "@jupyter-widgets/base",
            "_view_module_version": "1.2.0",
            "_view_name": "LayoutView",
            "align_content": null,
            "align_items": null,
            "align_self": null,
            "border": null,
            "bottom": null,
            "display": null,
            "flex": null,
            "flex_flow": null,
            "grid_area": null,
            "grid_auto_columns": null,
            "grid_auto_flow": null,
            "grid_auto_rows": null,
            "grid_column": null,
            "grid_gap": null,
            "grid_row": null,
            "grid_template_areas": null,
            "grid_template_columns": null,
            "grid_template_rows": null,
            "height": null,
            "justify_content": null,
            "justify_items": null,
            "left": null,
            "margin": null,
            "max_height": null,
            "max_width": null,
            "min_height": null,
            "min_width": null,
            "object_fit": null,
            "object_position": null,
            "order": null,
            "overflow": null,
            "overflow_x": null,
            "overflow_y": null,
            "padding": null,
            "right": null,
            "top": null,
            "visibility": null,
            "width": null
          }
        },
        "72c4eef769a14d209a4af668f53f3937": {
          "model_module": "@jupyter-widgets/base",
          "model_module_version": "1.2.0",
          "model_name": "LayoutModel",
          "state": {
            "_model_module": "@jupyter-widgets/base",
            "_model_module_version": "1.2.0",
            "_model_name": "LayoutModel",
            "_view_count": null,
            "_view_module": "@jupyter-widgets/base",
            "_view_module_version": "1.2.0",
            "_view_name": "LayoutView",
            "align_content": null,
            "align_items": null,
            "align_self": null,
            "border": null,
            "bottom": null,
            "display": null,
            "flex": null,
            "flex_flow": null,
            "grid_area": null,
            "grid_auto_columns": null,
            "grid_auto_flow": null,
            "grid_auto_rows": null,
            "grid_column": null,
            "grid_gap": null,
            "grid_row": null,
            "grid_template_areas": null,
            "grid_template_columns": null,
            "grid_template_rows": null,
            "height": null,
            "justify_content": null,
            "justify_items": null,
            "left": null,
            "margin": null,
            "max_height": null,
            "max_width": null,
            "min_height": null,
            "min_width": null,
            "object_fit": null,
            "object_position": null,
            "order": null,
            "overflow": null,
            "overflow_x": null,
            "overflow_y": null,
            "padding": null,
            "right": null,
            "top": null,
            "visibility": null,
            "width": null
          }
        },
        "75adfd54e40140d08e03fc89303d93b2": {
          "model_module": "@jupyter-widgets/controls",
          "model_module_version": "1.5.0",
          "model_name": "ProgressStyleModel",
          "state": {
            "_model_module": "@jupyter-widgets/controls",
            "_model_module_version": "1.5.0",
            "_model_name": "ProgressStyleModel",
            "_view_count": null,
            "_view_module": "@jupyter-widgets/base",
            "_view_module_version": "1.2.0",
            "_view_name": "StyleView",
            "bar_color": null,
            "description_width": ""
          }
        },
        "79694b8f426e4051b83adede99b097e4": {
          "model_module": "@jupyter-widgets/base",
          "model_module_version": "1.2.0",
          "model_name": "LayoutModel",
          "state": {
            "_model_module": "@jupyter-widgets/base",
            "_model_module_version": "1.2.0",
            "_model_name": "LayoutModel",
            "_view_count": null,
            "_view_module": "@jupyter-widgets/base",
            "_view_module_version": "1.2.0",
            "_view_name": "LayoutView",
            "align_content": null,
            "align_items": null,
            "align_self": null,
            "border": null,
            "bottom": null,
            "display": null,
            "flex": null,
            "flex_flow": null,
            "grid_area": null,
            "grid_auto_columns": null,
            "grid_auto_flow": null,
            "grid_auto_rows": null,
            "grid_column": null,
            "grid_gap": null,
            "grid_row": null,
            "grid_template_areas": null,
            "grid_template_columns": null,
            "grid_template_rows": null,
            "height": null,
            "justify_content": null,
            "justify_items": null,
            "left": null,
            "margin": null,
            "max_height": null,
            "max_width": null,
            "min_height": null,
            "min_width": null,
            "object_fit": null,
            "object_position": null,
            "order": null,
            "overflow": null,
            "overflow_x": null,
            "overflow_y": null,
            "padding": null,
            "right": null,
            "top": null,
            "visibility": null,
            "width": null
          }
        },
        "812e2db396f3434dae20a29bfcf43a90": {
          "model_module": "@jupyter-widgets/base",
          "model_module_version": "1.2.0",
          "model_name": "LayoutModel",
          "state": {
            "_model_module": "@jupyter-widgets/base",
            "_model_module_version": "1.2.0",
            "_model_name": "LayoutModel",
            "_view_count": null,
            "_view_module": "@jupyter-widgets/base",
            "_view_module_version": "1.2.0",
            "_view_name": "LayoutView",
            "align_content": null,
            "align_items": null,
            "align_self": null,
            "border": null,
            "bottom": null,
            "display": null,
            "flex": null,
            "flex_flow": null,
            "grid_area": null,
            "grid_auto_columns": null,
            "grid_auto_flow": null,
            "grid_auto_rows": null,
            "grid_column": null,
            "grid_gap": null,
            "grid_row": null,
            "grid_template_areas": null,
            "grid_template_columns": null,
            "grid_template_rows": null,
            "height": null,
            "justify_content": null,
            "justify_items": null,
            "left": null,
            "margin": null,
            "max_height": null,
            "max_width": null,
            "min_height": null,
            "min_width": null,
            "object_fit": null,
            "object_position": null,
            "order": null,
            "overflow": null,
            "overflow_x": null,
            "overflow_y": null,
            "padding": null,
            "right": null,
            "top": null,
            "visibility": null,
            "width": null
          }
        },
        "8281095f834149c2869960de930884d3": {
          "model_module": "@jupyter-widgets/base",
          "model_module_version": "1.2.0",
          "model_name": "LayoutModel",
          "state": {
            "_model_module": "@jupyter-widgets/base",
            "_model_module_version": "1.2.0",
            "_model_name": "LayoutModel",
            "_view_count": null,
            "_view_module": "@jupyter-widgets/base",
            "_view_module_version": "1.2.0",
            "_view_name": "LayoutView",
            "align_content": null,
            "align_items": null,
            "align_self": null,
            "border": null,
            "bottom": null,
            "display": null,
            "flex": null,
            "flex_flow": null,
            "grid_area": null,
            "grid_auto_columns": null,
            "grid_auto_flow": null,
            "grid_auto_rows": null,
            "grid_column": null,
            "grid_gap": null,
            "grid_row": null,
            "grid_template_areas": null,
            "grid_template_columns": null,
            "grid_template_rows": null,
            "height": null,
            "justify_content": null,
            "justify_items": null,
            "left": null,
            "margin": null,
            "max_height": null,
            "max_width": null,
            "min_height": null,
            "min_width": null,
            "object_fit": null,
            "object_position": null,
            "order": null,
            "overflow": null,
            "overflow_x": null,
            "overflow_y": null,
            "padding": null,
            "right": null,
            "top": null,
            "visibility": null,
            "width": null
          }
        },
        "8810e251400e462b9d658d7b1cd1ef33": {
          "model_module": "@jupyter-widgets/controls",
          "model_module_version": "1.5.0",
          "model_name": "ProgressStyleModel",
          "state": {
            "_model_module": "@jupyter-widgets/controls",
            "_model_module_version": "1.5.0",
            "_model_name": "ProgressStyleModel",
            "_view_count": null,
            "_view_module": "@jupyter-widgets/base",
            "_view_module_version": "1.2.0",
            "_view_name": "StyleView",
            "bar_color": null,
            "description_width": ""
          }
        },
        "917f58b78b7c4d4da8e392615a2a9fa5": {
          "model_module": "@jupyter-widgets/controls",
          "model_module_version": "1.5.0",
          "model_name": "DescriptionStyleModel",
          "state": {
            "_model_module": "@jupyter-widgets/controls",
            "_model_module_version": "1.5.0",
            "_model_name": "DescriptionStyleModel",
            "_view_count": null,
            "_view_module": "@jupyter-widgets/base",
            "_view_module_version": "1.2.0",
            "_view_name": "StyleView",
            "description_width": ""
          }
        },
        "91d3e7b73f7041c7976c1434eb16695d": {
          "model_module": "@jupyter-widgets/controls",
          "model_module_version": "1.5.0",
          "model_name": "ProgressStyleModel",
          "state": {
            "_model_module": "@jupyter-widgets/controls",
            "_model_module_version": "1.5.0",
            "_model_name": "ProgressStyleModel",
            "_view_count": null,
            "_view_module": "@jupyter-widgets/base",
            "_view_module_version": "1.2.0",
            "_view_name": "StyleView",
            "bar_color": null,
            "description_width": ""
          }
        },
        "943193c980ed4dabafed91f0b4531b42": {
          "model_module": "@jupyter-widgets/controls",
          "model_module_version": "1.5.0",
          "model_name": "HTMLModel",
          "state": {
            "_dom_classes": [],
            "_model_module": "@jupyter-widgets/controls",
            "_model_module_version": "1.5.0",
            "_model_name": "HTMLModel",
            "_view_count": null,
            "_view_module": "@jupyter-widgets/controls",
            "_view_module_version": "1.5.0",
            "_view_name": "HTMLView",
            "description": "",
            "description_tooltip": null,
            "layout": "IPY_MODEL_dd82909f4d694c379c284ac52cf7aad6",
            "placeholder": "​",
            "style": "IPY_MODEL_ef0eb34f4b86451388011ae5221202c5",
            "value": " 282/282 [00:32&lt;00:00,  9.58it/s]"
          }
        },
        "974faf78e71b408292fa68604f24a437": {
          "model_module": "@jupyter-widgets/base",
          "model_module_version": "1.2.0",
          "model_name": "LayoutModel",
          "state": {
            "_model_module": "@jupyter-widgets/base",
            "_model_module_version": "1.2.0",
            "_model_name": "LayoutModel",
            "_view_count": null,
            "_view_module": "@jupyter-widgets/base",
            "_view_module_version": "1.2.0",
            "_view_name": "LayoutView",
            "align_content": null,
            "align_items": null,
            "align_self": null,
            "border": null,
            "bottom": null,
            "display": null,
            "flex": null,
            "flex_flow": null,
            "grid_area": null,
            "grid_auto_columns": null,
            "grid_auto_flow": null,
            "grid_auto_rows": null,
            "grid_column": null,
            "grid_gap": null,
            "grid_row": null,
            "grid_template_areas": null,
            "grid_template_columns": null,
            "grid_template_rows": null,
            "height": null,
            "justify_content": null,
            "justify_items": null,
            "left": null,
            "margin": null,
            "max_height": null,
            "max_width": null,
            "min_height": null,
            "min_width": null,
            "object_fit": null,
            "object_position": null,
            "order": null,
            "overflow": null,
            "overflow_x": null,
            "overflow_y": null,
            "padding": null,
            "right": null,
            "top": null,
            "visibility": null,
            "width": null
          }
        },
        "9bdca6bb29544b7ab72897c39156bf75": {
          "model_module": "@jupyter-widgets/base",
          "model_module_version": "1.2.0",
          "model_name": "LayoutModel",
          "state": {
            "_model_module": "@jupyter-widgets/base",
            "_model_module_version": "1.2.0",
            "_model_name": "LayoutModel",
            "_view_count": null,
            "_view_module": "@jupyter-widgets/base",
            "_view_module_version": "1.2.0",
            "_view_name": "LayoutView",
            "align_content": null,
            "align_items": null,
            "align_self": null,
            "border": null,
            "bottom": null,
            "display": null,
            "flex": null,
            "flex_flow": null,
            "grid_area": null,
            "grid_auto_columns": null,
            "grid_auto_flow": null,
            "grid_auto_rows": null,
            "grid_column": null,
            "grid_gap": null,
            "grid_row": null,
            "grid_template_areas": null,
            "grid_template_columns": null,
            "grid_template_rows": null,
            "height": null,
            "justify_content": null,
            "justify_items": null,
            "left": null,
            "margin": null,
            "max_height": null,
            "max_width": null,
            "min_height": null,
            "min_width": null,
            "object_fit": null,
            "object_position": null,
            "order": null,
            "overflow": null,
            "overflow_x": null,
            "overflow_y": null,
            "padding": null,
            "right": null,
            "top": null,
            "visibility": null,
            "width": null
          }
        },
        "a0970cd9efba4b6b85ddb99e23d909e8": {
          "model_module": "@jupyter-widgets/controls",
          "model_module_version": "1.5.0",
          "model_name": "HBoxModel",
          "state": {
            "_dom_classes": [],
            "_model_module": "@jupyter-widgets/controls",
            "_model_module_version": "1.5.0",
            "_model_name": "HBoxModel",
            "_view_count": null,
            "_view_module": "@jupyter-widgets/controls",
            "_view_module_version": "1.5.0",
            "_view_name": "HBoxView",
            "box_style": "",
            "children": [
              "IPY_MODEL_354d18a3fba84304919538dbb278ffa6",
              "IPY_MODEL_4652dd0d7a8a4da6a4decdfe076795b8",
              "IPY_MODEL_0939b175caf64dc696483b01bd1df3cc"
            ],
            "layout": "IPY_MODEL_f4a9aae34919443db544ce4136fad540"
          }
        },
        "a30d898e9fd74ceb8007c1799d48ca1f": {
          "model_module": "@jupyter-widgets/controls",
          "model_module_version": "1.5.0",
          "model_name": "DescriptionStyleModel",
          "state": {
            "_model_module": "@jupyter-widgets/controls",
            "_model_module_version": "1.5.0",
            "_model_name": "DescriptionStyleModel",
            "_view_count": null,
            "_view_module": "@jupyter-widgets/base",
            "_view_module_version": "1.2.0",
            "_view_name": "StyleView",
            "description_width": ""
          }
        },
        "a41be2eee0aa414ea5d28594baa7ca98": {
          "model_module": "@jupyter-widgets/base",
          "model_module_version": "1.2.0",
          "model_name": "LayoutModel",
          "state": {
            "_model_module": "@jupyter-widgets/base",
            "_model_module_version": "1.2.0",
            "_model_name": "LayoutModel",
            "_view_count": null,
            "_view_module": "@jupyter-widgets/base",
            "_view_module_version": "1.2.0",
            "_view_name": "LayoutView",
            "align_content": null,
            "align_items": null,
            "align_self": null,
            "border": null,
            "bottom": null,
            "display": null,
            "flex": null,
            "flex_flow": null,
            "grid_area": null,
            "grid_auto_columns": null,
            "grid_auto_flow": null,
            "grid_auto_rows": null,
            "grid_column": null,
            "grid_gap": null,
            "grid_row": null,
            "grid_template_areas": null,
            "grid_template_columns": null,
            "grid_template_rows": null,
            "height": null,
            "justify_content": null,
            "justify_items": null,
            "left": null,
            "margin": null,
            "max_height": null,
            "max_width": null,
            "min_height": null,
            "min_width": null,
            "object_fit": null,
            "object_position": null,
            "order": null,
            "overflow": null,
            "overflow_x": null,
            "overflow_y": null,
            "padding": null,
            "right": null,
            "top": null,
            "visibility": null,
            "width": null
          }
        },
        "a51c9fb996fb4f1192932ccad073f074": {
          "model_module": "@jupyter-widgets/controls",
          "model_module_version": "1.5.0",
          "model_name": "HTMLModel",
          "state": {
            "_dom_classes": [],
            "_model_module": "@jupyter-widgets/controls",
            "_model_module_version": "1.5.0",
            "_model_name": "HTMLModel",
            "_view_count": null,
            "_view_module": "@jupyter-widgets/controls",
            "_view_module_version": "1.5.0",
            "_view_name": "HTMLView",
            "description": "",
            "description_tooltip": null,
            "layout": "IPY_MODEL_1d4cd76da6cd468080d278556c3411ea",
            "placeholder": "​",
            "style": "IPY_MODEL_917f58b78b7c4d4da8e392615a2a9fa5",
            "value": " 282/282 [00:32&lt;00:00,  9.61it/s]"
          }
        },
        "ab77d8c340b64bf8bce46d09edc9abfc": {
          "model_module": "@jupyter-widgets/controls",
          "model_module_version": "1.5.0",
          "model_name": "HTMLModel",
          "state": {
            "_dom_classes": [],
            "_model_module": "@jupyter-widgets/controls",
            "_model_module_version": "1.5.0",
            "_model_name": "HTMLModel",
            "_view_count": null,
            "_view_module": "@jupyter-widgets/controls",
            "_view_module_version": "1.5.0",
            "_view_name": "HTMLView",
            "description": "",
            "description_tooltip": null,
            "layout": "IPY_MODEL_72c4eef769a14d209a4af668f53f3937",
            "placeholder": "​",
            "style": "IPY_MODEL_204ab8d828ee4ef58f229f7c3339718a",
            "value": " 51%"
          }
        },
        "ae64135beb7146f68a76f7d3ee308157": {
          "model_module": "@jupyter-widgets/base",
          "model_module_version": "1.2.0",
          "model_name": "LayoutModel",
          "state": {
            "_model_module": "@jupyter-widgets/base",
            "_model_module_version": "1.2.0",
            "_model_name": "LayoutModel",
            "_view_count": null,
            "_view_module": "@jupyter-widgets/base",
            "_view_module_version": "1.2.0",
            "_view_name": "LayoutView",
            "align_content": null,
            "align_items": null,
            "align_self": null,
            "border": null,
            "bottom": null,
            "display": null,
            "flex": null,
            "flex_flow": null,
            "grid_area": null,
            "grid_auto_columns": null,
            "grid_auto_flow": null,
            "grid_auto_rows": null,
            "grid_column": null,
            "grid_gap": null,
            "grid_row": null,
            "grid_template_areas": null,
            "grid_template_columns": null,
            "grid_template_rows": null,
            "height": null,
            "justify_content": null,
            "justify_items": null,
            "left": null,
            "margin": null,
            "max_height": null,
            "max_width": null,
            "min_height": null,
            "min_width": null,
            "object_fit": null,
            "object_position": null,
            "order": null,
            "overflow": null,
            "overflow_x": null,
            "overflow_y": null,
            "padding": null,
            "right": null,
            "top": null,
            "visibility": null,
            "width": null
          }
        },
        "aeb1fb60dc164063ab70a8f76f4d0152": {
          "model_module": "@jupyter-widgets/controls",
          "model_module_version": "1.5.0",
          "model_name": "DescriptionStyleModel",
          "state": {
            "_model_module": "@jupyter-widgets/controls",
            "_model_module_version": "1.5.0",
            "_model_name": "DescriptionStyleModel",
            "_view_count": null,
            "_view_module": "@jupyter-widgets/base",
            "_view_module_version": "1.2.0",
            "_view_name": "StyleView",
            "description_width": ""
          }
        },
        "b1b3c78aebd54cb19839feff9d53ca49": {
          "model_module": "@jupyter-widgets/controls",
          "model_module_version": "1.5.0",
          "model_name": "HTMLModel",
          "state": {
            "_dom_classes": [],
            "_model_module": "@jupyter-widgets/controls",
            "_model_module_version": "1.5.0",
            "_model_name": "HTMLModel",
            "_view_count": null,
            "_view_module": "@jupyter-widgets/controls",
            "_view_module_version": "1.5.0",
            "_view_name": "HTMLView",
            "description": "",
            "description_tooltip": null,
            "layout": "IPY_MODEL_599f59d7a43b4371acc280f850d63773",
            "placeholder": "​",
            "style": "IPY_MODEL_a30d898e9fd74ceb8007c1799d48ca1f",
            "value": "100%"
          }
        },
        "b1bcda619a044945a830a5ebb66fce59": {
          "model_module": "@jupyter-widgets/controls",
          "model_module_version": "1.5.0",
          "model_name": "DescriptionStyleModel",
          "state": {
            "_model_module": "@jupyter-widgets/controls",
            "_model_module_version": "1.5.0",
            "_model_name": "DescriptionStyleModel",
            "_view_count": null,
            "_view_module": "@jupyter-widgets/base",
            "_view_module_version": "1.2.0",
            "_view_name": "StyleView",
            "description_width": ""
          }
        },
        "bfbe1c462ec84f2087f7b3976e27ea13": {
          "model_module": "@jupyter-widgets/base",
          "model_module_version": "1.2.0",
          "model_name": "LayoutModel",
          "state": {
            "_model_module": "@jupyter-widgets/base",
            "_model_module_version": "1.2.0",
            "_model_name": "LayoutModel",
            "_view_count": null,
            "_view_module": "@jupyter-widgets/base",
            "_view_module_version": "1.2.0",
            "_view_name": "LayoutView",
            "align_content": null,
            "align_items": null,
            "align_self": null,
            "border": null,
            "bottom": null,
            "display": null,
            "flex": null,
            "flex_flow": null,
            "grid_area": null,
            "grid_auto_columns": null,
            "grid_auto_flow": null,
            "grid_auto_rows": null,
            "grid_column": null,
            "grid_gap": null,
            "grid_row": null,
            "grid_template_areas": null,
            "grid_template_columns": null,
            "grid_template_rows": null,
            "height": null,
            "justify_content": null,
            "justify_items": null,
            "left": null,
            "margin": null,
            "max_height": null,
            "max_width": null,
            "min_height": null,
            "min_width": null,
            "object_fit": null,
            "object_position": null,
            "order": null,
            "overflow": null,
            "overflow_x": null,
            "overflow_y": null,
            "padding": null,
            "right": null,
            "top": null,
            "visibility": null,
            "width": null
          }
        },
        "c5162e97b17647ed9a366abb4784cdde": {
          "model_module": "@jupyter-widgets/controls",
          "model_module_version": "1.5.0",
          "model_name": "ProgressStyleModel",
          "state": {
            "_model_module": "@jupyter-widgets/controls",
            "_model_module_version": "1.5.0",
            "_model_name": "ProgressStyleModel",
            "_view_count": null,
            "_view_module": "@jupyter-widgets/base",
            "_view_module_version": "1.2.0",
            "_view_name": "StyleView",
            "bar_color": null,
            "description_width": ""
          }
        },
        "c62c5ac98f7c4845b54365b0c17c4884": {
          "model_module": "@jupyter-widgets/base",
          "model_module_version": "1.2.0",
          "model_name": "LayoutModel",
          "state": {
            "_model_module": "@jupyter-widgets/base",
            "_model_module_version": "1.2.0",
            "_model_name": "LayoutModel",
            "_view_count": null,
            "_view_module": "@jupyter-widgets/base",
            "_view_module_version": "1.2.0",
            "_view_name": "LayoutView",
            "align_content": null,
            "align_items": null,
            "align_self": null,
            "border": null,
            "bottom": null,
            "display": null,
            "flex": null,
            "flex_flow": null,
            "grid_area": null,
            "grid_auto_columns": null,
            "grid_auto_flow": null,
            "grid_auto_rows": null,
            "grid_column": null,
            "grid_gap": null,
            "grid_row": null,
            "grid_template_areas": null,
            "grid_template_columns": null,
            "grid_template_rows": null,
            "height": null,
            "justify_content": null,
            "justify_items": null,
            "left": null,
            "margin": null,
            "max_height": null,
            "max_width": null,
            "min_height": null,
            "min_width": null,
            "object_fit": null,
            "object_position": null,
            "order": null,
            "overflow": null,
            "overflow_x": null,
            "overflow_y": null,
            "padding": null,
            "right": null,
            "top": null,
            "visibility": null,
            "width": null
          }
        },
        "c734792484834af5bfb3347db6b94877": {
          "model_module": "@jupyter-widgets/controls",
          "model_module_version": "1.5.0",
          "model_name": "FloatProgressModel",
          "state": {
            "_dom_classes": [],
            "_model_module": "@jupyter-widgets/controls",
            "_model_module_version": "1.5.0",
            "_model_name": "FloatProgressModel",
            "_view_count": null,
            "_view_module": "@jupyter-widgets/controls",
            "_view_module_version": "1.5.0",
            "_view_name": "ProgressView",
            "bar_style": "",
            "description": "",
            "description_tooltip": null,
            "layout": "IPY_MODEL_3ee4fba577d449549d783b947d7854a4",
            "max": 282,
            "min": 0,
            "orientation": "horizontal",
            "style": "IPY_MODEL_91d3e7b73f7041c7976c1434eb16695d",
            "value": 143
          }
        },
        "c77b08d159ef4839b275291e3fc2ba81": {
          "model_module": "@jupyter-widgets/controls",
          "model_module_version": "1.5.0",
          "model_name": "FloatProgressModel",
          "state": {
            "_dom_classes": [],
            "_model_module": "@jupyter-widgets/controls",
            "_model_module_version": "1.5.0",
            "_model_name": "FloatProgressModel",
            "_view_count": null,
            "_view_module": "@jupyter-widgets/controls",
            "_view_module_version": "1.5.0",
            "_view_name": "ProgressView",
            "bar_style": "success",
            "description": "",
            "description_tooltip": null,
            "layout": "IPY_MODEL_6bc3b4a4099e45ac904ec1accb2edbc0",
            "max": 282,
            "min": 0,
            "orientation": "horizontal",
            "style": "IPY_MODEL_c5162e97b17647ed9a366abb4784cdde",
            "value": 282
          }
        },
        "c7ae660210b64d6c83eb210935cb6a59": {
          "model_module": "@jupyter-widgets/base",
          "model_module_version": "1.2.0",
          "model_name": "LayoutModel",
          "state": {
            "_model_module": "@jupyter-widgets/base",
            "_model_module_version": "1.2.0",
            "_model_name": "LayoutModel",
            "_view_count": null,
            "_view_module": "@jupyter-widgets/base",
            "_view_module_version": "1.2.0",
            "_view_name": "LayoutView",
            "align_content": null,
            "align_items": null,
            "align_self": null,
            "border": null,
            "bottom": null,
            "display": null,
            "flex": null,
            "flex_flow": null,
            "grid_area": null,
            "grid_auto_columns": null,
            "grid_auto_flow": null,
            "grid_auto_rows": null,
            "grid_column": null,
            "grid_gap": null,
            "grid_row": null,
            "grid_template_areas": null,
            "grid_template_columns": null,
            "grid_template_rows": null,
            "height": null,
            "justify_content": null,
            "justify_items": null,
            "left": null,
            "margin": null,
            "max_height": null,
            "max_width": null,
            "min_height": null,
            "min_width": null,
            "object_fit": null,
            "object_position": null,
            "order": null,
            "overflow": null,
            "overflow_x": null,
            "overflow_y": null,
            "padding": null,
            "right": null,
            "top": null,
            "visibility": null,
            "width": null
          }
        },
        "c801318d00b74087b2acf8c59b2aa088": {
          "model_module": "@jupyter-widgets/controls",
          "model_module_version": "1.5.0",
          "model_name": "HTMLModel",
          "state": {
            "_dom_classes": [],
            "_model_module": "@jupyter-widgets/controls",
            "_model_module_version": "1.5.0",
            "_model_name": "HTMLModel",
            "_view_count": null,
            "_view_module": "@jupyter-widgets/controls",
            "_view_module_version": "1.5.0",
            "_view_name": "HTMLView",
            "description": "",
            "description_tooltip": null,
            "layout": "IPY_MODEL_ae64135beb7146f68a76f7d3ee308157",
            "placeholder": "​",
            "style": "IPY_MODEL_61805a48ffe942a68a1689cb548aa95b",
            "value": "100%"
          }
        },
        "d3c28fe38af9435785760fa40b9487ac": {
          "model_module": "@jupyter-widgets/controls",
          "model_module_version": "1.5.0",
          "model_name": "HTMLModel",
          "state": {
            "_dom_classes": [],
            "_model_module": "@jupyter-widgets/controls",
            "_model_module_version": "1.5.0",
            "_model_name": "HTMLModel",
            "_view_count": null,
            "_view_module": "@jupyter-widgets/controls",
            "_view_module_version": "1.5.0",
            "_view_name": "HTMLView",
            "description": "",
            "description_tooltip": null,
            "layout": "IPY_MODEL_8281095f834149c2869960de930884d3",
            "placeholder": "​",
            "style": "IPY_MODEL_36b8f0674dc14b1fafc19dec4c4f89c0",
            "value": " 143/282 [00:16&lt;00:15,  9.00it/s]"
          }
        },
        "d4ab3f53b9bd4a61814780fa9c959bf7": {
          "model_module": "@jupyter-widgets/controls",
          "model_module_version": "1.5.0",
          "model_name": "HBoxModel",
          "state": {
            "_dom_classes": [],
            "_model_module": "@jupyter-widgets/controls",
            "_model_module_version": "1.5.0",
            "_model_name": "HBoxModel",
            "_view_count": null,
            "_view_module": "@jupyter-widgets/controls",
            "_view_module_version": "1.5.0",
            "_view_name": "HBoxView",
            "box_style": "",
            "children": [
              "IPY_MODEL_c801318d00b74087b2acf8c59b2aa088",
              "IPY_MODEL_207ec297abb242dcba76cfb52432ed19",
              "IPY_MODEL_943193c980ed4dabafed91f0b4531b42"
            ],
            "layout": "IPY_MODEL_1bc850294bbb4cf2bb97dcc00c9f79e3"
          }
        },
        "d6504d6db36b4ee297c43497039a1f15": {
          "model_module": "@jupyter-widgets/base",
          "model_module_version": "1.2.0",
          "model_name": "LayoutModel",
          "state": {
            "_model_module": "@jupyter-widgets/base",
            "_model_module_version": "1.2.0",
            "_model_name": "LayoutModel",
            "_view_count": null,
            "_view_module": "@jupyter-widgets/base",
            "_view_module_version": "1.2.0",
            "_view_name": "LayoutView",
            "align_content": null,
            "align_items": null,
            "align_self": null,
            "border": null,
            "bottom": null,
            "display": null,
            "flex": null,
            "flex_flow": null,
            "grid_area": null,
            "grid_auto_columns": null,
            "grid_auto_flow": null,
            "grid_auto_rows": null,
            "grid_column": null,
            "grid_gap": null,
            "grid_row": null,
            "grid_template_areas": null,
            "grid_template_columns": null,
            "grid_template_rows": null,
            "height": null,
            "justify_content": null,
            "justify_items": null,
            "left": null,
            "margin": null,
            "max_height": null,
            "max_width": null,
            "min_height": null,
            "min_width": null,
            "object_fit": null,
            "object_position": null,
            "order": null,
            "overflow": null,
            "overflow_x": null,
            "overflow_y": null,
            "padding": null,
            "right": null,
            "top": null,
            "visibility": null,
            "width": null
          }
        },
        "dbf8d51fe7e54841a301f4ffe31e6cde": {
          "model_module": "@jupyter-widgets/controls",
          "model_module_version": "1.5.0",
          "model_name": "DescriptionStyleModel",
          "state": {
            "_model_module": "@jupyter-widgets/controls",
            "_model_module_version": "1.5.0",
            "_model_name": "DescriptionStyleModel",
            "_view_count": null,
            "_view_module": "@jupyter-widgets/base",
            "_view_module_version": "1.2.0",
            "_view_name": "StyleView",
            "description_width": ""
          }
        },
        "dd82909f4d694c379c284ac52cf7aad6": {
          "model_module": "@jupyter-widgets/base",
          "model_module_version": "1.2.0",
          "model_name": "LayoutModel",
          "state": {
            "_model_module": "@jupyter-widgets/base",
            "_model_module_version": "1.2.0",
            "_model_name": "LayoutModel",
            "_view_count": null,
            "_view_module": "@jupyter-widgets/base",
            "_view_module_version": "1.2.0",
            "_view_name": "LayoutView",
            "align_content": null,
            "align_items": null,
            "align_self": null,
            "border": null,
            "bottom": null,
            "display": null,
            "flex": null,
            "flex_flow": null,
            "grid_area": null,
            "grid_auto_columns": null,
            "grid_auto_flow": null,
            "grid_auto_rows": null,
            "grid_column": null,
            "grid_gap": null,
            "grid_row": null,
            "grid_template_areas": null,
            "grid_template_columns": null,
            "grid_template_rows": null,
            "height": null,
            "justify_content": null,
            "justify_items": null,
            "left": null,
            "margin": null,
            "max_height": null,
            "max_width": null,
            "min_height": null,
            "min_width": null,
            "object_fit": null,
            "object_position": null,
            "order": null,
            "overflow": null,
            "overflow_x": null,
            "overflow_y": null,
            "padding": null,
            "right": null,
            "top": null,
            "visibility": null,
            "width": null
          }
        },
        "e00d762f4c2d40eb81341ef7f0fe3770": {
          "model_module": "@jupyter-widgets/base",
          "model_module_version": "1.2.0",
          "model_name": "LayoutModel",
          "state": {
            "_model_module": "@jupyter-widgets/base",
            "_model_module_version": "1.2.0",
            "_model_name": "LayoutModel",
            "_view_count": null,
            "_view_module": "@jupyter-widgets/base",
            "_view_module_version": "1.2.0",
            "_view_name": "LayoutView",
            "align_content": null,
            "align_items": null,
            "align_self": null,
            "border": null,
            "bottom": null,
            "display": null,
            "flex": null,
            "flex_flow": null,
            "grid_area": null,
            "grid_auto_columns": null,
            "grid_auto_flow": null,
            "grid_auto_rows": null,
            "grid_column": null,
            "grid_gap": null,
            "grid_row": null,
            "grid_template_areas": null,
            "grid_template_columns": null,
            "grid_template_rows": null,
            "height": null,
            "justify_content": null,
            "justify_items": null,
            "left": null,
            "margin": null,
            "max_height": null,
            "max_width": null,
            "min_height": null,
            "min_width": null,
            "object_fit": null,
            "object_position": null,
            "order": null,
            "overflow": null,
            "overflow_x": null,
            "overflow_y": null,
            "padding": null,
            "right": null,
            "top": null,
            "visibility": null,
            "width": null
          }
        },
        "e0ca458a8ab94c419905a687041afc08": {
          "model_module": "@jupyter-widgets/controls",
          "model_module_version": "1.5.0",
          "model_name": "DescriptionStyleModel",
          "state": {
            "_model_module": "@jupyter-widgets/controls",
            "_model_module_version": "1.5.0",
            "_model_name": "DescriptionStyleModel",
            "_view_count": null,
            "_view_module": "@jupyter-widgets/base",
            "_view_module_version": "1.2.0",
            "_view_name": "StyleView",
            "description_width": ""
          }
        },
        "e31719f67094414988241e07f26d217c": {
          "model_module": "@jupyter-widgets/base",
          "model_module_version": "1.2.0",
          "model_name": "LayoutModel",
          "state": {
            "_model_module": "@jupyter-widgets/base",
            "_model_module_version": "1.2.0",
            "_model_name": "LayoutModel",
            "_view_count": null,
            "_view_module": "@jupyter-widgets/base",
            "_view_module_version": "1.2.0",
            "_view_name": "LayoutView",
            "align_content": null,
            "align_items": null,
            "align_self": null,
            "border": null,
            "bottom": null,
            "display": null,
            "flex": null,
            "flex_flow": null,
            "grid_area": null,
            "grid_auto_columns": null,
            "grid_auto_flow": null,
            "grid_auto_rows": null,
            "grid_column": null,
            "grid_gap": null,
            "grid_row": null,
            "grid_template_areas": null,
            "grid_template_columns": null,
            "grid_template_rows": null,
            "height": null,
            "justify_content": null,
            "justify_items": null,
            "left": null,
            "margin": null,
            "max_height": null,
            "max_width": null,
            "min_height": null,
            "min_width": null,
            "object_fit": null,
            "object_position": null,
            "order": null,
            "overflow": null,
            "overflow_x": null,
            "overflow_y": null,
            "padding": null,
            "right": null,
            "top": null,
            "visibility": null,
            "width": null
          }
        },
        "e407be2cca2e4bb7a11769c83acc049b": {
          "model_module": "@jupyter-widgets/controls",
          "model_module_version": "1.5.0",
          "model_name": "HBoxModel",
          "state": {
            "_dom_classes": [],
            "_model_module": "@jupyter-widgets/controls",
            "_model_module_version": "1.5.0",
            "_model_name": "HBoxModel",
            "_view_count": null,
            "_view_module": "@jupyter-widgets/controls",
            "_view_module_version": "1.5.0",
            "_view_name": "HBoxView",
            "box_style": "",
            "children": [
              "IPY_MODEL_b1b3c78aebd54cb19839feff9d53ca49",
              "IPY_MODEL_f6b064c2554e4b7a89b762f2b4fb6c14",
              "IPY_MODEL_368d60c4e81f4b088fdaf2d5cd8eb446"
            ],
            "layout": "IPY_MODEL_a41be2eee0aa414ea5d28594baa7ca98"
          }
        },
        "e71d626d4d3e4687bb57f68efc880eec": {
          "model_module": "@jupyter-widgets/controls",
          "model_module_version": "1.5.0",
          "model_name": "DescriptionStyleModel",
          "state": {
            "_model_module": "@jupyter-widgets/controls",
            "_model_module_version": "1.5.0",
            "_model_name": "DescriptionStyleModel",
            "_view_count": null,
            "_view_module": "@jupyter-widgets/base",
            "_view_module_version": "1.2.0",
            "_view_name": "StyleView",
            "description_width": ""
          }
        },
        "ef0eb34f4b86451388011ae5221202c5": {
          "model_module": "@jupyter-widgets/controls",
          "model_module_version": "1.5.0",
          "model_name": "DescriptionStyleModel",
          "state": {
            "_model_module": "@jupyter-widgets/controls",
            "_model_module_version": "1.5.0",
            "_model_name": "DescriptionStyleModel",
            "_view_count": null,
            "_view_module": "@jupyter-widgets/base",
            "_view_module_version": "1.2.0",
            "_view_name": "StyleView",
            "description_width": ""
          }
        },
        "f4a9aae34919443db544ce4136fad540": {
          "model_module": "@jupyter-widgets/base",
          "model_module_version": "1.2.0",
          "model_name": "LayoutModel",
          "state": {
            "_model_module": "@jupyter-widgets/base",
            "_model_module_version": "1.2.0",
            "_model_name": "LayoutModel",
            "_view_count": null,
            "_view_module": "@jupyter-widgets/base",
            "_view_module_version": "1.2.0",
            "_view_name": "LayoutView",
            "align_content": null,
            "align_items": null,
            "align_self": null,
            "border": null,
            "bottom": null,
            "display": null,
            "flex": null,
            "flex_flow": null,
            "grid_area": null,
            "grid_auto_columns": null,
            "grid_auto_flow": null,
            "grid_auto_rows": null,
            "grid_column": null,
            "grid_gap": null,
            "grid_row": null,
            "grid_template_areas": null,
            "grid_template_columns": null,
            "grid_template_rows": null,
            "height": null,
            "justify_content": null,
            "justify_items": null,
            "left": null,
            "margin": null,
            "max_height": null,
            "max_width": null,
            "min_height": null,
            "min_width": null,
            "object_fit": null,
            "object_position": null,
            "order": null,
            "overflow": null,
            "overflow_x": null,
            "overflow_y": null,
            "padding": null,
            "right": null,
            "top": null,
            "visibility": null,
            "width": null
          }
        },
        "f54fa862aaf440a3b0fcef4dcab3a03d": {
          "model_module": "@jupyter-widgets/controls",
          "model_module_version": "1.5.0",
          "model_name": "HTMLModel",
          "state": {
            "_dom_classes": [],
            "_model_module": "@jupyter-widgets/controls",
            "_model_module_version": "1.5.0",
            "_model_name": "HTMLModel",
            "_view_count": null,
            "_view_module": "@jupyter-widgets/controls",
            "_view_module_version": "1.5.0",
            "_view_name": "HTMLView",
            "description": "",
            "description_tooltip": null,
            "layout": "IPY_MODEL_bfbe1c462ec84f2087f7b3976e27ea13",
            "placeholder": "​",
            "style": "IPY_MODEL_dbf8d51fe7e54841a301f4ffe31e6cde",
            "value": "100%"
          }
        },
        "f6b064c2554e4b7a89b762f2b4fb6c14": {
          "model_module": "@jupyter-widgets/controls",
          "model_module_version": "1.5.0",
          "model_name": "FloatProgressModel",
          "state": {
            "_dom_classes": [],
            "_model_module": "@jupyter-widgets/controls",
            "_model_module_version": "1.5.0",
            "_model_name": "FloatProgressModel",
            "_view_count": null,
            "_view_module": "@jupyter-widgets/controls",
            "_view_module_version": "1.5.0",
            "_view_name": "ProgressView",
            "bar_style": "success",
            "description": "",
            "description_tooltip": null,
            "layout": "IPY_MODEL_d6504d6db36b4ee297c43497039a1f15",
            "max": 282,
            "min": 0,
            "orientation": "horizontal",
            "style": "IPY_MODEL_75adfd54e40140d08e03fc89303d93b2",
            "value": 282
          }
        },
        "fd68d856df444be49087eb8064543dc1": {
          "model_module": "@jupyter-widgets/controls",
          "model_module_version": "1.5.0",
          "model_name": "ProgressStyleModel",
          "state": {
            "_model_module": "@jupyter-widgets/controls",
            "_model_module_version": "1.5.0",
            "_model_name": "ProgressStyleModel",
            "_view_count": null,
            "_view_module": "@jupyter-widgets/base",
            "_view_module_version": "1.2.0",
            "_view_name": "StyleView",
            "bar_color": null,
            "description_width": ""
          }
        }
      }
    }
  },
  "nbformat": 4,
  "nbformat_minor": 0
}